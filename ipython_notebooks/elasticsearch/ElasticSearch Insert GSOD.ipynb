{
 "metadata": {
  "name": "",
  "signature": "sha256:592b9daef77b74b8f457a9430a3dfc710946369504076986af6205fcd8000d71"
 },
 "nbformat": 3,
 "nbformat_minor": 0,
 "worksheets": [
  {
   "cells": [
    {
     "cell_type": "heading",
     "level": 2,
     "metadata": {},
     "source": [
      "Imports"
     ]
    },
    {
     "cell_type": "code",
     "collapsed": false,
     "input": [
      "%pylab inline\n",
      "\n",
      "from __future__ import absolute_import\n",
      "from __future__ import division\n",
      "from __future__ import print_function\n",
      "\n",
      "from future.builtins import (bytes, str, open, super, range,\n",
      "                      zip, round, input, int, pow, object)\n",
      "\n",
      "if sys.version_info.major == 2:\n",
      "    # in Python 2 cPickle is much faster than pickle but doesn't \n",
      "    # deal w/ unicode\n",
      "    import cPickle as pickle\n",
      "else:\n",
      "    # Python 3 loads the faster pickle by default if it's available\n",
      "    import pickle\n",
      "\n",
      "# ---- Standard Libraries not included in pylab\n",
      "import collections\n",
      "import glob\n",
      "import json\n",
      "import random\n",
      "import time\n",
      "from StringIO import StringIO\n",
      "\n",
      "# ---- Extra Libraries for additional functionality\n",
      "import elasticsearch\n",
      "from elasticsearch import Elasticsearch\n",
      "\n",
      "# -------1---------2---------3---------4---------5---------6---------7---------8"
     ],
     "language": "python",
     "metadata": {},
     "outputs": [
      {
       "output_type": "stream",
       "stream": "stdout",
       "text": [
        "Populating the interactive namespace from numpy and matplotlib\n"
       ]
      },
      {
       "output_type": "stream",
       "stream": "stderr",
       "text": [
        "WARNING: pylab import has clobbered these variables: ['f', 'random', 'bytes']\n",
        "`%matplotlib` prevents importing * from pylab and numpy\n"
       ]
      }
     ],
     "prompt_number": 109
    },
    {
     "cell_type": "code",
     "collapsed": false,
     "input": [
      "def parse_observation(ob):\n",
      "    \"\"\" Given an observation (ob) as a string return a dictionary of the \n",
      "    observation with names and values.\n",
      "    \n",
      "    \"\"\"\n",
      "    header = [\"Station Id\", \"WBAN\", \"Date\", \"Mean Temp\", \"Num of Obs\", \"Dew Point\",\n",
      "              \"SLP\", \"STP\", \"Visibility\", \"Wind Speed\", \"Max Wind Speed\",\n",
      "              \"Gust\", \"Max Temp\", \"Min Temp\", \"Precipitation\", \"Snow Depth\", \"FRSHTT\"]\n",
      "    \n",
      "    ob = ob.strip(\"\\n\").split()\n",
      "    \n",
      "    # remove excess observation counts\n",
      "    for i in range(14, 4, -2): # backwards to preserve index nums\n",
      "        ob.pop(i)\n",
      "    \n",
      "    # add hyphens to date to enable elasticsearch to create a date from it\n",
      "    ob[2] = ob[2][0:4] + \"-\" + ob[2][4:6] + \"-\" + ob[2][6:8]\n",
      "    \n",
      "    # zip with header information into a dictionary and return it\n",
      "    return dict((element[0], element[1].strip(\"*\")) \n",
      "                           for element in zip(header, ob))"
     ],
     "language": "python",
     "metadata": {},
     "outputs": [],
     "prompt_number": 128
    },
    {
     "cell_type": "code",
     "collapsed": false,
     "input": [
      "def es_insert_year(index_name, year):\n",
      "    \"\"\" Given a year in the range 1929 to 2009 inclusive parses and inserts the\n",
      "    observations for that year into an elasticseach index of index_name.\n",
      "    \n",
      "    \"\"\"\n",
      "    es = Elasticsearch(['http://search-01.ec2.internal:9200'])\n",
      "    year = str(year)\n",
      "    gsod_dir = \"/home/schiefjm/weather/gsod/\" + year + \"/\"\n",
      "    \n",
      "    for file_name in glob.glob(gsod_dir + \"*\"):\n",
      "        with open(file_name, \"r\") as obs:\n",
      "            file_header = obs.readline()\n",
      "\n",
      "            for ob in obs:\n",
      "                es.index(\n",
      "                    index=index_name, \n",
      "                    doc_type=\"observation\", \n",
      "                    body=json.dumps(parse_observation(ob))\n",
      "                )"
     ],
     "language": "python",
     "metadata": {},
     "outputs": [],
     "prompt_number": 129
    },
    {
     "cell_type": "code",
     "collapsed": false,
     "input": [
      "from elasticsearch import Elasticsearch\n",
      "es = Elasticsearch(['http://search-01.ec2.internal:9200'])\n",
      "\n",
      "doc = {\n",
      "    'title': 'Test',\n",
      "    'text': 'This is some text to test with.'\n",
      "}\n",
      "\n",
      "result = es.index(\n",
      "             index = \"test_blog\", \n",
      "             doc_type = 'blog',\n",
      "             body = doc\n",
      "         )\n",
      "print(result['created'])"
     ],
     "language": "python",
     "metadata": {},
     "outputs": [
      {
       "output_type": "stream",
       "stream": "stdout",
       "text": [
        "True\n"
       ]
      }
     ],
     "prompt_number": 9
    },
    {
     "cell_type": "code",
     "collapsed": false,
     "input": [
      "curl -XDELETE \"http://search-01.ec2.internal:9200/test_blog\""
     ],
     "language": "python",
     "metadata": {},
     "outputs": [],
     "prompt_number": 6
    },
    {
     "cell_type": "code",
     "collapsed": false,
     "input": [],
     "language": "python",
     "metadata": {},
     "outputs": [
      {
       "output_type": "stream",
       "stream": "stderr",
       "text": [
        "WARNING:elasticsearch:POST http://test:9200/test_blog/blog [status:N/A request:0.004s]\n",
        "Traceback (most recent call last):\n",
        "  File \"/usr/local/anaconda/lib/python2.7/site-packages/elasticsearch/connection/http_urllib3.py\", line 71, in perform_request\n",
        "    response = self.pool.urlopen(method, url, body, retries=False, headers=self.headers, **kw)\n",
        "  File \"/usr/local/anaconda/lib/python2.7/site-packages/urllib3/connectionpool.py\", line 598, in urlopen\n",
        "    _pool=self, _stacktrace=stacktrace)\n",
        "  File \"/usr/local/anaconda/lib/python2.7/site-packages/urllib3/util/retry.py\", line 222, in increment\n",
        "    raise six.reraise(type(error), error, _stacktrace)\n",
        "  File \"/usr/local/anaconda/lib/python2.7/site-packages/urllib3/connectionpool.py\", line 544, in urlopen\n",
        "    body=body, headers=headers)\n",
        "  File \"/usr/local/anaconda/lib/python2.7/site-packages/urllib3/connectionpool.py\", line 349, in _make_request\n",
        "    conn.request(method, url, **httplib_request_kw)\n",
        "  File \"/usr/local/anaconda/lib/python2.7/httplib.py\", line 1001, in request\n",
        "    self._send_request(method, url, body, headers)\n",
        "  File \"/usr/local/anaconda/lib/python2.7/httplib.py\", line 1035, in _send_request\n",
        "    self.endheaders(body)\n",
        "  File \"/usr/local/anaconda/lib/python2.7/httplib.py\", line 997, in endheaders\n",
        "    self._send_output(message_body)\n",
        "  File \"/usr/local/anaconda/lib/python2.7/httplib.py\", line 850, in _send_output\n",
        "    self.send(msg)\n",
        "  File \"/usr/local/anaconda/lib/python2.7/httplib.py\", line 812, in send\n",
        "    self.connect()\n",
        "  File \"/usr/local/anaconda/lib/python2.7/site-packages/urllib3/connection.py\", line 155, in connect\n",
        "    conn = self._new_conn()\n",
        "  File \"/usr/local/anaconda/lib/python2.7/site-packages/urllib3/connection.py\", line 134, in _new_conn\n",
        "    (self.host, self.port), self.timeout, **extra_kw)\n",
        "  File \"/usr/local/anaconda/lib/python2.7/site-packages/urllib3/util/connection.py\", line 64, in create_connection\n",
        "    for res in socket.getaddrinfo(host, port, 0, socket.SOCK_STREAM):\n",
        "ProtocolError: ('Connection aborted.', gaierror(-2, 'Name or service not known'))\n"
       ]
      },
      {
       "output_type": "stream",
       "stream": "stderr",
       "text": [
        "WARNING:elasticsearch:POST http://test:9200/test_blog/blog [status:N/A request:0.001s]\n",
        "Traceback (most recent call last):\n",
        "  File \"/usr/local/anaconda/lib/python2.7/site-packages/elasticsearch/connection/http_urllib3.py\", line 71, in perform_request\n",
        "    response = self.pool.urlopen(method, url, body, retries=False, headers=self.headers, **kw)\n",
        "  File \"/usr/local/anaconda/lib/python2.7/site-packages/urllib3/connectionpool.py\", line 598, in urlopen\n",
        "    _pool=self, _stacktrace=stacktrace)\n",
        "  File \"/usr/local/anaconda/lib/python2.7/site-packages/urllib3/util/retry.py\", line 222, in increment\n",
        "    raise six.reraise(type(error), error, _stacktrace)\n",
        "  File \"/usr/local/anaconda/lib/python2.7/site-packages/urllib3/connectionpool.py\", line 544, in urlopen\n",
        "    body=body, headers=headers)\n",
        "  File \"/usr/local/anaconda/lib/python2.7/site-packages/urllib3/connectionpool.py\", line 349, in _make_request\n",
        "    conn.request(method, url, **httplib_request_kw)\n",
        "  File \"/usr/local/anaconda/lib/python2.7/httplib.py\", line 1001, in request\n",
        "    self._send_request(method, url, body, headers)\n",
        "  File \"/usr/local/anaconda/lib/python2.7/httplib.py\", line 1035, in _send_request\n",
        "    self.endheaders(body)\n",
        "  File \"/usr/local/anaconda/lib/python2.7/httplib.py\", line 997, in endheaders\n",
        "    self._send_output(message_body)\n",
        "  File \"/usr/local/anaconda/lib/python2.7/httplib.py\", line 850, in _send_output\n",
        "    self.send(msg)\n",
        "  File \"/usr/local/anaconda/lib/python2.7/httplib.py\", line 812, in send\n",
        "    self.connect()\n",
        "  File \"/usr/local/anaconda/lib/python2.7/site-packages/urllib3/connection.py\", line 155, in connect\n",
        "    conn = self._new_conn()\n",
        "  File \"/usr/local/anaconda/lib/python2.7/site-packages/urllib3/connection.py\", line 134, in _new_conn\n",
        "    (self.host, self.port), self.timeout, **extra_kw)\n",
        "  File \"/usr/local/anaconda/lib/python2.7/site-packages/urllib3/util/connection.py\", line 64, in create_connection\n",
        "    for res in socket.getaddrinfo(host, port, 0, socket.SOCK_STREAM):\n",
        "ProtocolError: ('Connection aborted.', gaierror(-2, 'Name or service not known'))\n"
       ]
      },
      {
       "output_type": "stream",
       "stream": "stderr",
       "text": [
        "WARNING:elasticsearch:POST http://test:9200/test_blog/blog [status:N/A request:0.001s]\n",
        "Traceback (most recent call last):\n",
        "  File \"/usr/local/anaconda/lib/python2.7/site-packages/elasticsearch/connection/http_urllib3.py\", line 71, in perform_request\n",
        "    response = self.pool.urlopen(method, url, body, retries=False, headers=self.headers, **kw)\n",
        "  File \"/usr/local/anaconda/lib/python2.7/site-packages/urllib3/connectionpool.py\", line 598, in urlopen\n",
        "    _pool=self, _stacktrace=stacktrace)\n",
        "  File \"/usr/local/anaconda/lib/python2.7/site-packages/urllib3/util/retry.py\", line 222, in increment\n",
        "    raise six.reraise(type(error), error, _stacktrace)\n",
        "  File \"/usr/local/anaconda/lib/python2.7/site-packages/urllib3/connectionpool.py\", line 544, in urlopen\n",
        "    body=body, headers=headers)\n",
        "  File \"/usr/local/anaconda/lib/python2.7/site-packages/urllib3/connectionpool.py\", line 349, in _make_request\n",
        "    conn.request(method, url, **httplib_request_kw)\n",
        "  File \"/usr/local/anaconda/lib/python2.7/httplib.py\", line 1001, in request\n",
        "    self._send_request(method, url, body, headers)\n",
        "  File \"/usr/local/anaconda/lib/python2.7/httplib.py\", line 1035, in _send_request\n",
        "    self.endheaders(body)\n",
        "  File \"/usr/local/anaconda/lib/python2.7/httplib.py\", line 997, in endheaders\n",
        "    self._send_output(message_body)\n",
        "  File \"/usr/local/anaconda/lib/python2.7/httplib.py\", line 850, in _send_output\n",
        "    self.send(msg)\n",
        "  File \"/usr/local/anaconda/lib/python2.7/httplib.py\", line 812, in send\n",
        "    self.connect()\n",
        "  File \"/usr/local/anaconda/lib/python2.7/site-packages/urllib3/connection.py\", line 155, in connect\n",
        "    conn = self._new_conn()\n",
        "  File \"/usr/local/anaconda/lib/python2.7/site-packages/urllib3/connection.py\", line 134, in _new_conn\n",
        "    (self.host, self.port), self.timeout, **extra_kw)\n",
        "  File \"/usr/local/anaconda/lib/python2.7/site-packages/urllib3/util/connection.py\", line 64, in create_connection\n",
        "    for res in socket.getaddrinfo(host, port, 0, socket.SOCK_STREAM):\n",
        "ProtocolError: ('Connection aborted.', gaierror(-2, 'Name or service not known'))\n"
       ]
      },
      {
       "output_type": "stream",
       "stream": "stderr",
       "text": [
        "WARNING:elasticsearch:POST http://test:9200/test_blog/blog [status:N/A request:0.001s]\n",
        "Traceback (most recent call last):\n",
        "  File \"/usr/local/anaconda/lib/python2.7/site-packages/elasticsearch/connection/http_urllib3.py\", line 71, in perform_request\n",
        "    response = self.pool.urlopen(method, url, body, retries=False, headers=self.headers, **kw)\n",
        "  File \"/usr/local/anaconda/lib/python2.7/site-packages/urllib3/connectionpool.py\", line 598, in urlopen\n",
        "    _pool=self, _stacktrace=stacktrace)\n",
        "  File \"/usr/local/anaconda/lib/python2.7/site-packages/urllib3/util/retry.py\", line 222, in increment\n",
        "    raise six.reraise(type(error), error, _stacktrace)\n",
        "  File \"/usr/local/anaconda/lib/python2.7/site-packages/urllib3/connectionpool.py\", line 544, in urlopen\n",
        "    body=body, headers=headers)\n",
        "  File \"/usr/local/anaconda/lib/python2.7/site-packages/urllib3/connectionpool.py\", line 349, in _make_request\n",
        "    conn.request(method, url, **httplib_request_kw)\n",
        "  File \"/usr/local/anaconda/lib/python2.7/httplib.py\", line 1001, in request\n",
        "    self._send_request(method, url, body, headers)\n",
        "  File \"/usr/local/anaconda/lib/python2.7/httplib.py\", line 1035, in _send_request\n",
        "    self.endheaders(body)\n",
        "  File \"/usr/local/anaconda/lib/python2.7/httplib.py\", line 997, in endheaders\n",
        "    self._send_output(message_body)\n",
        "  File \"/usr/local/anaconda/lib/python2.7/httplib.py\", line 850, in _send_output\n",
        "    self.send(msg)\n",
        "  File \"/usr/local/anaconda/lib/python2.7/httplib.py\", line 812, in send\n",
        "    self.connect()\n",
        "  File \"/usr/local/anaconda/lib/python2.7/site-packages/urllib3/connection.py\", line 155, in connect\n",
        "    conn = self._new_conn()\n",
        "  File \"/usr/local/anaconda/lib/python2.7/site-packages/urllib3/connection.py\", line 134, in _new_conn\n",
        "    (self.host, self.port), self.timeout, **extra_kw)\n",
        "  File \"/usr/local/anaconda/lib/python2.7/site-packages/urllib3/util/connection.py\", line 64, in create_connection\n",
        "    for res in socket.getaddrinfo(host, port, 0, socket.SOCK_STREAM):\n",
        "ProtocolError: ('Connection aborted.', gaierror(-2, 'Name or service not known'))\n"
       ]
      },
      {
       "ename": "ConnectionError",
       "evalue": "ConnectionError(('Connection aborted.', gaierror(-2, 'Name or service not known'))) caused by: ProtocolError(('Connection aborted.', gaierror(-2, 'Name or service not known')))",
       "output_type": "pyerr",
       "traceback": [
        "\u001b[1;31m---------------------------------------------------------------------------\u001b[0m\n\u001b[1;31mConnectionError\u001b[0m                           Traceback (most recent call last)",
        "\u001b[1;32m<ipython-input-8-6d98bf1149f1>\u001b[0m in \u001b[0;36m<module>\u001b[1;34m()\u001b[0m\n\u001b[0;32m      2\u001b[0m              \u001b[0mindex\u001b[0m \u001b[1;33m=\u001b[0m \u001b[1;34m\"test_blog\"\u001b[0m\u001b[1;33m,\u001b[0m\u001b[1;33m\u001b[0m\u001b[0m\n\u001b[0;32m      3\u001b[0m              \u001b[0mdoc_type\u001b[0m \u001b[1;33m=\u001b[0m \u001b[1;34m'blog'\u001b[0m\u001b[1;33m,\u001b[0m\u001b[1;33m\u001b[0m\u001b[0m\n\u001b[1;32m----> 4\u001b[1;33m              \u001b[0mbody\u001b[0m \u001b[1;33m=\u001b[0m \u001b[0mdoc\u001b[0m\u001b[1;33m\u001b[0m\u001b[0m\n\u001b[0m\u001b[0;32m      5\u001b[0m          )\n\u001b[0;32m      6\u001b[0m \u001b[1;32mprint\u001b[0m\u001b[1;33m(\u001b[0m\u001b[0mresult\u001b[0m\u001b[1;33m[\u001b[0m\u001b[1;34m'created'\u001b[0m\u001b[1;33m]\u001b[0m\u001b[1;33m)\u001b[0m\u001b[1;33m\u001b[0m\u001b[0m\n",
        "\u001b[1;32m/usr/local/anaconda/lib/python2.7/site-packages/elasticsearch/client/utils.pyc\u001b[0m in \u001b[0;36m_wrapped\u001b[1;34m(*args, **kwargs)\u001b[0m\n\u001b[0;32m     66\u001b[0m                 \u001b[1;32mif\u001b[0m \u001b[0mp\u001b[0m \u001b[1;32min\u001b[0m \u001b[0mkwargs\u001b[0m\u001b[1;33m:\u001b[0m\u001b[1;33m\u001b[0m\u001b[0m\n\u001b[0;32m     67\u001b[0m                     \u001b[0mparams\u001b[0m\u001b[1;33m[\u001b[0m\u001b[0mp\u001b[0m\u001b[1;33m]\u001b[0m \u001b[1;33m=\u001b[0m \u001b[0mkwargs\u001b[0m\u001b[1;33m.\u001b[0m\u001b[0mpop\u001b[0m\u001b[1;33m(\u001b[0m\u001b[0mp\u001b[0m\u001b[1;33m)\u001b[0m\u001b[1;33m\u001b[0m\u001b[0m\n\u001b[1;32m---> 68\u001b[1;33m             \u001b[1;32mreturn\u001b[0m \u001b[0mfunc\u001b[0m\u001b[1;33m(\u001b[0m\u001b[1;33m*\u001b[0m\u001b[0margs\u001b[0m\u001b[1;33m,\u001b[0m \u001b[0mparams\u001b[0m\u001b[1;33m=\u001b[0m\u001b[0mparams\u001b[0m\u001b[1;33m,\u001b[0m \u001b[1;33m**\u001b[0m\u001b[0mkwargs\u001b[0m\u001b[1;33m)\u001b[0m\u001b[1;33m\u001b[0m\u001b[0m\n\u001b[0m\u001b[0;32m     69\u001b[0m         \u001b[1;32mreturn\u001b[0m \u001b[0m_wrapped\u001b[0m\u001b[1;33m\u001b[0m\u001b[0m\n\u001b[0;32m     70\u001b[0m     \u001b[1;32mreturn\u001b[0m \u001b[0m_wrapper\u001b[0m\u001b[1;33m\u001b[0m\u001b[0m\n",
        "\u001b[1;32m/usr/local/anaconda/lib/python2.7/site-packages/elasticsearch/client/__init__.pyc\u001b[0m in \u001b[0;36mindex\u001b[1;34m(self, index, doc_type, body, id, params)\u001b[0m\n\u001b[0;32m    254\u001b[0m         \u001b[0mmethod\u001b[0m \u001b[1;33m=\u001b[0m \u001b[1;34m'POST'\u001b[0m \u001b[1;32mif\u001b[0m \u001b[0mid\u001b[0m \u001b[1;32min\u001b[0m \u001b[0mSKIP_IN_PATH\u001b[0m \u001b[1;32melse\u001b[0m \u001b[1;34m'PUT'\u001b[0m\u001b[1;33m\u001b[0m\u001b[0m\n\u001b[0;32m    255\u001b[0m         _, data = self.transport.perform_request(method,\n\u001b[1;32m--> 256\u001b[1;33m             _make_path(index, doc_type, id), params=params, body=body)\n\u001b[0m\u001b[0;32m    257\u001b[0m         \u001b[1;32mreturn\u001b[0m \u001b[0mdata\u001b[0m\u001b[1;33m\u001b[0m\u001b[0m\n\u001b[0;32m    258\u001b[0m \u001b[1;33m\u001b[0m\u001b[0m\n",
        "\u001b[1;32m/usr/local/anaconda/lib/python2.7/site-packages/elasticsearch/transport.pyc\u001b[0m in \u001b[0;36mperform_request\u001b[1;34m(self, method, url, params, body)\u001b[0m\n\u001b[0;32m    305\u001b[0m \u001b[1;33m\u001b[0m\u001b[0m\n\u001b[0;32m    306\u001b[0m             \u001b[1;32mtry\u001b[0m\u001b[1;33m:\u001b[0m\u001b[1;33m\u001b[0m\u001b[0m\n\u001b[1;32m--> 307\u001b[1;33m                 \u001b[0mstatus\u001b[0m\u001b[1;33m,\u001b[0m \u001b[0mheaders\u001b[0m\u001b[1;33m,\u001b[0m \u001b[0mdata\u001b[0m \u001b[1;33m=\u001b[0m \u001b[0mconnection\u001b[0m\u001b[1;33m.\u001b[0m\u001b[0mperform_request\u001b[0m\u001b[1;33m(\u001b[0m\u001b[0mmethod\u001b[0m\u001b[1;33m,\u001b[0m \u001b[0murl\u001b[0m\u001b[1;33m,\u001b[0m \u001b[0mparams\u001b[0m\u001b[1;33m,\u001b[0m \u001b[0mbody\u001b[0m\u001b[1;33m,\u001b[0m \u001b[0mignore\u001b[0m\u001b[1;33m=\u001b[0m\u001b[0mignore\u001b[0m\u001b[1;33m,\u001b[0m \u001b[0mtimeout\u001b[0m\u001b[1;33m=\u001b[0m\u001b[0mtimeout\u001b[0m\u001b[1;33m)\u001b[0m\u001b[1;33m\u001b[0m\u001b[0m\n\u001b[0m\u001b[0;32m    308\u001b[0m \u001b[1;33m\u001b[0m\u001b[0m\n\u001b[0;32m    309\u001b[0m             \u001b[1;32mexcept\u001b[0m \u001b[0mTransportError\u001b[0m \u001b[1;32mas\u001b[0m \u001b[0me\u001b[0m\u001b[1;33m:\u001b[0m\u001b[1;33m\u001b[0m\u001b[0m\n",
        "\u001b[1;32m/usr/local/anaconda/lib/python2.7/site-packages/elasticsearch/connection/http_urllib3.pyc\u001b[0m in \u001b[0;36mperform_request\u001b[1;34m(self, method, url, params, body, timeout, ignore)\u001b[0m\n\u001b[0;32m     80\u001b[0m         \u001b[1;32mexcept\u001b[0m \u001b[0mException\u001b[0m \u001b[1;32mas\u001b[0m \u001b[0me\u001b[0m\u001b[1;33m:\u001b[0m\u001b[1;33m\u001b[0m\u001b[0m\n\u001b[0;32m     81\u001b[0m             \u001b[0mself\u001b[0m\u001b[1;33m.\u001b[0m\u001b[0mlog_request_fail\u001b[0m\u001b[1;33m(\u001b[0m\u001b[0mmethod\u001b[0m\u001b[1;33m,\u001b[0m \u001b[0mfull_url\u001b[0m\u001b[1;33m,\u001b[0m \u001b[0mbody\u001b[0m\u001b[1;33m,\u001b[0m \u001b[0mtime\u001b[0m\u001b[1;33m.\u001b[0m\u001b[0mtime\u001b[0m\u001b[1;33m(\u001b[0m\u001b[1;33m)\u001b[0m \u001b[1;33m-\u001b[0m \u001b[0mstart\u001b[0m\u001b[1;33m,\u001b[0m \u001b[0mexception\u001b[0m\u001b[1;33m=\u001b[0m\u001b[0me\u001b[0m\u001b[1;33m)\u001b[0m\u001b[1;33m\u001b[0m\u001b[0m\n\u001b[1;32m---> 82\u001b[1;33m             \u001b[1;32mraise\u001b[0m \u001b[0mConnectionError\u001b[0m\u001b[1;33m(\u001b[0m\u001b[1;34m'N/A'\u001b[0m\u001b[1;33m,\u001b[0m \u001b[0mstr\u001b[0m\u001b[1;33m(\u001b[0m\u001b[0me\u001b[0m\u001b[1;33m)\u001b[0m\u001b[1;33m,\u001b[0m \u001b[0me\u001b[0m\u001b[1;33m)\u001b[0m\u001b[1;33m\u001b[0m\u001b[0m\n\u001b[0m\u001b[0;32m     83\u001b[0m \u001b[1;33m\u001b[0m\u001b[0m\n\u001b[0;32m     84\u001b[0m         \u001b[1;32mif\u001b[0m \u001b[1;32mnot\u001b[0m \u001b[1;33m(\u001b[0m\u001b[1;36m200\u001b[0m \u001b[1;33m<=\u001b[0m \u001b[0mresponse\u001b[0m\u001b[1;33m.\u001b[0m\u001b[0mstatus\u001b[0m \u001b[1;33m<\u001b[0m \u001b[1;36m300\u001b[0m\u001b[1;33m)\u001b[0m \u001b[1;32mand\u001b[0m \u001b[0mresponse\u001b[0m\u001b[1;33m.\u001b[0m\u001b[0mstatus\u001b[0m \u001b[1;32mnot\u001b[0m \u001b[1;32min\u001b[0m \u001b[0mignore\u001b[0m\u001b[1;33m:\u001b[0m\u001b[1;33m\u001b[0m\u001b[0m\n",
        "\u001b[1;31mConnectionError\u001b[0m: ConnectionError(('Connection aborted.', gaierror(-2, 'Name or service not known'))) caused by: ProtocolError(('Connection aborted.', gaierror(-2, 'Name or service not known')))"
       ]
      }
     ],
     "prompt_number": 8
    },
    {
     "cell_type": "code",
     "collapsed": false,
     "input": [],
     "language": "python",
     "metadata": {},
     "outputs": []
    }
   ],
   "metadata": {}
  }
 ]
}