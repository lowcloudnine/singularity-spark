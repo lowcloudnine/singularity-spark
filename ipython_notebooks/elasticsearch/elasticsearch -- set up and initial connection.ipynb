{
 "metadata": {
  "name": "",
  "signature": "sha256:53716a18a6e942f7ecf1ec6cd1fe330bfe9d510ec97b9d72a1349435d54c5c49"
 },
 "nbformat": 3,
 "nbformat_minor": 0,
 "worksheets": [
  {
   "cells": [
    {
     "cell_type": "heading",
     "level": 2,
     "metadata": {},
     "source": [
      "Imports"
     ]
    },
    {
     "cell_type": "code",
     "collapsed": false,
     "input": [
      "%pylab inline\n",
      "\n",
      "from __future__ import absolute_import\n",
      "from __future__ import division\n",
      "from __future__ import print_function\n",
      "\n",
      "from future.builtins import (bytes, str, open, super, range,\n",
      "                      zip, round, input, int, pow, object)\n",
      "\n",
      "# ---- Standard Libraries not included in pylab\n",
      "import collections\n",
      "import glob\n",
      "import json\n",
      "import random\n",
      "import time\n",
      "from StringIO import StringIO\n",
      "\n",
      "# ---- Extra Libraries for additional functionality\n",
      "import elasticsearch\n",
      "from elasticsearch import Elasticsearch"
     ],
     "language": "python",
     "metadata": {},
     "outputs": [
      {
       "output_type": "stream",
       "stream": "stdout",
       "text": [
        "Populating the interactive namespace from numpy and matplotlib\n"
       ]
      }
     ],
     "prompt_number": 1
    },
    {
     "cell_type": "code",
     "collapsed": false,
     "input": [
      "from elasticsearch import Elasticsearch\n",
      "es = Elasticsearch(['http://search-01.ec2.internal:9200'])\n",
      "\n",
      "doc = {\n",
      "    'title': 'Test',\n",
      "    'text': 'This is some text to test with.'\n",
      "}\n",
      "\n",
      "result = es.index(\n",
      "             index = \"test_blog\", \n",
      "             doc_type = 'blog',\n",
      "             body = doc\n",
      "         )\n",
      "print(result['created'])"
     ],
     "language": "python",
     "metadata": {},
     "outputs": [
      {
       "output_type": "stream",
       "stream": "stdout",
       "text": [
        "True\n"
       ]
      }
     ],
     "prompt_number": 6
    },
    {
     "cell_type": "code",
     "collapsed": false,
     "input": [
      "%%bash\n",
      "curl -XGET \"http://search-01.ec2.internal:9200/test_blog/_search\""
     ],
     "language": "python",
     "metadata": {},
     "outputs": [
      {
       "output_type": "stream",
       "stream": "stdout",
       "text": [
        "{\"took\":1,\"timed_out\":false,\"_shards\":{\"total\":5,\"successful\":5,\"failed\":0},\"hits\":{\"total\":1,\"max_score\":1.0,\"hits\":[{\"_index\":\"test_blog\",\"_type\":\"blog\",\"_id\":\"AUvggJJ8Bz2lIZwCeZg6\",\"_score\":1.0,\"_source\":{\"text\": \"This is some text to test with.\", \"title\": \"Test\"}}]}}"
       ]
      },
      {
       "output_type": "stream",
       "stream": "stderr",
       "text": [
        "  % Total    % Received % Xferd  Average Speed   Time    Time     Time  Current\n",
        "                                 Dload  Upload   Total   Spent    Left  Speed\n",
        "\r",
        "  0     0    0     0    0     0      0      0 --:--:-- --:--:-- --:--:--     0\r",
        "100   271  100   271    0     0  49443      0 --:--:-- --:--:-- --:--:-- 67750\n"
       ]
      }
     ],
     "prompt_number": 8
    },
    {
     "cell_type": "code",
     "collapsed": false,
     "input": [
      "%%bash\n",
      "curl -XDELETE \"http://search-01.ec2.internal:9200/test_blog\""
     ],
     "language": "python",
     "metadata": {},
     "outputs": [
      {
       "output_type": "stream",
       "stream": "stdout",
       "text": [
        "{\"acknowledged\":true}"
       ]
      },
      {
       "output_type": "stream",
       "stream": "stderr",
       "text": [
        "  % Total    % Received % Xferd  Average Speed   Time    Time     Time  Current\n",
        "                                 Dload  Upload   Total   Spent    Left  Speed\n",
        "\r",
        "  0     0    0     0    0     0      0      0 --:--:-- --:--:-- --:--:--     0\r",
        "100    21  100    21    0     0    436      0 --:--:-- --:--:-- --:--:--   456\n"
       ]
      }
     ],
     "prompt_number": 4
    }
   ],
   "metadata": {}
  }
 ]
}