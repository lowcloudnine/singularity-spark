{
 "metadata": {
  "name": "",
  "signature": "sha256:2cafd033ffb8260a5e9c0ec283d4ff40b16de402b158f797dc84d1f48e68a785"
 },
 "nbformat": 3,
 "nbformat_minor": 0,
 "worksheets": [
  {
   "cells": [
    {
     "cell_type": "heading",
     "level": 1,
     "metadata": {},
     "source": [
      "Using cURL with Elasticsearch"
     ]
    },
    {
     "cell_type": "markdown",
     "metadata": {},
     "source": [
      "The introductory documents and tutorials all use cURL (here after referred to by its command line name curl) to interact with Elasticsearch and demonstrate what is possible and what is returned.  Below is a short collection of these exercises with some explainations."
     ]
    },
    {
     "cell_type": "heading",
     "level": 3,
     "metadata": {},
     "source": [
      "Hello World!"
     ]
    },
    {
     "cell_type": "markdown",
     "metadata": {},
     "source": [
      "This first example for elasticsearch is almost always a simple get with no parameters.  It is a simple way to check to see if the environment and server are set and functioning properly.  Hence, the reason for the title.\n",
      "\n",
      "The examples are using an AWS instance, the user will need to change the server to either \"localhost\" for their personal machine or the URL for the elasticsearch server they are using."
     ]
    },
    {
     "cell_type": "code",
     "collapsed": false,
     "input": [
      "%%bash\n",
      "curl -XGET \"http://search-01.ec2.internal:9200/\""
     ],
     "language": "python",
     "metadata": {},
     "outputs": [
      {
       "output_type": "stream",
       "stream": "stdout",
       "text": [
        "{\n",
        "  \"status\" : 200,\n",
        "  \"name\" : \"search-01\",\n",
        "  \"cluster_name\" : \"protoglobe\",\n",
        "  \"version\" : {\n",
        "    \"number\" : \"1.4.4\",\n",
        "    \"build_hash\" : \"c88f77ffc81301dfa9dfd81ca2232f09588bd512\",\n",
        "    \"build_timestamp\" : \"2015-02-19T13:05:36Z\",\n",
        "    \"build_snapshot\" : false,\n",
        "    \"lucene_version\" : \"4.10.3\"\n",
        "  },\n",
        "  \"tagline\" : \"You Know, for Search\"\n",
        "}\n"
       ]
      },
      {
       "output_type": "stream",
       "stream": "stderr",
       "text": [
        "  % Total    % Received % Xferd  Average Speed   Time    Time     Time  Current\n",
        "                                 Dload  Upload   Total   Spent    Left  Speed\n",
        "\r",
        "  0     0    0     0    0     0      0      0 --:--:-- --:--:-- --:--:--     0\r",
        "100   334  100   334    0     0  93662      0 --:--:-- --:--:-- --:--:--  163k\n"
       ]
      }
     ],
     "prompt_number": 36
    },
    {
     "cell_type": "heading",
     "level": 3,
     "metadata": {},
     "source": [
      "Count"
     ]
    },
    {
     "cell_type": "markdown",
     "metadata": {},
     "source": [
      "Counting is faster than searching and should be used when the actual results are not needed.  From \"ElasticSearch Cookbook - Second Edition\":\n",
      "\n",
      "> It is often required to return only the count of the matched results and not the results themselves. The advantages of using a count request is the performance it offers and reduced resource usage, as a standard search call also returns hits count.\n",
      "\n",
      "The simplest count is a count of all the documents in elasticsearch."
     ]
    },
    {
     "cell_type": "code",
     "collapsed": false,
     "input": [
      "%%bash\n",
      "curl -XGET 'http://search-01.ec2.internal:9200/_count'"
     ],
     "language": "python",
     "metadata": {},
     "outputs": [
      {
       "output_type": "stream",
       "stream": "stdout",
       "text": [
        "{\"count\":415755520,\"_shards\":{\"total\":214,\"successful\":214,\"failed\":0}}"
       ]
      },
      {
       "output_type": "stream",
       "stream": "stderr",
       "text": [
        "  % Total    % Received % Xferd  Average Speed   Time    Time     Time  Current\n",
        "                                 Dload  Upload   Total   Spent    Left  Speed\n",
        "\r",
        "  0     0    0     0    0     0      0      0 --:--:-- --:--:-- --:--:--     0\r",
        "100    71  100    71    0     0     83      0 --:--:-- --:--:-- --:--:--    83\r",
        "100    71  100    71    0     0     83      0 --:--:-- --:--:-- --:--:--    83\n"
       ]
      }
     ],
     "prompt_number": 42
    },
    {
     "cell_type": "markdown",
     "metadata": {},
     "source": [
      "The second type of simple count is to count by index.  If the index is gdelt1979 then:"
     ]
    },
    {
     "cell_type": "heading",
     "level": 5,
     "metadata": {},
     "source": [
      "Example 1"
     ]
    },
    {
     "cell_type": "code",
     "collapsed": false,
     "input": [
      "%%bash\n",
      "curl -XGET 'http://search-01.ec2.internal:9200/gdelt1979/_count'"
     ],
     "language": "python",
     "metadata": {},
     "outputs": [
      {
       "output_type": "stream",
       "stream": "stdout",
       "text": [
        "{\"count\":430941,\"_shards\":{\"total\":5,\"successful\":5,\"failed\":0}}"
       ]
      },
      {
       "output_type": "stream",
       "stream": "stderr",
       "text": [
        "  % Total    % Received % Xferd  Average Speed   Time    Time     Time  Current\n",
        "                                 Dload  Upload   Total   Spent    Left  Speed\n",
        "\r",
        "  0     0    0     0    0     0      0      0 --:--:-- --:--:-- --:--:--     0\r",
        "100    64  100    64    0     0   9683      0 --:--:-- --:--:-- --:--:-- 12800\n"
       ]
      }
     ],
     "prompt_number": 48
    },
    {
     "cell_type": "markdown",
     "metadata": {},
     "source": [
      "or if the index is the Global Summary of the Day data, i.e. gsod then:"
     ]
    },
    {
     "cell_type": "heading",
     "level": 5,
     "metadata": {},
     "source": [
      "Example 2"
     ]
    },
    {
     "cell_type": "code",
     "collapsed": false,
     "input": [
      "%%bash\n",
      "curl -XGET 'http://search-01.ec2.internal:9200/gsod/_count'"
     ],
     "language": "python",
     "metadata": {},
     "outputs": [
      {
       "output_type": "stream",
       "stream": "stdout",
       "text": [
        "{\"count\":125411455,\"_shards\":{\"total\":5,\"successful\":5,\"failed\":0}}"
       ]
      },
      {
       "output_type": "stream",
       "stream": "stderr",
       "text": [
        "  % Total    % Received % Xferd  Average Speed   Time    Time     Time  Current\n",
        "                                 Dload  Upload   Total   Spent    Left  Speed\n",
        "\r",
        "  0     0    0     0    0     0      0      0 --:--:-- --:--:-- --:--:--     0\r",
        "100    67  100    67    0     0    108      0 --:--:-- --:--:-- --:--:--   108\r",
        "100    67  100    67    0     0    108      0 --:--:-- --:--:-- --:--:--   108\n"
       ]
      }
     ],
     "prompt_number": 47
    },
    {
     "cell_type": "markdown",
     "metadata": {},
     "source": [
      "If the user prefers a nicer looking output then a request to make it pretty is in order."
     ]
    },
    {
     "cell_type": "code",
     "collapsed": false,
     "input": [
      "%%bash\n",
      "curl -XGET 'http://search-01.ec2.internal:9200/gsod/_count?pretty'"
     ],
     "language": "python",
     "metadata": {},
     "outputs": [
      {
       "output_type": "stream",
       "stream": "stdout",
       "text": [
        "{\n",
        "  \"count\" : 125411455,\n",
        "  \"_shards\" : {\n",
        "    \"total\" : 5,\n",
        "    \"successful\" : 5,\n",
        "    \"failed\" : 0\n",
        "  }\n",
        "}\n"
       ]
      },
      {
       "output_type": "stream",
       "stream": "stderr",
       "text": [
        "  % Total    % Received % Xferd  Average Speed   Time    Time     Time  Current\n",
        "                                 Dload  Upload   Total   Spent    Left  Speed\n",
        "\r",
        "  0     0    0     0    0     0      0      0 --:--:-- --:--:-- --:--:--     0\r",
        "100   103  100   103    0     0    270      0 --:--:-- --:--:-- --:--:--   271\n"
       ]
      }
     ],
     "prompt_number": 49
    },
    {
     "cell_type": "heading",
     "level": 5,
     "metadata": {},
     "source": [
      "Count Summary"
     ]
    },
    {
     "cell_type": "markdown",
     "metadata": {},
     "source": [
      "Keep in mind counts can be as complicated as searches.  Just changing _count to _search and vice versa changes how elasticsearch handles the request.\n",
      "\n",
      "With that said it is now time to show and develop some search examples."
     ]
    },
    {
     "cell_type": "heading",
     "level": 3,
     "metadata": {},
     "source": [
      "Search"
     ]
    },
    {
     "cell_type": "markdown",
     "metadata": {},
     "source": [
      "Search is the main use for elasticsearch, hence the name and where the bulk of the examples will be.  This notebook will attempt to take the user through examples that show only one new feature at a time.  This will hopefully allow the user to see the order of commands which is unfortuantely important to elasticsearch.\n",
      "\n",
      "As with count above it will start with a simple example."
     ]
    },
    {
     "cell_type": "code",
     "collapsed": false,
     "input": [
      "%%bash\n",
      "curl -XGET 'http://search-01.ec2.internal:9200/gsod/_search'"
     ],
     "language": "python",
     "metadata": {},
     "outputs": [
      {
       "output_type": "stream",
       "stream": "stdout",
       "text": [
        "{\"took\":464,\"timed_out\":false,\"_shards\":{\"total\":5,\"successful\":5,\"failed\":0},\"hits\":{\"total\":125411455,\"max_score\":1.0,\"hits\":[{\"_index\":\"gsod\",\"_type\":\"observation\",\"_id\":\"AUvBKEuvDzV4m8XpNo3S\",\"_score\":1.0,\"_source\":{\"Wind Speed\": \"10.4\", \"Precipitation\": \"0.00I\", \"Snow Depth\": \"999.9\", \"Gust\": \"999.9\", \"Max Wind Speed\": \"16.9\", \"FRSHTT\": \"000000\", \"SLP\": \"1010.4\", \"Mean Temp\": \"45.3\", \"Dew Point\": \"40.9\", \"Max Temp\": \"55.4\", \"STP\": \"993.4\", \"Visibility\": \"14.8\", \"WBAN\": \"14714\", \"Date\": \"1948-04-28\", \"Station Id\": \"725038\", \"Num of Obs\": \"24\", \"Min Temp\": \"38.3\"}},{\"_index\":\"gsod\",\"_type\":\"observation\",\"_id\":\"AUvBKEulDzV4m8XpNo3K\",\"_score\":1.0,\"_source\":{\"Wind Speed\": \"8.3\", \"Precipitation\": \"0.00G\", \"Snow Depth\": \"999.9\", \"Gust\": \"999.9\", \"Max Wind Speed\": \"13.0\", \"FRSHTT\": \"000000\", \"SLP\": \"1011.1\", \"Mean Temp\": \"63.6\", \"Dew Point\": \"48.7\", \"Max Temp\": \"80.1\", \"STP\": \"1007.5\", \"Visibility\": \"999.9\", \"WBAN\": \"99999\", \"Date\": \"2008-04-24\", \"Station Id\": \"945680\", \"Num of Obs\": \"7\", \"Min Temp\": \"56.7\"}},{\"_index\":\"gsod\",\"_type\":\"observation\",\"_id\":\"AUvBKEvfDzV4m8XpNo3r\",\"_score\":1.0,\"_source\":{\"Wind Speed\": \"7.1\", \"Precipitation\": \"0.00I\", \"Snow Depth\": \"999.9\", \"Gust\": \"19.0\", \"Max Wind Speed\": \"14.0\", \"FRSHTT\": \"000000\", \"SLP\": \"1008.2\", \"Mean Temp\": \"87.6\", \"Dew Point\": \"57.8\", \"Max Temp\": \"100.4\", \"STP\": \"9999.9\", \"Visibility\": \"10.0\", \"WBAN\": \"99999\", \"Date\": \"2006-08-04\", \"Station Id\": \"722868\", \"Num of Obs\": \"24\", \"Min Temp\": \"75.2\"}},{\"_index\":\"gsod\",\"_type\":\"observation\",\"_id\":\"AUvBKEwXDzV4m8XpNo4m\",\"_score\":1.0,\"_source\":{\"Wind Speed\": \"4.0\", \"Precipitation\": \"0.00G\", \"Snow Depth\": \"999.9\", \"Gust\": \"999.9\", \"Max Wind Speed\": \"7.0\", \"FRSHTT\": \"000000\", \"SLP\": \"1020.8\", \"Mean Temp\": \"52.2\", \"Dew Point\": \"33.1\", \"Max Temp\": \"71.6\", \"STP\": \"1017.2\", \"Visibility\": \"18.6\", \"WBAN\": \"99999\", \"Date\": \"2008-04-29\", \"Station Id\": \"945680\", \"Num of Obs\": \"8\", \"Min Temp\": \"33.8\"}},{\"_index\":\"gsod\",\"_type\":\"observation\",\"_id\":\"AUvBKEwfDzV4m8XpNo4x\",\"_score\":1.0,\"_source\":{\"Wind Speed\": \"3.5\", \"Precipitation\": \"0.00G\", \"Snow Depth\": \"999.9\", \"Gust\": \"999.9\", \"Max Wind Speed\": \"8.9\", \"FRSHTT\": \"000000\", \"SLP\": \"1022.0\", \"Mean Temp\": \"56.7\", \"Dew Point\": \"43.7\", \"Max Temp\": \"75.0\", \"STP\": \"1018.3\", \"Visibility\": \"16.3\", \"WBAN\": \"99999\", \"Date\": \"2008-04-30\", \"Station Id\": \"945680\", \"Num of Obs\": \"8\", \"Min Temp\": \"35.8\"}},{\"_index\":\"gsod\",\"_type\":\"observation\",\"_id\":\"AUvBKEwsDzV4m8XpNo5F\",\"_score\":1.0,\"_source\":{\"Wind Speed\": \"5.2\", \"Precipitation\": \"0.00I\", \"Snow Depth\": \"999.9\", \"Gust\": \"999.9\", \"Max Wind Speed\": \"15.0\", \"FRSHTT\": \"000000\", \"SLP\": \"1012.2\", \"Mean Temp\": \"56.3\", \"Dew Point\": \"49.1\", \"Max Temp\": \"72.3\", \"STP\": \"995.3\", \"Visibility\": \"10.5\", \"WBAN\": \"14714\", \"Date\": \"1948-05-04\", \"Station Id\": \"725038\", \"Num of Obs\": \"24\", \"Min Temp\": \"41.4\"}},{\"_index\":\"gsod\",\"_type\":\"observation\",\"_id\":\"AUvBKEwzDzV4m8XpNo5T\",\"_score\":1.0,\"_source\":{\"Wind Speed\": \"3.2\", \"Precipitation\": \"0.00G\", \"Snow Depth\": \"999.9\", \"Gust\": \"999.9\", \"Max Wind Speed\": \"11.1\", \"FRSHTT\": \"000000\", \"SLP\": \"1017.0\", \"Mean Temp\": \"61.0\", \"Dew Point\": \"49.1\", \"Max Temp\": \"81.1\", \"STP\": \"1013.3\", \"Visibility\": \"999.9\", \"WBAN\": \"99999\", \"Date\": \"2008-05-03\", \"Station Id\": \"945680\", \"Num of Obs\": \"8\", \"Min Temp\": \"43.5\"}},{\"_index\":\"gsod\",\"_type\":\"observation\",\"_id\":\"AUvBKEw6DzV4m8XpNo5c\",\"_score\":1.0,\"_source\":{\"Wind Speed\": \"11.4\", \"Precipitation\": \"99.99\", \"Snow Depth\": \"999.9\", \"Gust\": \"999.9\", \"Max Wind Speed\": \"21.0\", \"FRSHTT\": \"110000\", \"SLP\": \"1007.4\", \"Mean Temp\": \"49.7\", \"Dew Point\": \"46.3\", \"Max Temp\": \"61.3\", \"STP\": \"990.5\", \"Visibility\": \"5.5\", \"WBAN\": \"14714\", \"Date\": \"1948-05-07\", \"Station Id\": \"725038\", \"Num of Obs\": \"23\", \"Min Temp\": \"46.4\"}},{\"_index\":\"gsod\",\"_type\":\"observation\",\"_id\":\"AUvBKExJDzV4m8XpNo51\",\"_score\":1.0,\"_source\":{\"Wind Speed\": \"2.4\", \"Precipitation\": \"0.00I\", \"Snow Depth\": \"999.9\", \"Gust\": \"999.9\", \"Max Wind Speed\": \"5.1\", \"FRSHTT\": \"000000\", \"SLP\": \"9999.9\", \"Mean Temp\": \"57.3\", \"Dew Point\": \"30.1\", \"Max Temp\": \"69.8\", \"STP\": \"9999.9\", \"Visibility\": \"18.2\", \"WBAN\": \"99999\", \"Date\": \"2005-12-29\", \"Station Id\": \"722749\", \"Num of Obs\": \"14\", \"Min Temp\": \"41.0\"}},{\"_index\":\"gsod\",\"_type\":\"observation\",\"_id\":\"AUvBKExNDzV4m8XpNo59\",\"_score\":1.0,\"_source\":{\"Wind Speed\": \"2.2\", \"Precipitation\": \"0.00G\", \"Snow Depth\": \"999.9\", \"Gust\": \"999.9\", \"Max Wind Speed\": \"6.0\", \"FRSHTT\": \"000000\", \"SLP\": \"1019.6\", \"Mean Temp\": \"58.6\", \"Dew Point\": \"46.2\", \"Max Temp\": \"76.8\", \"STP\": \"1015.9\", \"Visibility\": \"999.9\", \"WBAN\": \"99999\", \"Date\": \"2008-05-09\", \"Station Id\": \"945680\", \"Num of Obs\": \"8\", \"Min Temp\": \"39.0\"}}]}}"
       ]
      },
      {
       "output_type": "stream",
       "stream": "stderr",
       "text": [
        "  % Total    % Received % Xferd  Average Speed   Time    Time     Time  Current\n",
        "                                 Dload  Upload   Total   Spent    Left  Speed\n",
        "\r",
        "  0     0    0     0    0     0      0      0 --:--:-- --:--:-- --:--:--     0\r",
        "100  4592  100  4592    0     0   9791      0 --:--:-- --:--:-- --:--:--  9832\n"
       ]
      }
     ],
     "prompt_number": 51
    },
    {
     "cell_type": "markdown",
     "metadata": {},
     "source": [
      "By default elasticsearch returns 10 documents for every search.  As is evident the pretty option used for count above is needed here."
     ]
    },
    {
     "cell_type": "code",
     "collapsed": false,
     "input": [
      "%%bash\n",
      "curl -XGET 'http://search-01.ec2.internal:9200/gsod/_search?pretty'"
     ],
     "language": "python",
     "metadata": {},
     "outputs": [
      {
       "output_type": "stream",
       "stream": "stdout",
       "text": [
        "{\n",
        "  \"took\" : 432,\n",
        "  \"timed_out\" : false,\n",
        "  \"_shards\" : {\n",
        "    \"total\" : 5,\n",
        "    \"successful\" : 5,\n",
        "    \"failed\" : 0\n",
        "  },\n",
        "  \"hits\" : {\n",
        "    \"total\" : 125411455,\n",
        "    \"max_score\" : 1.0,\n",
        "    \"hits\" : [ {\n",
        "      \"_index\" : \"gsod\",\n",
        "      \"_type\" : \"observation\",\n",
        "      \"_id\" : \"AUvBKEuvDzV4m8XpNo3S\",\n",
        "      \"_score\" : 1.0,\n",
        "      \"_source\":{\"Wind Speed\": \"10.4\", \"Precipitation\": \"0.00I\", \"Snow Depth\": \"999.9\", \"Gust\": \"999.9\", \"Max Wind Speed\": \"16.9\", \"FRSHTT\": \"000000\", \"SLP\": \"1010.4\", \"Mean Temp\": \"45.3\", \"Dew Point\": \"40.9\", \"Max Temp\": \"55.4\", \"STP\": \"993.4\", \"Visibility\": \"14.8\", \"WBAN\": \"14714\", \"Date\": \"1948-04-28\", \"Station Id\": \"725038\", \"Num of Obs\": \"24\", \"Min Temp\": \"38.3\"}\n",
        "    }, {\n",
        "      \"_index\" : \"gsod\",\n",
        "      \"_type\" : \"observation\",\n",
        "      \"_id\" : \"AUvBKEulDzV4m8XpNo3K\",\n",
        "      \"_score\" : 1.0,\n",
        "      \"_source\":{\"Wind Speed\": \"8.3\", \"Precipitation\": \"0.00G\", \"Snow Depth\": \"999.9\", \"Gust\": \"999.9\", \"Max Wind Speed\": \"13.0\", \"FRSHTT\": \"000000\", \"SLP\": \"1011.1\", \"Mean Temp\": \"63.6\", \"Dew Point\": \"48.7\", \"Max Temp\": \"80.1\", \"STP\": \"1007.5\", \"Visibility\": \"999.9\", \"WBAN\": \"99999\", \"Date\": \"2008-04-24\", \"Station Id\": \"945680\", \"Num of Obs\": \"7\", \"Min Temp\": \"56.7\"}\n",
        "    }, {\n",
        "      \"_index\" : \"gsod\",\n",
        "      \"_type\" : \"observation\",\n",
        "      \"_id\" : \"AUvBKEvfDzV4m8XpNo3r\",\n",
        "      \"_score\" : 1.0,\n",
        "      \"_source\":{\"Wind Speed\": \"7.1\", \"Precipitation\": \"0.00I\", \"Snow Depth\": \"999.9\", \"Gust\": \"19.0\", \"Max Wind Speed\": \"14.0\", \"FRSHTT\": \"000000\", \"SLP\": \"1008.2\", \"Mean Temp\": \"87.6\", \"Dew Point\": \"57.8\", \"Max Temp\": \"100.4\", \"STP\": \"9999.9\", \"Visibility\": \"10.0\", \"WBAN\": \"99999\", \"Date\": \"2006-08-04\", \"Station Id\": \"722868\", \"Num of Obs\": \"24\", \"Min Temp\": \"75.2\"}\n",
        "    }, {\n",
        "      \"_index\" : \"gsod\",\n",
        "      \"_type\" : \"observation\",\n",
        "      \"_id\" : \"AUvBKEwXDzV4m8XpNo4m\",\n",
        "      \"_score\" : 1.0,\n",
        "      \"_source\":{\"Wind Speed\": \"4.0\", \"Precipitation\": \"0.00G\", \"Snow Depth\": \"999.9\", \"Gust\": \"999.9\", \"Max Wind Speed\": \"7.0\", \"FRSHTT\": \"000000\", \"SLP\": \"1020.8\", \"Mean Temp\": \"52.2\", \"Dew Point\": \"33.1\", \"Max Temp\": \"71.6\", \"STP\": \"1017.2\", \"Visibility\": \"18.6\", \"WBAN\": \"99999\", \"Date\": \"2008-04-29\", \"Station Id\": \"945680\", \"Num of Obs\": \"8\", \"Min Temp\": \"33.8\"}\n",
        "    }, {\n",
        "      \"_index\" : \"gsod\",\n",
        "      \"_type\" : \"observation\",\n",
        "      \"_id\" : \"AUvBKEwfDzV4m8XpNo4x\",\n",
        "      \"_score\" : 1.0,\n",
        "      \"_source\":{\"Wind Speed\": \"3.5\", \"Precipitation\": \"0.00G\", \"Snow Depth\": \"999.9\", \"Gust\": \"999.9\", \"Max Wind Speed\": \"8.9\", \"FRSHTT\": \"000000\", \"SLP\": \"1022.0\", \"Mean Temp\": \"56.7\", \"Dew Point\": \"43.7\", \"Max Temp\": \"75.0\", \"STP\": \"1018.3\", \"Visibility\": \"16.3\", \"WBAN\": \"99999\", \"Date\": \"2008-04-30\", \"Station Id\": \"945680\", \"Num of Obs\": \"8\", \"Min Temp\": \"35.8\"}\n",
        "    }, {\n",
        "      \"_index\" : \"gsod\",\n",
        "      \"_type\" : \"observation\",\n",
        "      \"_id\" : \"AUvBKEwsDzV4m8XpNo5F\",\n",
        "      \"_score\" : 1.0,\n",
        "      \"_source\":{\"Wind Speed\": \"5.2\", \"Precipitation\": \"0.00I\", \"Snow Depth\": \"999.9\", \"Gust\": \"999.9\", \"Max Wind Speed\": \"15.0\", \"FRSHTT\": \"000000\", \"SLP\": \"1012.2\", \"Mean Temp\": \"56.3\", \"Dew Point\": \"49.1\", \"Max Temp\": \"72.3\", \"STP\": \"995.3\", \"Visibility\": \"10.5\", \"WBAN\": \"14714\", \"Date\": \"1948-05-04\", \"Station Id\": \"725038\", \"Num of Obs\": \"24\", \"Min Temp\": \"41.4\"}\n",
        "    }, {\n",
        "      \"_index\" : \"gsod\",\n",
        "      \"_type\" : \"observation\",\n",
        "      \"_id\" : \"AUvBKEwzDzV4m8XpNo5T\",\n",
        "      \"_score\" : 1.0,\n",
        "      \"_source\":{\"Wind Speed\": \"3.2\", \"Precipitation\": \"0.00G\", \"Snow Depth\": \"999.9\", \"Gust\": \"999.9\", \"Max Wind Speed\": \"11.1\", \"FRSHTT\": \"000000\", \"SLP\": \"1017.0\", \"Mean Temp\": \"61.0\", \"Dew Point\": \"49.1\", \"Max Temp\": \"81.1\", \"STP\": \"1013.3\", \"Visibility\": \"999.9\", \"WBAN\": \"99999\", \"Date\": \"2008-05-03\", \"Station Id\": \"945680\", \"Num of Obs\": \"8\", \"Min Temp\": \"43.5\"}\n",
        "    }, {\n",
        "      \"_index\" : \"gsod\",\n",
        "      \"_type\" : \"observation\",\n",
        "      \"_id\" : \"AUvBKEw6DzV4m8XpNo5c\",\n",
        "      \"_score\" : 1.0,\n",
        "      \"_source\":{\"Wind Speed\": \"11.4\", \"Precipitation\": \"99.99\", \"Snow Depth\": \"999.9\", \"Gust\": \"999.9\", \"Max Wind Speed\": \"21.0\", \"FRSHTT\": \"110000\", \"SLP\": \"1007.4\", \"Mean Temp\": \"49.7\", \"Dew Point\": \"46.3\", \"Max Temp\": \"61.3\", \"STP\": \"990.5\", \"Visibility\": \"5.5\", \"WBAN\": \"14714\", \"Date\": \"1948-05-07\", \"Station Id\": \"725038\", \"Num of Obs\": \"23\", \"Min Temp\": \"46.4\"}\n",
        "    }, {\n",
        "      \"_index\" : \"gsod\",\n",
        "      \"_type\" : \"observation\",\n",
        "      \"_id\" : \"AUvBKExJDzV4m8XpNo51\",\n",
        "      \"_score\" : 1.0,\n",
        "      \"_source\":{\"Wind Speed\": \"2.4\", \"Precipitation\": \"0.00I\", \"Snow Depth\": \"999.9\", \"Gust\": \"999.9\", \"Max Wind Speed\": \"5.1\", \"FRSHTT\": \"000000\", \"SLP\": \"9999.9\", \"Mean Temp\": \"57.3\", \"Dew Point\": \"30.1\", \"Max Temp\": \"69.8\", \"STP\": \"9999.9\", \"Visibility\": \"18.2\", \"WBAN\": \"99999\", \"Date\": \"2005-12-29\", \"Station Id\": \"722749\", \"Num of Obs\": \"14\", \"Min Temp\": \"41.0\"}\n",
        "    }, {\n",
        "      \"_index\" : \"gsod\",\n",
        "      \"_type\" : \"observation\",\n",
        "      \"_id\" : \"AUvBKExNDzV4m8XpNo59\",\n",
        "      \"_score\" : 1.0,\n",
        "      \"_source\":{\"Wind Speed\": \"2.2\", \"Precipitation\": \"0.00G\", \"Snow Depth\": \"999.9\", \"Gust\": \"999.9\", \"Max Wind Speed\": \"6.0\", \"FRSHTT\": \"000000\", \"SLP\": \"1019.6\", \"Mean Temp\": \"58.6\", \"Dew Point\": \"46.2\", \"Max Temp\": \"76.8\", \"STP\": \"1015.9\", \"Visibility\": \"999.9\", \"WBAN\": \"99999\", \"Date\": \"2008-05-09\", \"Station Id\": \"945680\", \"Num of Obs\": \"8\", \"Min Temp\": \"39.0\"}\n",
        "    } ]\n",
        "  }\n",
        "}\n"
       ]
      },
      {
       "output_type": "stream",
       "stream": "stderr",
       "text": [
        "  % Total    % Received % Xferd  Average Speed   Time    Time     Time  Current\n",
        "                                 Dload  Upload   Total   Spent    Left  Speed\n",
        "\r",
        "  0     0    0     0    0     0      0      0 --:--:-- --:--:-- --:--:--     0\r",
        "100  5153  100  5153    0     0  11820      0 --:--:-- --:--:-- --:--:-- 11873\n"
       ]
      }
     ],
     "prompt_number": 52
    },
    {
     "cell_type": "markdown",
     "metadata": {},
     "source": [
      "Much better but it can be easily seen that if this notebook continues with the elasticsearch default for number of documents it will become very unweldy very quickly.  So, let's use the size option."
     ]
    },
    {
     "cell_type": "code",
     "collapsed": false,
     "input": [
      "%%bash\n",
      "curl -XGET 'http://search-01.ec2.internal:9200/gsod/_search?pretty' -d '\n",
      "{\n",
      "    \"size\": \"1\"\n",
      "}'"
     ],
     "language": "python",
     "metadata": {},
     "outputs": [
      {
       "output_type": "stream",
       "stream": "stdout",
       "text": [
        "{\n",
        "  \"took\" : 429,\n",
        "  \"timed_out\" : false,\n",
        "  \"_shards\" : {\n",
        "    \"total\" : 5,\n",
        "    \"successful\" : 5,\n",
        "    \"failed\" : 0\n",
        "  },\n",
        "  \"hits\" : {\n",
        "    \"total\" : 125411455,\n",
        "    \"max_score\" : 1.0,\n",
        "    \"hits\" : [ {\n",
        "      \"_index\" : \"gsod\",\n",
        "      \"_type\" : \"observation\",\n",
        "      \"_id\" : \"AUvBKEuvDzV4m8XpNo3S\",\n",
        "      \"_score\" : 1.0,\n",
        "      \"_source\":{\"Wind Speed\": \"10.4\", \"Precipitation\": \"0.00I\", \"Snow Depth\": \"999.9\", \"Gust\": \"999.9\", \"Max Wind Speed\": \"16.9\", \"FRSHTT\": \"000000\", \"SLP\": \"1010.4\", \"Mean Temp\": \"45.3\", \"Dew Point\": \"40.9\", \"Max Temp\": \"55.4\", \"STP\": \"993.4\", \"Visibility\": \"14.8\", \"WBAN\": \"14714\", \"Date\": \"1948-04-28\", \"Station Id\": \"725038\", \"Num of Obs\": \"24\", \"Min Temp\": \"38.3\"}\n",
        "    } ]\n",
        "  }\n",
        "}\n"
       ]
      },
      {
       "output_type": "stream",
       "stream": "stderr",
       "text": [
        "  % Total    % Received % Xferd  Average Speed   Time    Time     Time  Current\n",
        "                                 Dload  Upload   Total   Spent    Left  Speed\n",
        "\r",
        "  0     0    0     0    0     0      0      0 --:--:-- --:--:-- --:--:--     0\r",
        "100    20    0     0  100    20      0     99 --:--:-- --:--:-- --:--:--    99\r",
        "100   717  100   697  100    20   1607     46 --:--:-- --:--:-- --:--:--  1609\n"
       ]
      }
     ],
     "prompt_number": 54
    },
    {
     "cell_type": "code",
     "collapsed": false,
     "input": [
      "%%bash\n",
      "curl -XGET 'http://search-01.ec2.internal:9200/gsod/_search?pretty' -d '\n",
      "{\n",
      "    \"_source\": [\"Max Temp\"],\n",
      "    \"size\": \"2\"\n",
      "}'"
     ],
     "language": "python",
     "metadata": {},
     "outputs": [
      {
       "output_type": "stream",
       "stream": "stdout",
       "text": [
        "{\n",
        "  \"took\" : 459,\n",
        "  \"timed_out\" : false,\n",
        "  \"_shards\" : {\n",
        "    \"total\" : 5,\n",
        "    \"successful\" : 5,\n",
        "    \"failed\" : 0\n",
        "  },\n",
        "  \"hits\" : {\n",
        "    \"total\" : 125411455,\n",
        "    \"max_score\" : 1.0,\n",
        "    \"hits\" : [ {\n",
        "      \"_index\" : \"gsod\",\n",
        "      \"_type\" : \"observation\",\n",
        "      \"_id\" : \"AUvBKEuvDzV4m8XpNo3S\",\n",
        "      \"_score\" : 1.0,\n",
        "      \"_source\":{\"Max Temp\":\"55.4\"}\n",
        "    }, {\n",
        "      \"_index\" : \"gsod\",\n",
        "      \"_type\" : \"observation\",\n",
        "      \"_id\" : \"AUvBKEulDzV4m8XpNo3K\",\n",
        "      \"_score\" : 1.0,\n",
        "      \"_source\":{\"Max Temp\":\"80.1\"}\n",
        "    } ]\n",
        "  }\n",
        "}\n"
       ]
      },
      {
       "output_type": "stream",
       "stream": "stderr",
       "text": [
        "  % Total    % Received % Xferd  Average Speed   Time    Time     Time  Current\n",
        "                                 Dload  Upload   Total   Spent    Left  Speed\n",
        "\r",
        "  0     0    0     0    0     0      0      0 --:--:-- --:--:-- --:--:--     0\r",
        "100    49    0     0  100    49      0    239 --:--:-- --:--:-- --:--:--   242\r",
        "100   572  100   523  100    49   1116    104 --:--:-- --:--:-- --:--:--  1122\n"
       ]
      }
     ],
     "prompt_number": 64
    },
    {
     "cell_type": "code",
     "collapsed": false,
     "input": [
      "%%bash\n",
      "curl -XGET 'http://search-01.ec2.internal:9200/gsod/_search?pretty' -d '\n",
      "{\n",
      "    \"query\": {\n",
      "        \"filtered\": {\n",
      "            \"filter\": {\n",
      "                \"range\": {\n",
      "                    \"Date\": {\n",
      "                        \"gte\": \"2007-01-01\",\n",
      "                        \"lte\": \"2007-01-01\" \n",
      "                    }\n",
      "                }\n",
      "            }\n",
      "        }\n",
      "    },\n",
      "    \"_source\": [\"Max Temp\"],\n",
      "    \"size\": \"1\"\n",
      "}'"
     ],
     "language": "python",
     "metadata": {},
     "outputs": [
      {
       "output_type": "stream",
       "stream": "stdout",
       "text": [
        "{\n",
        "  \"took\" : 4,\n",
        "  \"timed_out\" : false,\n",
        "  \"_shards\" : {\n",
        "    \"total\" : 5,\n",
        "    \"successful\" : 5,\n",
        "    \"failed\" : 0\n",
        "  },\n",
        "  \"hits\" : {\n",
        "    \"total\" : 17598,\n",
        "    \"max_score\" : 1.0,\n",
        "    \"hits\" : [ {\n",
        "      \"_index\" : \"gsod\",\n",
        "      \"_type\" : \"observation\",\n",
        "      \"_id\" : \"AUvBIX6YDzV4m8XpLVsY\",\n",
        "      \"_score\" : 1.0,\n",
        "      \"_source\":{\"Max Temp\":\"75.2\"}\n",
        "    } ]\n",
        "  }\n",
        "}\n"
       ]
      },
      {
       "output_type": "stream",
       "stream": "stderr",
       "text": [
        "  % Total    % Received % Xferd  Average Speed   Time    Time     Time  Current\n",
        "                                 Dload  Upload   Total   Spent    Left  Speed\n",
        "\r",
        "  0     0    0     0    0     0      0      0 --:--:-- --:--:-- --:--:--     0\r",
        "100   684  100   356  100   328  46030  42410 --:--:-- --:--:-- --:--:-- 59333\n"
       ]
      }
     ],
     "prompt_number": 76
    },
    {
     "cell_type": "code",
     "collapsed": false,
     "input": [
      "%%bash\n",
      "curl -XGET 'http://search-01.ec2.internal:9200/gsod/_search?pretty' -d '\n",
      "{\n",
      "    \"query\": {\n",
      "        \"filtered\": {\n",
      "            \"query\": { \"match_all\": {} },\n",
      "            \"filter\": {\n",
      "                \"range\": {\n",
      "                    \"Date\": {\n",
      "                        \"gte\": \"2007-01-01\",\n",
      "                        \"lte\": \"2007-12-31\" \n",
      "                    }\n",
      "                }\n",
      "            }\n",
      "        }\n",
      "    },\n",
      "    \"size\": \"1\"\n",
      "}'"
     ],
     "language": "python",
     "metadata": {},
     "outputs": [
      {
       "output_type": "stream",
       "stream": "stdout",
       "text": [
        "{\n",
        "  \"took\" : 48,\n",
        "  \"timed_out\" : false,\n",
        "  \"_shards\" : {\n",
        "    \"total\" : 5,\n",
        "    \"successful\" : 5,\n",
        "    \"failed\" : 0\n",
        "  },\n",
        "  \"hits\" : {\n",
        "    \"total\" : 6689872,\n",
        "    \"max_score\" : 1.0,\n",
        "    \"hits\" : [ {\n",
        "      \"_index\" : \"gsod\",\n",
        "      \"_type\" : \"observation\",\n",
        "      \"_id\" : \"AUvBKEuSDzV4m8XpNo2s\",\n",
        "      \"_score\" : 1.0,\n",
        "      \"_source\":{\"Wind Speed\": \"5.8\", \"Precipitation\": \"0.00I\", \"Snow Depth\": \"999.9\", \"Gust\": \"999.9\", \"Max Wind Speed\": \"9.7\", \"FRSHTT\": \"000000\", \"SLP\": \"1034.5\", \"Mean Temp\": \"30.5\", \"Dew Point\": \"3.0\", \"Max Temp\": \"40.3\", \"STP\": \"9999.9\", \"Visibility\": \"18.6\", \"WBAN\": \"99999\", \"Date\": \"2007-04-01\", \"Station Id\": \"525330\", \"Num of Obs\": \"6\", \"Min Temp\": \"24.1\"}\n",
        "    } ]\n",
        "  }\n",
        "}\n"
       ]
      },
      {
       "output_type": "stream",
       "stream": "stderr",
       "text": [
        "  % Total    % Received % Xferd  Average Speed   Time    Time     Time  Current\n",
        "                                 Dload  Upload   Total   Spent    Left  Speed\n",
        "\r",
        "  0     0    0     0    0     0      0      0 --:--:-- --:--:-- --:--:--     0\r",
        "100  1032  100   691  100   341  13249   6538 --:--:-- --:--:-- --:--:-- 13820\n"
       ]
      }
     ],
     "prompt_number": 32
    },
    {
     "cell_type": "code",
     "collapsed": false,
     "input": [
      "%%bash\n",
      "curl -XGET 'http://search-01.ec2.internal:9200/gsod/_count' -d '\n",
      "{\n",
      "    \"query\": {\n",
      "        \"filtered\": {\n",
      "            \"filter\": {\n",
      "                \"range\": {\n",
      "                    \"Date\": {\n",
      "                        \"gte\": \"2007-01-01\",\n",
      "                        \"lte\": \"2007-01-31\" \n",
      "                    }\n",
      "                }\n",
      "            }\n",
      "        }\n",
      "    }\n",
      "}'"
     ],
     "language": "python",
     "metadata": {},
     "outputs": [
      {
       "output_type": "stream",
       "stream": "stdout",
       "text": [
        "{\"count\":563280,\"_shards\":{\"total\":5,\"successful\":5,\"failed\":0}}"
       ]
      },
      {
       "output_type": "stream",
       "stream": "stderr",
       "text": [
        "  % Total    % Received % Xferd  Average Speed   Time    Time     Time  Current\n",
        "                                 Dload  Upload   Total   Spent    Left  Speed\n",
        "\r",
        "  0     0    0     0    0     0      0      0 --:--:-- --:--:-- --:--:--     0\r",
        "100   282    0     0  100   282      0   1391 --:--:-- --:--:-- --:--:--  1402\r",
        "100   282    0     0  100   282      0    234  0:00:01  0:00:01 --:--:--   234\r",
        "100   282    0     0  100   282      0    127  0:00:02  0:00:02 --:--:--   128\r",
        "100   282    0     0  100   282      0     87  0:00:03  0:00:03 --:--:--    88\r",
        "100   282    0     0  100   282      0     67  0:00:04  0:00:04 --:--:--    67\r",
        "100   346  100    64  100   282     13     58  0:00:04  0:00:04 --:--:--     0\n"
       ]
      }
     ],
     "prompt_number": 1
    },
    {
     "cell_type": "code",
     "collapsed": false,
     "input": [
      "%%bash\n",
      "curl -XGET 'http://search-01.ec2.internal:9200/gsod/_search?pretty' -d '\n",
      "{\n",
      "    \"query\": {\n",
      "        \"filtered\": {\n",
      "            \"query\": { \"match_all\": {} },\n",
      "            \"filter\": {\n",
      "                \"range\": {\n",
      "                    \"Date\": {\n",
      "                        \"gte\": \"2007-01-01\",\n",
      "                        \"lte\": \"2007-01-31\" \n",
      "                    }\n",
      "                }\n",
      "            }\n",
      "        }\n",
      "    },\n",
      "    \"_source\": [\"Mean Temp\", \"Min Temp\", \"Max Temp\"],\n",
      "    \"size\": \"563280\"\n",
      "}' > temps_200701.txt"
     ],
     "language": "python",
     "metadata": {},
     "outputs": [
      {
       "output_type": "stream",
       "stream": "stdout",
       "text": [
        "Process is terminated.\n"
       ]
      }
     ],
     "prompt_number": 2
    },
    {
     "cell_type": "code",
     "collapsed": false,
     "input": [
      "import json\n",
      "\n",
      "with open(\"temps_2007.txt\", \"r\") as f:\n",
      "    mean_temps = []\n",
      "    max_temps = []\n",
      "    min_temps = []\n",
      "   \n",
      "    for line in f:\n",
      "        if \"_source\" in line:\n",
      "            line = json.loads(line[16:-1])\n",
      "            \n",
      "            min_tmp = float(line['Min Temp'])\n",
      "            if -300 < min_tmp < 300:\n",
      "                min_temps.append(min_tmp)\n",
      "            \n",
      "            mean_tmp = float(line['Mean Temp'])\n",
      "            if -300 < min_tmp < 300:\n",
      "                mean_temps.append(mean_tmp)\n",
      "                \n",
      "            max_tmp = float(line['Max Temp'])\n",
      "            if -300 < max_tmp < 300:\n",
      "                max_temps.append(max_tmp)\n",
      "\n",
      "print(\"From {} observations the temperatures for 2007 are:\"\\\n",
      "          .format(len(mean_temps)))\n",
      "print(\"Min Temp:  {:.1f}\".format(min(min_temps)))\n",
      "print(\"Mean Temp: {:.1f}\".format(sum(mean_temps)/len(mean_temps)))\n",
      "print(\"Max Temp:  {:.1f}\".format(max(max_temps)))"
     ],
     "language": "python",
     "metadata": {},
     "outputs": [
      {
       "output_type": "stream",
       "stream": "stdout",
       "text": [
        "Min Temp:  -114.3\n",
        "Mean Temp: 54.6"
       ]
      },
      {
       "output_type": "stream",
       "stream": "stdout",
       "text": [
        "\n",
        "Max Temp:  129.2"
       ]
      },
      {
       "output_type": "stream",
       "stream": "stdout",
       "text": [
        "\n"
       ]
      }
     ],
     "prompt_number": 26
    },
    {
     "cell_type": "code",
     "collapsed": false,
     "input": [],
     "language": "python",
     "metadata": {},
     "outputs": []
    }
   ],
   "metadata": {}
  }
 ]
}