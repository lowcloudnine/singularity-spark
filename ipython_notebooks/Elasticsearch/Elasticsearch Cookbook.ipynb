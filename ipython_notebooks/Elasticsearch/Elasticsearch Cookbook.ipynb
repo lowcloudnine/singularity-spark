{
 "metadata": {
  "name": "",
  "signature": "sha256:b62c0f5b1f4fddf3b689d48bd73dc3377e1f96adde82fe39b57cbd4df84d4aa1"
 },
 "nbformat": 3,
 "nbformat_minor": 0,
 "worksheets": [
  {
   "cells": [
    {
     "cell_type": "heading",
     "level": 2,
     "metadata": {},
     "source": [
      "Imports"
     ]
    },
    {
     "cell_type": "code",
     "collapsed": false,
     "input": [
      "%pylab inline\n",
      "\n",
      "from __future__ import absolute_import\n",
      "from __future__ import division\n",
      "from __future__ import print_function\n",
      "\n",
      "from future.builtins import (bytes, str, open, super, range,\n",
      "                      zip, round, input, int, pow, object)\n",
      "\n",
      "if sys.version_info.major == 2:\n",
      "    # in Python 2 cPickle is much faster than pickle but doesn't \n",
      "    # deal w/ unicode\n",
      "    import cPickle as pickle\n",
      "else:\n",
      "    # Python 3 loads the faster pickle by default if it's available\n",
      "    import pickle\n",
      "\n",
      "# ---- Standard Libraries not included in pylab\n",
      "import collections\n",
      "import json\n",
      "import random\n",
      "import time\n",
      "\n",
      "# ---- Extra Libraries for additional functionality\n",
      "import elasticsearch\n",
      "\n",
      "# setup es for use through the notebook\n",
      "es = elasticsearch.Elasticsearch(['http://search-01.ec2.internal:9200'])\n",
      "\n",
      "# -------1---------2---------3---------4---------5---------6---------7---------8"
     ],
     "language": "python",
     "metadata": {},
     "outputs": [
      {
       "output_type": "stream",
       "stream": "stdout",
       "text": [
        "Populating the interactive namespace from numpy and matplotlib\n"
       ]
      },
      {
       "output_type": "stream",
       "stream": "stderr",
       "text": [
        "WARNING: pylab import has clobbered these variables: ['bytes', 'random']\n",
        "`%matplotlib` prevents importing * from pylab and numpy\n"
       ]
      }
     ],
     "prompt_number": 4
    },
    {
     "cell_type": "heading",
     "level": 2,
     "metadata": {},
     "source": [
      "ElasticSearch Experimentation"
     ]
    },
    {
     "cell_type": "code",
     "collapsed": false,
     "input": [
      "index_name = \"schiefjm_test_index\"\n",
      "type_name = \"schiefjm_test_type\"\n",
      "es.indices.create(index_name)\n",
      "es.cluster.health(wait_for_status=\"yellow\")"
     ],
     "language": "python",
     "metadata": {},
     "outputs": [
      {
       "metadata": {},
       "output_type": "pyout",
       "prompt_number": 17,
       "text": [
        "{u'active_primary_shards': 218,\n",
        " u'active_shards': 435,\n",
        " u'cluster_name': u'protoglobe',\n",
        " u'initializing_shards': 1,\n",
        " u'number_of_data_nodes': 6,\n",
        " u'number_of_nodes': 6,\n",
        " u'relocating_shards': 0,\n",
        " u'status': u'yellow',\n",
        " u'timed_out': False,\n",
        " u'unassigned_shards': 0}"
       ]
      }
     ],
     "prompt_number": 17
    },
    {
     "cell_type": "code",
     "collapsed": false,
     "input": [
      "es.indices.optimize(index_name)"
     ],
     "language": "python",
     "metadata": {},
     "outputs": [
      {
       "metadata": {},
       "output_type": "pyout",
       "prompt_number": 18,
       "text": [
        "{u'_shards': {u'failed': 0, u'successful': 10, u'total': 10}}"
       ]
      }
     ],
     "prompt_number": 18
    },
    {
     "cell_type": "code",
     "collapsed": false,
     "input": [
      "es.indices.delete(index_name)"
     ],
     "language": "python",
     "metadata": {},
     "outputs": [
      {
       "metadata": {},
       "output_type": "pyout",
       "prompt_number": 16,
       "text": [
        "{u'acknowledged': True}"
       ]
      }
     ],
     "prompt_number": 16
    },
    {
     "cell_type": "code",
     "collapsed": false,
     "input": [
      "es.indices.close(index_name)"
     ],
     "language": "python",
     "metadata": {},
     "outputs": [
      {
       "metadata": {},
       "output_type": "pyout",
       "prompt_number": 15,
       "text": [
        "{u'acknowledged': True}"
       ]
      }
     ],
     "prompt_number": 15
    },
    {
     "cell_type": "code",
     "collapsed": false,
     "input": [
      "es.indices.put_mapping(\n",
      "    index=index_name, \n",
      "    doc_type=type_name, \n",
      "    body={\n",
      "        type_name:{\n",
      "            \"_type\": {\n",
      "                \"store\": \"yes\"}, \n",
      "                \"properties\": {\n",
      "                    \"uuid\": {\n",
      "                        \"index\": \"not_analyzed\", \n",
      "                        \"type\": \"string\", \n",
      "                        \"store\": \"yes\"\n",
      "                    },\n",
      "                    \"title\": {\n",
      "                        \"index\": \"analyzed\", \n",
      "                        \"type\": \"string\", \n",
      "                        \"store\": \"yes\", \n",
      "                        \"term_vector\": \"with_positions_offsets\"\n",
      "                    },\n",
      "                    \"parsedtext\": {\n",
      "                        \"index\": \"analyzed\", \n",
      "                        \"type\": \"string\", \n",
      "                        \"store\": \"yes\", \n",
      "                        \"term_vector\": \"with_positions_offsets\"\n",
      "                    }\n",
      "            }\n",
      "        }\n",
      "    }\n",
      ")"
     ],
     "language": "python",
     "metadata": {},
     "outputs": [
      {
       "metadata": {},
       "output_type": "pyout",
       "prompt_number": 20,
       "text": [
        "{u'acknowledged': True}"
       ]
      }
     ],
     "prompt_number": 20
    },
    {
     "cell_type": "code",
     "collapsed": false,
     "input": [
      "es.indices.get_mapping(index_name)"
     ],
     "language": "python",
     "metadata": {},
     "outputs": [
      {
       "metadata": {},
       "output_type": "pyout",
       "prompt_number": 23,
       "text": [
        "{u'schiefjm_test_index': {u'mappings': {u'schiefjm_test_type': {u'_type': {u'store': True},\n",
        "    u'properties': {u'parsedtext': {u'store': True,\n",
        "      u'term_vector': u'with_positions_offsets',\n",
        "      u'type': u'string'},\n",
        "     u'title': {u'store': True,\n",
        "      u'term_vector': u'with_positions_offsets',\n",
        "      u'type': u'string'},\n",
        "     u'uuid': {u'index': u'not_analyzed',\n",
        "      u'store': True,\n",
        "      u'type': u'string'}}}}}}"
       ]
      }
     ],
     "prompt_number": 23
    },
    {
     "cell_type": "code",
     "collapsed": false,
     "input": [
      "index_name = \"gsod\"\n",
      "type_name = \"gsod\"\n",
      "\n",
      "es.cluster.health(wait_for_status=\"yellow\")"
     ],
     "language": "python",
     "metadata": {},
     "outputs": [
      {
       "metadata": {},
       "output_type": "pyout",
       "prompt_number": 24,
       "text": [
        "{u'active_primary_shards': 218,\n",
        " u'active_shards': 436,\n",
        " u'cluster_name': u'protoglobe',\n",
        " u'initializing_shards': 0,\n",
        " u'number_of_data_nodes': 6,\n",
        " u'number_of_nodes': 6,\n",
        " u'relocating_shards': 0,\n",
        " u'status': u'green',\n",
        " u'timed_out': False,\n",
        " u'unassigned_shards': 0}"
       ]
      }
     ],
     "prompt_number": 24
    },
    {
     "cell_type": "code",
     "collapsed": false,
     "input": [
      "import pyes\n",
      "dir(pyes)"
     ],
     "language": "python",
     "metadata": {},
     "outputs": [
      {
       "metadata": {},
       "output_type": "pyout",
       "prompt_number": 25,
       "text": [
        "['ANDFilter',\n",
        " 'AggFactory',\n",
        " 'BoolFilter',\n",
        " 'BoolQuery',\n",
        " 'ConstantScoreQuery',\n",
        " 'CouchDBRiver',\n",
        " 'CustomScoreQuery',\n",
        " 'DisMaxQuery',\n",
        " 'ES',\n",
        " 'ESRange',\n",
        " 'ESRangeOp',\n",
        " 'EqualityComparableUsingAttributeDictionary',\n",
        " 'ExistsFilter',\n",
        " 'FacetFactory',\n",
        " 'FieldParameter',\n",
        " 'Filter',\n",
        " 'FilterList',\n",
        " 'FilterQuery',\n",
        " 'FilteredQuery',\n",
        " 'FunctionScoreQuery',\n",
        " 'FuzzyLikeThisFieldQuery',\n",
        " 'FuzzyLikeThisQuery',\n",
        " 'FuzzyQuery',\n",
        " 'GeoBoundingBoxFilter',\n",
        " 'GeoDistanceFilter',\n",
        " 'GeoIndexedShapeFilter',\n",
        " 'GeoPolygonFilter',\n",
        " 'GeoShapeFilter',\n",
        " 'HasChildFilter',\n",
        " 'HasChildQuery',\n",
        " 'HasFilter',\n",
        " 'HasParentFilter',\n",
        " 'HasParentQuery',\n",
        " 'HasQuery',\n",
        " 'HighLighter',\n",
        " 'IdsFilter',\n",
        " 'IdsQuery',\n",
        " 'InvalidParameterQuery',\n",
        " 'InvalidQuery',\n",
        " 'JDBCRiver',\n",
        " 'LimitFilter',\n",
        " 'MatchAllFilter',\n",
        " 'MatchAllQuery',\n",
        " 'MatchQuery',\n",
        " 'MissingFilter',\n",
        " 'MongoDBRiver',\n",
        " 'MoreLikeThisFieldQuery',\n",
        " 'MoreLikeThisQuery',\n",
        " 'MultiMatchQuery',\n",
        " 'NestedFilter',\n",
        " 'NestedQuery',\n",
        " 'NotFilter',\n",
        " 'NumericRangeFilter',\n",
        " 'ORFilter',\n",
        " 'PercolatorQuery',\n",
        " 'PrefixFilter',\n",
        " 'PrefixQuery',\n",
        " 'Query',\n",
        " 'QueryError',\n",
        " 'QueryFilter',\n",
        " 'QueryParameterError',\n",
        " 'QueryStringQuery',\n",
        " 'RabbitMQRiver',\n",
        " 'RangeFilter',\n",
        " 'RangeQuery',\n",
        " 'RawFilter',\n",
        " 'RegexTermFilter',\n",
        " 'RegexTermQuery',\n",
        " 'RescoreQuery',\n",
        " 'River',\n",
        " 'ScriptFields',\n",
        " 'ScriptFieldsError',\n",
        " 'ScriptFilter',\n",
        " 'Search',\n",
        " 'SimpleQueryStringQuery',\n",
        " 'SortFactory',\n",
        " 'SpanFirstQuery',\n",
        " 'SpanMultiQuery',\n",
        " 'SpanNearQuery',\n",
        " 'SpanNotQuery',\n",
        " 'SpanOrQuery',\n",
        " 'SpanTermQuery',\n",
        " 'Suggest',\n",
        " 'TermFilter',\n",
        " 'TermQuery',\n",
        " 'TermsFilter',\n",
        " 'TermsLookup',\n",
        " 'TermsQuery',\n",
        " 'TextQuery',\n",
        " 'TopChildrenQuery',\n",
        " 'TwitterRiver',\n",
        " 'TypeFilter',\n",
        " 'VERSION',\n",
        " 'WildcardQuery',\n",
        " '__author__',\n",
        " '__builtins__',\n",
        " '__contact__',\n",
        " '__doc__',\n",
        " '__docformat__',\n",
        " '__file__',\n",
        " '__homepage__',\n",
        " '__name__',\n",
        " '__package__',\n",
        " '__path__',\n",
        " '__version__',\n",
        " 'absolute_import',\n",
        " 'aggs',\n",
        " 'clean_string',\n",
        " 'connection',\n",
        " 'connection_http',\n",
        " 'convert_errors',\n",
        " 'copy',\n",
        " 'es',\n",
        " 'exceptions',\n",
        " 'facets',\n",
        " 'fakettypes',\n",
        " 'file_to_attachment',\n",
        " 'filters',\n",
        " 'helpers',\n",
        " 'highlight',\n",
        " 'is_a_spanquery',\n",
        " 'is_stable_release',\n",
        " 'json',\n",
        " 'logger',\n",
        " 'logging',\n",
        " 'make_id',\n",
        " 'make_path',\n",
        " 'managers',\n",
        " 'mappings',\n",
        " 'models',\n",
        " 'pyesthrift',\n",
        " 'query',\n",
        " 'rivers',\n",
        " 'scriptfields',\n",
        " 'six',\n",
        " 'sort',\n",
        " 'string_b64decode',\n",
        " 'string_b64encode',\n",
        " 'utils',\n",
        " 'version_with_meta']"
       ]
      }
     ],
     "prompt_number": 25
    },
    {
     "cell_type": "code",
     "collapsed": false,
     "input": [
      "dir(pyes.mappings)"
     ],
     "language": "python",
     "metadata": {},
     "outputs": [
      {
       "metadata": {},
       "output_type": "pyout",
       "prompt_number": 26,
       "text": [
        "['AbstractField',\n",
        " 'AttachmentField',\n",
        " 'BinaryField',\n",
        " 'BooleanField',\n",
        " 'ByteField',\n",
        " 'DateField',\n",
        " 'DocumentObjectField',\n",
        " 'DotDict',\n",
        " 'DoubleField',\n",
        " 'FloatField',\n",
        " 'GeoPointField',\n",
        " 'IntegerField',\n",
        " 'IpField',\n",
        " 'LongField',\n",
        " 'MAPPING_NAME_TYPE',\n",
        " 'MappedFieldNotFoundException',\n",
        " 'Mapper',\n",
        " 'MultiField',\n",
        " 'NestedObject',\n",
        " 'NumericFieldAbstract',\n",
        " 'ObjectField',\n",
        " 'OrderedDict',\n",
        " 'ShortField',\n",
        " 'SortedDict',\n",
        " 'StringField',\n",
        " '__builtins__',\n",
        " '__doc__',\n",
        " '__file__',\n",
        " '__name__',\n",
        " '__package__',\n",
        " '_thread_locals',\n",
        " 'check_values',\n",
        " 'date',\n",
        " 'datetime',\n",
        " 'get_field',\n",
        " 'keys_to_string',\n",
        " 'six',\n",
        " 'threading',\n",
        " 'to_bool']"
       ]
      }
     ],
     "prompt_number": 26
    },
    {
     "cell_type": "code",
     "collapsed": false,
     "input": [
      "es.indices.get_mapping(index_name)"
     ],
     "language": "python",
     "metadata": {},
     "outputs": [
      {
       "metadata": {},
       "output_type": "pyout",
       "prompt_number": 28,
       "text": [
        "{u'gsod': {u'mappings': {u'observation': {u'properties': {u'Date': {u'format': u'dateOptionalTime',\n",
        "      u'type': u'date'},\n",
        "     u'Dew Point': {u'type': u'string'},\n",
        "     u'FRSHTT': {u'type': u'string'},\n",
        "     u'Gust': {u'type': u'string'},\n",
        "     u'Max Temp': {u'type': u'string'},\n",
        "     u'Max Wind Speed': {u'type': u'string'},\n",
        "     u'Mean Temp': {u'type': u'string'},\n",
        "     u'Min Temp': {u'type': u'string'},\n",
        "     u'Num of Obs': {u'type': u'string'},\n",
        "     u'Precipitation': {u'type': u'string'},\n",
        "     u'SLP': {u'type': u'string'},\n",
        "     u'STP': {u'type': u'string'},\n",
        "     u'Snow Depth': {u'type': u'string'},\n",
        "     u'Station Id': {u'type': u'string'},\n",
        "     u'Visibility': {u'type': u'string'},\n",
        "     u'WBAN': {u'type': u'string'},\n",
        "     u'Wind Speed': {u'type': u'string'}}}}}}"
       ]
      }
     ],
     "prompt_number": 28
    },
    {
     "cell_type": "code",
     "collapsed": false,
     "input": [],
     "language": "python",
     "metadata": {},
     "outputs": []
    }
   ],
   "metadata": {}
  }
 ]
}