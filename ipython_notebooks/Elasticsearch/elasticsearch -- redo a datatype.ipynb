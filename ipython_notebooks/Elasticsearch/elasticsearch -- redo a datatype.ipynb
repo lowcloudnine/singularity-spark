{
 "cells": [
  {
   "cell_type": "markdown",
   "metadata": {},
   "source": [
    "## Imports"
   ]
  },
  {
   "cell_type": "code",
   "execution_count": 24,
   "metadata": {
    "collapsed": false
   },
   "outputs": [
    {
     "name": "stdout",
     "output_type": "stream",
     "text": [
      "Populating the interactive namespace from numpy and matplotlib\n"
     ]
    },
    {
     "name": "stderr",
     "output_type": "stream",
     "text": [
      "WARNING: pylab import has clobbered these variables: ['bytes', 'random']\n",
      "`%matplotlib` prevents importing * from pylab and numpy\n"
     ]
    }
   ],
   "source": [
    "%pylab inline\n",
    "\n",
    "from __future__ import absolute_import\n",
    "from __future__ import division\n",
    "from __future__ import print_function\n",
    "\n",
    "try:\n",
    "    from future.builtins import (bytes, str, open, super, range,\n",
    "                                 zip, round, input, int, pow, object)\n",
    "except:\n",
    "    pass\n",
    "\n",
    "# ---- Standard Libraries not included in pylab\n",
    "import collections\n",
    "import glob\n",
    "import json\n",
    "import random\n",
    "import time\n",
    "from StringIO import StringIO\n",
    "\n",
    "# ---- Extra Libraries for additional functionality\n",
    "import elasticsearch\n",
    "from elasticsearch import Elasticsearch\n",
    "es = Elasticsearch(['http://search-01.ec2.internal:9200'])"
   ]
  },
  {
   "cell_type": "markdown",
   "metadata": {},
   "source": [
    "## Look at the Current Mapping"
   ]
  },
  {
   "cell_type": "code",
   "execution_count": 25,
   "metadata": {
    "collapsed": false
   },
   "outputs": [
    {
     "name": "stdout",
     "output_type": "stream",
     "text": [
      "Num of Obs        {u'type': u'string'}\n",
      "Wind Speed        {u'type': u'string'}\n",
      "FRSHTT            {u'type': u'string'}\n",
      "Snow Depth        {u'type': u'string'}\n",
      "Gust              {u'type': u'string'}\n",
      "SLP               {u'type': u'string'}\n",
      "Mean Temp         {u'type': u'string'}\n",
      "Max Wind Speed    {u'type': u'string'}\n",
      "Max Temp          {u'type': u'string'}\n",
      "STP               {u'type': u'string'}\n",
      "Min Temp          {u'type': u'string'}\n",
      "WBAN              {u'type': u'string'}\n",
      "Date              {u'type': u'date', u'format': u'dateOptionalTime'}\n",
      "Station Id        {u'type': u'string'}\n",
      "Dew Point         {u'type': u'string'}\n",
      "Precipitation     {u'type': u'string'}\n",
      "Visibility        {u'type': u'string'}\n"
     ]
    }
   ],
   "source": [
    "mapping = es.indices.get_mapping(\"gsod\")\n",
    "obs_mapping = collections.OrderedDict(mapping['gsod']['mappings']['observation']['properties'])\n",
    "for ob_params in obs_mapping:\n",
    "    print(\"{:18s}{}\".format(ob_params, obs_mapping[ob_params]))"
   ]
  },
  {
   "cell_type": "markdown",
   "metadata": {},
   "source": [
    "## Create new mapping for a year"
   ]
  },
  {
   "cell_type": "code",
   "execution_count": 26,
   "metadata": {
    "collapsed": false
   },
   "outputs": [
    {
     "name": "stdout",
     "output_type": "stream",
     "text": [
      "{\"error\":\"RemoteTransportException[[search-06][inet[/172.31.49.239:9300]][indices:admin/create]]; nested: IndexAlreadyExistsException[[gsod_1929] already exists]; \",\"status\":400}{\"acknowledged\":true}"
     ]
    },
    {
     "name": "stderr",
     "output_type": "stream",
     "text": [
      "  % Total    % Received % Xferd  Average Speed   Time    Time     Time  Current\n",
      "                                 Dload  Upload   Total   Spent    Left  Speed\n",
      "\r",
      "  0     0    0     0    0     0      0      0 --:--:-- --:--:-- --:--:--     0\r",
      "100   178  100   178    0     0  27397      0 --:--:-- --:--:-- --:--:-- 44500\n",
      "  % Total    % Received % Xferd  Average Speed   Time    Time     Time  Current\n",
      "                                 Dload  Upload   Total   Spent    Left  Speed\n",
      "\r",
      "  0     0    0     0    0     0      0      0 --:--:-- --:--:-- --:--:--     0\r",
      "100   849  100    21  100   828   2049  80804 --:--:-- --:--:-- --:--:-- 92000\n"
     ]
    }
   ],
   "source": [
    "%%bash\n",
    "\n",
    "curl -XPUT 'http://search-01.ec2.internal:9200/gsod_1929'\n",
    "curl -XPUT 'http://search-01.ec2.internal:9200/gsod_1929/_mapping/observation' -d '\n",
    "{\n",
    "    \"observation\": {\n",
    "        \"properties\": {\n",
    "            \"Num of Obs\": {\"type\": \"integer\"},\n",
    "            \"Wind Speed\": {\"type\": \"float\"},\n",
    "            \"FRSHTT\": {\"type\": \"string\"},\n",
    "            \"Snow Depth\": {\"type\": \"float\"},\n",
    "            \"Gust\": {\"type\": \"float\"},\n",
    "            \"SLP\": {\"type\": \"float\"},\n",
    "            \"Mean Temp\": {\"type\": \"float\"},\n",
    "            \"Max Wind Speed\": {\"type\": \"float\"},\n",
    "            \"Max Temp\": {\"type\": \"float\"},\n",
    "            \"STP\": {\"type\": \"float\"},\n",
    "            \"Min Temp\": {\"type\": \"float\"},\n",
    "            \"WBAN\": {\"type\": \"string\"},\n",
    "            \"Date\": {\"type\": \"date\", \"format\": \"dateOptionalTime\"},\n",
    "            \"Station Id\": {\"type\": \"string\"},\n",
    "            \"Dew Point\": {\"type\": \"float\"},\n",
    "            \"Precipitation\": {\"type\": \"float\"},\n",
    "            \"Visibility\": {\"type\": \"float\"}\n",
    "        }\n",
    "    }\n",
    "}'"
   ]
  },
  {
   "cell_type": "code",
   "execution_count": 27,
   "metadata": {
    "collapsed": false
   },
   "outputs": [
    {
     "name": "stdout",
     "output_type": "stream",
     "text": [
      "Num of Obs        {u'type': u'integer'}\n",
      "Wind Speed        {u'type': u'float'}\n",
      "FRSHTT            {u'type': u'string'}\n",
      "Snow Depth        {u'type': u'float'}\n",
      "Gust              {u'type': u'float'}\n",
      "SLP               {u'type': u'float'}\n",
      "Mean Temp         {u'type': u'float'}\n",
      "Max Wind Speed    {u'type': u'float'}\n",
      "Max Temp          {u'type': u'float'}\n",
      "STP               {u'type': u'float'}\n",
      "Min Temp          {u'type': u'float'}\n",
      "WBAN              {u'type': u'string'}\n",
      "Date              {u'type': u'date', u'format': u'dateOptionalTime'}\n",
      "Station Id        {u'type': u'string'}\n",
      "Dew Point         {u'type': u'float'}\n",
      "Precipitation     {u'type': u'float'}\n",
      "Visibility        {u'type': u'float'}\n"
     ]
    }
   ],
   "source": [
    "mapping = es.indices.get_mapping(\"gsod_1929\")\n",
    "obs_mapping = collections.OrderedDict(mapping['gsod_1929']['mappings']['observation']['properties'])\n",
    "for ob_params in obs_mapping:\n",
    "    print(\"{:18s}{}\".format(ob_params, obs_mapping[ob_params]))"
   ]
  },
  {
   "cell_type": "code",
   "execution_count": 10,
   "metadata": {
    "collapsed": false
   },
   "outputs": [],
   "source": [
    "# This is an example of deleting an index\n",
    "# %%bash\n",
    "\n",
    "# curl -XDELETE 'http://search-01.ec2.internal:9200/gsod_1929'"
   ]
  },
  {
   "cell_type": "code",
   "execution_count": 63,
   "metadata": {
    "collapsed": false
   },
   "outputs": [
    {
     "data": {
      "text/plain": [
       "{u'_shards': {u'failed': 0, u'successful': 5, u'total': 5},\n",
       " u'hits': {u'hits': [{u'_id': u'AUvBIbSjDzV4m8XpLaJ1',\n",
       "    u'_index': u'gsod',\n",
       "    u'_score': 9.448398,\n",
       "    u'_source': {u'Max Temp': u'98.6'},\n",
       "    u'_type': u'observation'}],\n",
       "  u'max_score': 9.448398,\n",
       "  u'total': 27556},\n",
       " u'timed_out': False,\n",
       " u'took': 30}"
      ]
     },
     "execution_count": 63,
     "metadata": {},
     "output_type": "execute_result"
    }
   ],
   "source": [
    "query = json.dumps({\n",
    "    \"query\": {\n",
    "        \"match\": { \n",
    "            \"Mean Temp\": \"89.3\"\n",
    "        }\n",
    "    },\n",
    "    \"_source\": \"Max Temp\",\n",
    "    \"size\": num_of_returns\n",
    "})\n",
    "\n",
    "es.search(index=\"gsod\", body=query)"
   ]
  },
  {
   "cell_type": "code",
   "execution_count": 2,
   "metadata": {
    "collapsed": false
   },
   "outputs": [
    {
     "data": {
      "text/plain": [
       "{u'_shards': {u'failed': 0, u'successful': 5, u'total': 5},\n",
       " u'hits': {u'hits': [{u'_id': u'AUvB4D-ly5q7zM_GbSn4',\n",
       "    u'_index': u'gsod',\n",
       "    u'_score': 1.0,\n",
       "    u'_source': {u'Mean Temp': u'42.2'},\n",
       "    u'_type': u'observation'},\n",
       "   {u'_id': u'AUvB4D-uy5q7zM_GbSoE',\n",
       "    u'_index': u'gsod',\n",
       "    u'_score': 1.0,\n",
       "    u'_source': {u'Mean Temp': u'37.0'},\n",
       "    u'_type': u'observation'}],\n",
       "  u'max_score': 1.0,\n",
       "  u'total': 4726},\n",
       " u'timed_out': False,\n",
       " u'took': 8}"
      ]
     },
     "execution_count": 2,
     "metadata": {},
     "output_type": "execute_result"
    }
   ],
   "source": [
    "import es_gsod\n",
    "\n",
    "gsod = es_gsod.ESGsod()\n",
    "gsod.search_by_date(\"1970-09-24\", \"1970-09-25\", 2, \"Mean Temp\")"
   ]
  }
 ],
 "metadata": {
  "kernelspec": {
   "display_name": "Python 2",
   "language": "python",
   "name": "python2"
  },
  "language_info": {
   "codemirror_mode": {
    "name": "ipython",
    "version": 2
   },
   "file_extension": ".py",
   "mimetype": "text/x-python",
   "name": "python",
   "nbconvert_exporter": "python",
   "pygments_lexer": "ipython2",
   "version": "2.7.9"
  }
 },
 "nbformat": 4,
 "nbformat_minor": 0
}
