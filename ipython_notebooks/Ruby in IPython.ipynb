{
 "metadata": {
  "name": "",
  "signature": "sha256:67743dcc35a195b7642d35ffd6040c936e8b057344335ee4b0af8669cbf6d502"
 },
 "nbformat": 3,
 "nbformat_minor": 0,
 "worksheets": [
  {
   "cells": [
    {
     "cell_type": "code",
     "collapsed": false,
     "input": [
      "%%ruby\n",
      "\n",
      "def fibo(num)\n",
      "    if num < 2\n",
      "        num\n",
      "    else\n",
      "        fibo(num-1) + fibo(num-2)\n",
      "    end\n",
      "end\n",
      "\n",
      "puts fibo(18)"
     ],
     "language": "python",
     "metadata": {},
     "outputs": [
      {
       "output_type": "stream",
       "stream": "stdout",
       "text": [
        "2584\n"
       ]
      }
     ],
     "prompt_number": 1
    },
    {
     "cell_type": "code",
     "collapsed": false,
     "input": [
      "%%ruby\n",
      "\n",
      "def fibonacci( n )\n",
      "  return  n  if ( 0..1 ).include? n\n",
      "  ( fibonacci( n - 1 ) + fibonacci( n - 2 ) )\n",
      "end\n",
      "\n",
      "puts fibonacci(18)"
     ],
     "language": "python",
     "metadata": {},
     "outputs": [
      {
       "output_type": "stream",
       "stream": "stdout",
       "text": [
        "2584\n"
       ]
      }
     ],
     "prompt_number": 7
    },
    {
     "cell_type": "code",
     "collapsed": false,
     "input": [
      "%%ruby\n",
      "\n",
      "def sieve(max=100)\n",
      "    sieve = []\n",
      "    (2..max).each { |i| sieve[i] = i }\n",
      "    (2..Math.sqrt(max)).each do |i|\n",
      "        (i*i).step(max, i) { |j| sieve[j] = nil } if sieve[i]\n",
      "    end\n",
      "    sieve.compact\n",
      "end\n",
      "\n",
      "puts sieve(10)"
     ],
     "language": "python",
     "metadata": {},
     "outputs": [
      {
       "output_type": "stream",
       "stream": "stdout",
       "text": [
        "2\n",
        "3\n",
        "5\n",
        "7\n"
       ]
      }
     ],
     "prompt_number": 10
    },
    {
     "cell_type": "code",
     "collapsed": false,
     "input": [],
     "language": "python",
     "metadata": {},
     "outputs": []
    }
   ],
   "metadata": {}
  }
 ]
}