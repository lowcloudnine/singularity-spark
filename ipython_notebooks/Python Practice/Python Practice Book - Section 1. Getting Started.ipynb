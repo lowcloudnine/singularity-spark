{
 "cells": [
  {
   "cell_type": "markdown",
   "metadata": {},
   "source": [
    "## Imports"
   ]
  },
  {
   "cell_type": "code",
   "execution_count": 2,
   "metadata": {
    "collapsed": false
   },
   "outputs": [
    {
     "name": "stdout",
     "output_type": "stream",
     "text": [
      "Populating the interactive namespace from numpy and matplotlib\n"
     ]
    }
   ],
   "source": [
    "# for ipython notebooks this display images inline and imports \n",
    "# numpy and matplotlib\n",
    "%pylab inline\n",
    "\n",
    "# ----- Future Libraries for Python 3 portability\n",
    "from __future__ import print_function\n",
    "from future.builtins import range\n",
    "\n",
    "# ---- Standard Libraries (not imported by pylab)\n",
    "import time\n",
    "\n",
    "# ---- Scientific Libraries (not imported by pylab)\n",
    "import pandas as pd"
   ]
  },
  {
   "cell_type": "code",
   "execution_count": 2,
   "metadata": {
    "collapsed": false
   },
   "outputs": [
    {
     "data": {
      "text/plain": [
       "5"
      ]
     },
     "execution_count": 2,
     "metadata": {},
     "output_type": "execute_result"
    }
   ],
   "source": [
    "# Problem 1\n",
    "2 + 3"
   ]
  },
  {
   "cell_type": "code",
   "execution_count": 3,
   "metadata": {
    "collapsed": false
   },
   "outputs": [
    {
     "name": "stdout",
     "output_type": "stream",
     "text": [
      "hello, world!\n",
      "hello, world!\n",
      "hello, world!\n",
      "hello, world!\n"
     ]
    }
   ],
   "source": [
    "# Problem 2\n",
    "for hello in [\"hello, world!\" for x in range(4)]:\n",
    "    print(hello)"
   ]
  },
  {
   "cell_type": "code",
   "execution_count": 4,
   "metadata": {
    "collapsed": false
   },
   "outputs": [
    {
     "name": "stdout",
     "output_type": "stream",
     "text": [
      "3\n"
     ]
    }
   ],
   "source": [
    "# Problem 3\n",
    "print(1 + 2)"
   ]
  },
  {
   "cell_type": "code",
   "execution_count": 5,
   "metadata": {
    "collapsed": false
   },
   "outputs": [
    {
     "name": "stdout",
     "output_type": "stream",
     "text": [
      "2 5\n",
      "6 4\n",
      "2 3 2\n"
     ]
    }
   ],
   "source": [
    "# Problem 4\n",
    "x = 4\n",
    "y = x + 1\n",
    "x = 2\n",
    "print(x, y)\n",
    "\n",
    "# Problem 5\n",
    "x, y = 2, 6\n",
    "x, y = y, x + 2\n",
    "print(x, y)\n",
    "\n",
    "# Problem 6\n",
    "a, b = 2, 3\n",
    "c = a\n",
    "c, b = a, c + 1\n",
    "print(a, b, c)"
   ]
  },
  {
   "cell_type": "code",
   "execution_count": 6,
   "metadata": {
    "collapsed": false
   },
   "outputs": [
    {
     "name": "stdout",
     "output_type": "stream",
     "text": [
      "25 1\n",
      "100 2\n"
     ]
    }
   ],
   "source": [
    "# Problem 7\n",
    "numcalls = 0\n",
    "def square(x):\n",
    "    global numcalls\n",
    "    numcalls = numcalls + 1\n",
    "    return x * x\n",
    "\n",
    "print(square(5), numcalls) # numcalls will be 1\n",
    "print(square(2*5), numcalls) # numcalls will be 2 as numcalls is global"
   ]
  },
  {
   "cell_type": "code",
   "execution_count": 7,
   "metadata": {
    "collapsed": false
   },
   "outputs": [
    {
     "name": "stdout",
     "output_type": "stream",
     "text": [
      "1 1\n"
     ]
    }
   ],
   "source": [
    "# Problem 8\n",
    "x = 1\n",
    "def f():\n",
    "    return x\n",
    "print(x, f())\n",
    "\n",
    "# output should be 1 1"
   ]
  },
  {
   "cell_type": "code",
   "execution_count": 8,
   "metadata": {
    "collapsed": false
   },
   "outputs": [
    {
     "name": "stdout",
     "output_type": "stream",
     "text": [
      "1 2 1\n"
     ]
    }
   ],
   "source": [
    "# Problem 9\n",
    "x = 1\n",
    "def f():\n",
    "    x = 2\n",
    "    return x\n",
    "print(x, f(), x)\n",
    "\n",
    "# output should be 1, 2, 1"
   ]
  },
  {
   "cell_type": "code",
   "execution_count": 9,
   "metadata": {
    "collapsed": false
   },
   "outputs": [
    {
     "name": "stdout",
     "output_type": "stream",
     "text": [
      "1 3 1\n"
     ]
    }
   ],
   "source": [
    "# Problem 10\n",
    "x = 1\n",
    "def f():\n",
    "    y = 1 # original problem had x so use x to make it error\n",
    "    x = 2\n",
    "    return x + y\n",
    "print(x, f(), x)\n",
    "\n",
    "# output should be 1 3 1 --> nope can only return outside variables, this \n",
    "# fails with:  local variable 'x' referenced before assignment"
   ]
  },
  {
   "cell_type": "code",
   "execution_count": 10,
   "metadata": {
    "collapsed": false
   },
   "outputs": [
    {
     "name": "stdout",
     "output_type": "stream",
     "text": [
      "2 9\n"
     ]
    }
   ],
   "source": [
    "# Problem 11\n",
    "x = 2\n",
    "def f(a):\n",
    "    x = a * a\n",
    "    return x\n",
    "y = f(3)\n",
    "print(x, y)\n",
    "\n",
    "# output should be 2 9"
   ]
  },
  {
   "cell_type": "code",
   "execution_count": 11,
   "metadata": {
    "collapsed": false
   },
   "outputs": [
    {
     "name": "stdout",
     "output_type": "stream",
     "text": [
      "1 6\n"
     ]
    }
   ],
   "source": [
    "# Problem 12\n",
    "# as a standard function\n",
    "# def count_digits(number):\n",
    "#     return len(str(number))\n",
    "\n",
    "# as a lambda function\n",
    "count_digits = lambda x: len(str(x))\n",
    "\n",
    "print(count_digits(5), count_digits(123456))"
   ]
  },
  {
   "cell_type": "code",
   "execution_count": 12,
   "metadata": {
    "collapsed": false
   },
   "outputs": [
    {
     "name": "stdout",
     "output_type": "stream",
     "text": [
      "True True False\n"
     ]
    }
   ],
   "source": [
    "# Problem 13\n",
    "# as a standard function\n",
    "# def istrcmp(str1, str2):\n",
    "#     return str1.lower() == str2.lower()\n",
    "\n",
    "# as a lambda\n",
    "istrcmp = lambda x, y: x.lower() == y.lower()\n",
    "\n",
    "print(istrcmp('python', 'Python'), \n",
    "      istrcmp('LaTeX', 'Latex'),\n",
    "      istrcmp('a', 'b'))"
   ]
  },
  {
   "cell_type": "code",
   "execution_count": 18,
   "metadata": {
    "collapsed": false
   },
   "outputs": [
    {
     "name": "stdout",
     "output_type": "stream",
     "text": [
      "True True True False\n"
     ]
    }
   ],
   "source": [
    "# Problem 14\n",
    "print(2 < 3 and 3 > 1,\n",
    "      2 < 3 or 3 > 1,\n",
    "      2 < 3 or not 3 > 1,\n",
    "      2 < 3 and not 3 > 1)\n",
    "\n",
    "# output should be:  True True True False"
   ]
  },
  {
   "cell_type": "code",
   "execution_count": 20,
   "metadata": {
    "collapsed": false
   },
   "outputs": [
    {
     "name": "stdout",
     "output_type": "stream",
     "text": [
      "True\n",
      "False True True\n"
     ]
    }
   ],
   "source": [
    "# Problem 15\n",
    "x, y, z = 4, 5, 6\n",
    "print(x < y or x < z)\n",
    "# output should be True\n",
    "\n",
    "# Problem 16\n",
    "True, False = False, True\n",
    "print(True, False, 2 < 3)\n",
    "# for the love of god, why?  fixed in Python 3\n",
    "# see: http://python-history.blogspot.com/2013/11/story-of-none-true-false.html\n",
    "# output should be False True, False but it is:"
   ]
  },
  {
   "cell_type": "code",
   "execution_count": 6,
   "metadata": {
    "collapsed": false
   },
   "outputs": [
    {
     "ename": "SyntaxError",
     "evalue": "invalid syntax (<ipython-input-6-2cf5e6985c13>, line 17)",
     "output_type": "error",
     "traceback": [
      "\u001b[1;36m  File \u001b[1;32m\"<ipython-input-6-2cf5e6985c13>\"\u001b[1;36m, line \u001b[1;32m17\u001b[0m\n\u001b[1;33m    x +\u001b[0m\n\u001b[1;37m       ^\u001b[0m\n\u001b[1;31mSyntaxError\u001b[0m\u001b[1;31m:\u001b[0m invalid syntax\n"
     ]
    }
   ],
   "source": [
    "# Problem 17\n",
    "\n",
    "x = 2\n",
    "if x == 2:\n",
    "    print(x)\n",
    "else:\n",
    "    print(y)\n",
    "    \n",
    "# this code will execute fully if and only if x = 2 otherwise it will fail,\n",
    "# this is because python is interpreted\n",
    "\n",
    "# Problem 18\n",
    "x = 2\n",
    "if x == 2:\n",
    "    print(x)\n",
    "else:\n",
    "    x + \n",
    "    \n",
    "# code will fail because the interpeter will detect a syntax error"
   ]
  },
  {
   "cell_type": "code",
   "execution_count": null,
   "metadata": {
    "collapsed": true
   },
   "outputs": [],
   "source": [
    "# Problem 19\n",
    "# The code below should be in a file named add.py and run from the\n",
    "# command line\n",
    "\n",
    "#!/usr/bin/env python\n",
    "# -*- coding: utf-8 -*-\n",
    "\"\"\" \n",
    "Purpose\n",
    "-------\n",
    "\n",
    "Problem 19 from http://anandology.com/python-practice-book/getting-started.html\n",
    "\n",
    "\"\"\"\n",
    "# ----------------------------------------------------------------------------\n",
    "# Imports\n",
    "# ----------------------------------------------------------------------------\n",
    "\n",
    "\n",
    "from __future__ import print_function\n",
    "\n",
    "import argparse\n",
    "import sys\n",
    "\n",
    "# ----------------------------------------------------------------------------\n",
    "# Main\n",
    "# ----------------------------------------------------------------------------\n",
    "\n",
    "\n",
    "def use_argparse():\n",
    "    \"\"\" Parse the command line arguments using argparse. \"\"\"\n",
    "    parser = argparse.ArgumentParser(description='Add some integers.')\n",
    "    parser.add_argument('integers', metavar='N', type=int, nargs='+', \n",
    "                        help='integers to sum')\n",
    "    parser.add_argument('-s', '--sum', dest='accumulate', \n",
    "                        action='store_const', \n",
    "                        const=sum, default=sum,\n",
    "                        help='sum the integers')\n",
    "    \n",
    "    args = parser.parse_args()\n",
    "    return args.accumulate(args.integers)\n",
    "\n",
    "def use_sys_args():\n",
    "    \"\"\" Parse the command line arguments using sys.args. \"\"\"\n",
    "    the_sum = 0\n",
    "    for arg in sys.argv[1:]: # sys.argv[0] is the name of the script\n",
    "        the_sum += int(arg)\n",
    "        \n",
    "    return the_sum \n",
    "\n",
    "def main():\n",
    "    \"\"\" Runs the script as a stand alone application. \"\"\"\n",
    "    # print(use_argparse())\n",
    "    print(use_sys_args())\n",
    "\n",
    "# ----------------------------------------------------------------------------\n",
    "# Name\n",
    "# ----------------------------------------------------------------------------\n",
    "\n",
    "\n",
    "if __name__ == \"__main__\":\n",
    "    main()"
   ]
  }
 ],
 "metadata": {
  "kernelspec": {
   "display_name": "Python 2",
   "language": "python",
   "name": "python2"
  },
  "language_info": {
   "codemirror_mode": {
    "name": "ipython",
    "version": 2
   },
   "file_extension": ".py",
   "mimetype": "text/x-python",
   "name": "python",
   "nbconvert_exporter": "python",
   "pygments_lexer": "ipython2",
   "version": "2.7.9"
  }
 },
 "nbformat": 4,
 "nbformat_minor": 0
}
