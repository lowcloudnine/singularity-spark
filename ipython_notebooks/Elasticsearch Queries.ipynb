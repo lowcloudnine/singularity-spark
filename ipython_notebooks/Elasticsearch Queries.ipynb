{
 "metadata": {
  "name": "",
  "signature": "sha256:69368fd1c4dce8a1a6f2592fece0cd72fd16a15784e8f45d75ce9220a6a2b069"
 },
 "nbformat": 3,
 "nbformat_minor": 0,
 "worksheets": [
  {
   "cells": [
    {
     "cell_type": "code",
     "collapsed": false,
     "input": [
      "%pylab inline\n",
      "\n",
      "from __future__ import absolute_import\n",
      "from __future__ import division\n",
      "from __future__ import print_function\\\n",
      "\n",
      "from future.builtins import (bytes, open, super, range,\n",
      "                             zip, round, input, pow, object)\n",
      "\n",
      "import collections\n",
      "import random\n",
      "import time\n",
      "\n",
      "import elasticsearch\n",
      "from elasticsearch import Elasticsearch\n",
      "es = Elasticsearch(['http://search-02.ec2.internal:9200'], timeout=60)"
     ],
     "language": "python",
     "metadata": {},
     "outputs": [
      {
       "output_type": "stream",
       "stream": "stdout",
       "text": [
        "Populating the interactive namespace from numpy and matplotlib\n"
       ]
      },
      {
       "output_type": "stream",
       "stream": "stderr",
       "text": [
        "WARNING: pylab import has clobbered these variables: ['random', 'bytes']\n",
        "`%matplotlib` prevents importing * from pylab and numpy\n"
       ]
      }
     ],
     "prompt_number": 46
    },
    {
     "cell_type": "code",
     "collapsed": false,
     "input": [
      "\"\"\"\n",
      "Note\n",
      "----\n",
      "Queries in elasticsearch are json.  Queries must start and end with\n",
      "curly braces.\n",
      "\n",
      "Dates must be in the format YYYY-MM-DD and example is:\n",
      "\n",
      "2005-01-09\n",
      "\n",
      "\"\"\"\n",
      "def days_in_feb(year):\n",
      "    \"\"\" A simple over simplified but works for years from 1929 to 2009. \"\"\"\n",
      "    return 28 if int(year) % 4 else 29\n",
      "\n",
      "def get_count(start_date, end_date):\n",
      "    \"\"\" If es is defined and connects to an elasticsearch instance with the\n",
      "    gsod data then it returns the number of observations (i.e. documents) in\n",
      "    a range from the start_date to the end_date\n",
      "    \n",
      "    \"\"\"\n",
      "    query = '{ \"query\": {\\\n",
      "                 \"filtered\": {\\\n",
      "                   \"query\": { \"match_all\": {} },\\\n",
      "                 \"filter\": {\\\n",
      "                   \"range\": {\\\n",
      "                     \"Date\": {\\\n",
      "                       \"gte\": \"' + start_date + '\",\\\n",
      "                       \"lte\": \"' + end_date + '\" }}}}}}'\n",
      "    return (es.count(index=\"gsod\", body=query))['count']\n",
      "\n",
      "\n",
      "def get_all_obs(start_date, end_date):\n",
      "    num_of_obs = get_count(start_date, end_date)\n",
      "    query = '{ \"query\": {\\\n",
      "             \"filtered\": {\\\n",
      "               \"query\": { \"match_all\": {} },\\\n",
      "             \"filter\": {\\\n",
      "               \"range\": {\\\n",
      "                 \"Date\": {\\\n",
      "                   \"gte\": \"' + start_date + '\",\\\n",
      "                   \"lte\": \"' + end_date + '\" }}}\\\n",
      "             }}, \"size\": ' + str(num_of_obs) + ' }'\n",
      "    return es.search(index=\"gsod\", body=query)"
     ],
     "language": "python",
     "metadata": {},
     "outputs": [],
     "prompt_number": 56
    },
    {
     "cell_type": "code",
     "collapsed": false,
     "input": [
      "obs_by_year = {}\n",
      "for year in range(1940, 1949):\n",
      "    start_time = time.time()\n",
      "    year = str(year)\n",
      "    months = {\"01\": \"31\", \"02\": str(days_in_feb(year)), \"03\": \"31\",\n",
      "              \"04\": \"30\", \"05\": \"31\", \"06\": \"30\",\n",
      "              \"07\": \"31\", \"08\": \"31\", \"09\": \"30\",\n",
      "              \"10\": \"31\", \"11\": \"30\", \"12\": \"31\"}                      \n",
      "    obs = []\n",
      "    for month, days in months.iteritems():\n",
      "        start_date = year + \"-\" + month + \"-01\"\n",
      "        end_date = year + \"-\" + month + \"-\" + days\n",
      "    \n",
      "        obs.append(get_all_obs(start_date, end_date))\n",
      "        \n",
      "    obs_by_year[year] = obs"
     ],
     "language": "python",
     "metadata": {},
     "outputs": [],
     "prompt_number": 90
    },
    {
     "cell_type": "code",
     "collapsed": false,
     "input": [
      "max_tmps = []\n",
      "min_tmps = []\n",
      "\n",
      "for year in range(1940, 1949):\n",
      "    for ob in obs_by_year[str(year)][0]['hits']['hits']:\n",
      "        max_tmp = ob['_source']['Max Temp']\n",
      "        if float(max_tmp) < 300.0:\n",
      "            max_tmps.append(float(max_tmp))\n",
      "\n",
      "        min_tmp = ob['_source']['Min Temp']\n",
      "        min_tmps.append(float(min_tmp))\n",
      "\n",
      "    max_tmp = max(max_tmps)\n",
      "    min_tmp = min(min_tmps)\n",
      "\n",
      "    print(year, max_tmp, min_tmp)"
     ],
     "language": "python",
     "metadata": {},
     "outputs": [
      {
       "output_type": "stream",
       "stream": "stdout",
       "text": [
        "1940 106.2 -14.1\n",
        "1941 106.2 -37.5\n",
        "1942"
       ]
      },
      {
       "output_type": "stream",
       "stream": "stdout",
       "text": [
        " 112.3 -43.6\n",
        "1943"
       ]
      },
      {
       "output_type": "stream",
       "stream": "stdout",
       "text": [
        " 112.3 -43.6\n",
        "1944"
       ]
      },
      {
       "output_type": "stream",
       "stream": "stdout",
       "text": [
        " 112.3 -45.6\n",
        "1945"
       ]
      },
      {
       "output_type": "stream",
       "stream": "stdout",
       "text": [
        " 112.3 -54.6\n",
        "1946"
       ]
      },
      {
       "output_type": "stream",
       "stream": "stdout",
       "text": [
        " 112.3 -54.6\n",
        "1947"
       ]
      },
      {
       "output_type": "stream",
       "stream": "stdout",
       "text": [
        " 112.3 -54.6\n",
        "1948"
       ]
      },
      {
       "output_type": "stream",
       "stream": "stdout",
       "text": [
        " 112.3 -56.0\n"
       ]
      }
     ],
     "prompt_number": 92
    },
    {
     "cell_type": "code",
     "collapsed": false,
     "input": [],
     "language": "python",
     "metadata": {},
     "outputs": []
    }
   ],
   "metadata": {}
  }
 ]
}