{
 "metadata": {
  "name": "",
  "signature": "sha256:ea18480fe570fdc0aee316d1d2f42d357c9c732abd2b6e396f96c59fb7fa8c7a"
 },
 "nbformat": 3,
 "nbformat_minor": 0,
 "worksheets": [
  {
   "cells": [
    {
     "cell_type": "heading",
     "level": 2,
     "metadata": {},
     "source": [
      "Imports"
     ]
    },
    {
     "cell_type": "code",
     "collapsed": false,
     "input": [
      "%pylab inline\n",
      "\n",
      "from __future__ import absolute_import\n",
      "from __future__ import division\n",
      "from __future__ import print_function\n",
      "\n",
      "from future.builtins import (bytes, str, open, super, range,\n",
      "                      zip, round, input, int, pow, object)\n",
      "\n",
      "if sys.version_info.major == 2:\n",
      "    # in Python 2 cPickle is much faster than pickle but doesn't deal w/ unicode\n",
      "    import cPickle as pickle\n",
      "else:\n",
      "    # Python 3 loads the faster pickle by default if it's available\n",
      "    import pickle\n",
      "\n",
      "import random\n",
      "import time"
     ],
     "language": "python",
     "metadata": {},
     "outputs": [
      {
       "output_type": "stream",
       "stream": "stdout",
       "text": [
        "Populating the interactive namespace from numpy and matplotlib\n"
       ]
      }
     ],
     "prompt_number": 1
    },
    {
     "cell_type": "code",
     "collapsed": false,
     "input": [
      "from utils import header\n",
      "print(header.create_header(sc))"
     ],
     "language": "python",
     "metadata": {},
     "outputs": [
      {
       "output_type": "stream",
       "stream": "stdout",
       "text": [
        "\n",
        "Test Name                              No\n",
        "Machine            c2-master.ec2.internal\n",
        "Date                          16 Feb 2015\n",
        "Start Time                       20:27:19\n",
        "\n",
        "Spark Configuration\n",
        "========================================================================\n",
        "spark.serializer.objectStreamReset\n",
        "    100\n",
        "spark.rdd.compress\n",
        "    True\n",
        "spark.app.name\n",
        "    PySparkShell\n",
        "spark.master\n",
        "    local[*]\n",
        "========================================================================\n",
        "\n",
        "\n"
       ]
      }
     ],
     "prompt_number": 2
    },
    {
     "cell_type": "code",
     "collapsed": false,
     "input": [
      "global_start_time = time.time()"
     ],
     "language": "python",
     "metadata": {},
     "outputs": [],
     "prompt_number": 3
    },
    {
     "cell_type": "heading",
     "level": 2,
     "metadata": {},
     "source": [
      "Simple test for Functionality"
     ]
    },
    {
     "cell_type": "code",
     "collapsed": false,
     "input": [
      "def obs_count(year):\n",
      "    \"\"\" Returns the number of observations in a given year. \"\"\"\n",
      "    start_time = time.time()\n",
      "    obs = sc.textFile(\"/user/schiefjm/weather/gsod/\" + str(year))\n",
      "    the_count = obs.count()\n",
      "    end_time = time.time() - start_time\n",
      "    \n",
      "    return year, the_count, round(end_time, 3)"
     ],
     "language": "python",
     "metadata": {},
     "outputs": [],
     "prompt_number": 4
    },
    {
     "cell_type": "code",
     "collapsed": false,
     "input": [
      "def obs_count_test(num_tests, years):\n",
      "    all_results = []\n",
      "    for year in years:\n",
      "        results = []\n",
      "        for test in range(num_tests):\n",
      "            results.append(obs_count(year))\n",
      "        all_results.append(results)\n",
      "    \n",
      "    return all_results\n",
      "\n",
      "def generate_test_results(all_results):\n",
      "    print(\"Year\\tObs\\tTests\\tMin\\tMax\\tAvg\")\n",
      "    print(\"*\" * 45)\n",
      "    for result in all_results:\n",
      "        year = result[0][0]\n",
      "        num_obs = result[0][1]\n",
      "        num_tests = len(result)\n",
      "        run_times = [test[2] for test in result]\n",
      "        print(\"{}\\t{:6,}\\t{}\\t{:.2f}\\t{:0.2f}\\t{:0.2f}\\t\"\\\n",
      "              .format(year, \n",
      "                      num_obs, \n",
      "                      num_tests, \n",
      "                      min(run_times), \n",
      "                      max(run_times), \n",
      "                      sum(run_times)/num_tests))\n",
      "    \n",
      "generate_test_results(obs_count_test(10, [year for year in range(1929, 1940)]))"
     ],
     "language": "python",
     "metadata": {},
     "outputs": [
      {
       "output_type": "stream",
       "stream": "stdout",
       "text": [
        "Year\tObs\tTests\tMin\tMax\tAvg\n",
        "*********************************************\n",
        "1929\t 2,102\t10\t0.37\t2.06\t0.61\t\n",
        "1930\t 7,308\t10\t0.38\t0.44\t0.40\t\n",
        "1931\t 9,944\t10\t0.46\t0.51\t0.48\t\n",
        "1932\t10,970\t10\t0.54\t0.57\t0.56\t\n",
        "1933\t18,339\t10\t1.10\t1.15\t1.13\t\n",
        "1934\t21,027\t10\t1.32\t1.37\t1.34\t\n",
        "1935\t27,500\t10\t1.62\t1.77\t1.67\t\n",
        "1936\t51,635\t10\t3.04\t3.35\t3.11\t\n",
        "1937\t85,245\t10\t3.67\t3.94\t3.72\t\n",
        "1938\t52,113\t10\t2.22\t2.31\t2.28\t\n",
        "1939\t65,925\t10\t3.03\t3.31\t3.10\t\n"
       ]
      }
     ],
     "prompt_number": 5
    },
    {
     "cell_type": "heading",
     "level": 2,
     "metadata": {},
     "source": [
      "Calculate Mean, Minimum and Maximum Temperatures"
     ]
    },
    {
     "cell_type": "code",
     "collapsed": false,
     "input": [
      "# Since Spark is being run local no need to specify a HDFS server.\n",
      "\n",
      "def global_summary(year):\n",
      "    \"\"\" Given a year will return a list of the mean temp, min temp, max temp\n",
      "    and more as it expands.\n",
      "\n",
      "    This will use one (hopefully) persistent RDD so it should be faster than\n",
      "    using the individual functions above.\n",
      "\n",
      "    \"\"\"\n",
      "    obs_rdd = sc.textFile(\"/user/schiefjm/weather/gsod/\" + str(year))\\\n",
      "                         .filter(lambda line: \"STN\" not in line)\n",
      "    num_obs = obs_rdd.count()\n",
      "\n",
      "    sum_of_temps = obs_rdd.map(lambda line: float(line.split()[3]))\\\n",
      "                          .reduce(lambda x, y: x + y)\n",
      "    mean_temp = round(sum_of_temps / num_obs, 2)\n",
      "\n",
      "    max_temp = obs_rdd.map(lambda line: float(line.split()[17].strip(\"*\")))\\\n",
      "                       .filter(lambda x: x < 160)\\\n",
      "                       .reduce(lambda x, y: x if x > y else y)\n",
      "    min_temp = obs_rdd.map(lambda line: float(line.split()[18].strip(\"*\")))\\\n",
      "                       .filter(lambda x: x != 999.9)\\\n",
      "                       .reduce(lambda x, y: x if x < y else y)\n",
      "\n",
      "    return [year, mean_temp, min_temp, max_temp, num_obs]"
     ],
     "language": "python",
     "metadata": {},
     "outputs": [],
     "prompt_number": 6
    },
    {
     "cell_type": "code",
     "collapsed": false,
     "input": [
      "start_year = 1929\n",
      "stop_year = 1940\n",
      "\n",
      "start_time = time.time()\n",
      "\n",
      "summary = []\n",
      "for year in range(start_year, stop_year + 1):\n",
      "    summary.append(global_summary(year))\n",
      "\n",
      "print(\"Temperature summaries for {} to {} took {:.2f} seconds to run.\"\\\n",
      "      .format(start_year, stop_year, time.time() - start_time))\n",
      "\n",
      "summary_pickle = \"summary_\" + str(start_year) + \"to\" + str(stop_year) + \".pkl\"\n",
      "pickle.dump(summary, open(summary_pickle, \"wb\"))\n",
      "print(\"Created a pickle of the summary: {}\".format(summary_pickle))"
     ],
     "language": "python",
     "metadata": {},
     "outputs": [
      {
       "output_type": "stream",
       "stream": "stdout",
       "text": [
        "Temperature summaries for 1929 to 1940 took 85.39 seconds to run.\n",
        "Created a pickle of the summary: summary_1929to1940.pkl\n"
       ]
      }
     ],
     "prompt_number": 7
    },
    {
     "cell_type": "code",
     "collapsed": false,
     "input": [
      "def global_summary_test(num_tests, years):\n",
      "    all_results = []\n",
      "    for year in years:\n",
      "        results = []\n",
      "        for test in range(num_tests):\n",
      "            start_time = time.time()\n",
      "            year, mean_tmp, min_tmp, max_tmp, num_obs = global_summary(year)\n",
      "            run_time = time.time() - start_time\n",
      "            results.append([year, num_obs, mean_tmp, min_tmp, max_tmp, run_time])\n",
      "        all_results.append(results)\n",
      "    \n",
      "    return all_results\n",
      "\n",
      "def generate_test_results(all_results):\n",
      "    print(\"Year\\tObs\\tTests\\tMin\\tMax\\tAvg\")\n",
      "    print(\"*\" * 45)\n",
      "    for result in all_results:\n",
      "        year = result[0][0]\n",
      "        num_obs = result[0][1]\n",
      "        num_tests = len(result)\n",
      "        run_times = [test[-1] for test in result]\n",
      "        print(\"{}\\t{:6,}\\t{}\\t{:.2f}\\t{:.2f}\\t{:.2f}\\t\"\\\n",
      "              .format(year, \n",
      "                      num_obs, \n",
      "                      num_tests, \n",
      "                      min(run_times), \n",
      "                      max(run_times), \n",
      "                      sum(run_times)/num_tests))\n",
      "        \n",
      "start_year = 1929\n",
      "stop_year = 1940\n",
      "generate_test_results(global_summary_test(10, \n",
      "                                          [year for year in range(start_year, stop_year)]))"
     ],
     "language": "python",
     "metadata": {},
     "outputs": [
      {
       "output_type": "stream",
       "stream": "stdout",
       "text": [
        "Year\tObs\tTests\tMin\tMax\tAvg\n",
        "*********************************************\n",
        "1929\t 2,081\t10\t1.11\t1.17\t1.15\t\n",
        "1930\t 7,285\t10\t1.25\t1.34\t1.29\t\n",
        "1931\t 9,913\t10\t1.63\t1.73\t1.67\t\n",
        "1932\t10,931\t10\t1.95\t2.03\t2.00\t\n",
        "1933\t18,248\t10\t4.16\t4.44\t4.23\t\n",
        "1934\t20,916\t10\t5.04\t5.21\t5.13\t\n",
        "1935\t27,357\t10\t6.36\t6.60\t6.46\t\n",
        "1936\t51,360\t10\t12.16\t12.42\t12.27\t\n",
        "1937\t84,913\t10\t14.78\t15.22\t14.92\t\n",
        "1938\t51,912\t10\t9.07\t9.28\t9.17\t\n",
        "1939\t65,650\t10\t12.23\t12.55\t12.35\t\n"
       ]
      }
     ],
     "prompt_number": 8
    },
    {
     "cell_type": "heading",
     "level": 2,
     "metadata": {},
     "source": [
      "Count by Station ID"
     ]
    },
    {
     "cell_type": "code",
     "collapsed": false,
     "input": [
      "def get_stations(year):\n",
      "    \"\"\" Given a year from 1929 to 2009 inclusive returns a set of the \n",
      "    stations in the data set for that year. \n",
      "    \n",
      "    :input:\n",
      "        year: a string or integer between 1929 and 2009 inclusive\n",
      "        \n",
      "    :output:\n",
      "        returns a list of tuples of the station id and number of obs for\n",
      "        said station\n",
      "    \"\"\"\n",
      "    # validate the year\n",
      "    year = int(year)\n",
      "    if 1929 <= year <= 2009:\n",
      "        year = str(year)\n",
      "    else:\n",
      "        print(\"Please enter a valid year from 1929 to 2009.\")\n",
      "        return 0\n",
      "    \n",
      "    # get the stations and number of obs for each\n",
      "    return sc.textFile(\"/user/schiefjm/weather/gsod/\" + year)\\\n",
      "             .filter(lambda line: \"STN\" not in line)\\\n",
      "             .map(lambda line: (line.split()[0], 1))\\\n",
      "             .reduceByKey(lambda x, y: x + y)\\\n",
      "             .collect()\n",
      "\n",
      "for year in range(1929, 1940):\n",
      "    start_time = time.time()\n",
      "    stations = get_stations(year)\n",
      "    end_time = time.time()\n",
      "    total_obs = 0\n",
      "    for station in stations:\n",
      "        total_obs += int(station[1])\n",
      "    print(\"\\n{} has {} stations and {} total observations\"\\\n",
      "          .format(year, len(stations), total_obs))\n",
      "    print(\"Counting the stations and returning them took {:,.2} seconds.\"\\\n",
      "          .format(end_time - start_time))\n",
      "    print(\"-\" * 70)\n",
      "    # for station in stations[:1]:\n",
      "    #    print(\"{}\\t{}\".format(station[0], station[1]))"
     ],
     "language": "python",
     "metadata": {},
     "outputs": [
      {
       "output_type": "stream",
       "stream": "stdout",
       "text": [
        "\n",
        "1929 has 21 stations and 2081 total observations\n",
        "Counting the stations and returning them took 0.74 seconds.\n",
        "----------------------------------------------------------------------\n",
        "\n",
        "1930 has 23 stations and 7285 total observations"
       ]
      },
      {
       "output_type": "stream",
       "stream": "stdout",
       "text": [
        "\n",
        "Counting the stations and returning them took 0.8 seconds.\n",
        "----------------------------------------------------------------------\n",
        "\n",
        "1931 has 31 stations and 9913 total observations"
       ]
      },
      {
       "output_type": "stream",
       "stream": "stdout",
       "text": [
        "\n",
        "Counting the stations and returning them took 1.1 seconds.\n",
        "----------------------------------------------------------------------\n",
        "\n",
        "1932 has 39 stations and 10931 total observations"
       ]
      },
      {
       "output_type": "stream",
       "stream": "stdout",
       "text": [
        "\n",
        "Counting the stations and returning them took 1.3 seconds.\n",
        "----------------------------------------------------------------------\n",
        "\n",
        "1933 has 91 stations and 18248 total observations"
       ]
      },
      {
       "output_type": "stream",
       "stream": "stdout",
       "text": [
        "\n",
        "Counting the stations and returning them took 3.8 seconds.\n",
        "----------------------------------------------------------------------\n",
        "\n",
        "1934 has 111 stations and 20916 total observations"
       ]
      },
      {
       "output_type": "stream",
       "stream": "stdout",
       "text": [
        "\n",
        "Counting the stations and returning them took 4.4 seconds.\n",
        "----------------------------------------------------------------------\n",
        "\n",
        "1935 has 143 stations and 27357 total observations"
       ]
      },
      {
       "output_type": "stream",
       "stream": "stdout",
       "text": [
        "\n",
        "Counting the stations and returning them took 6.0 seconds.\n",
        "----------------------------------------------------------------------\n",
        "\n",
        "1936 has 275 stations and 51360 total observations"
       ]
      },
      {
       "output_type": "stream",
       "stream": "stdout",
       "text": [
        "\n",
        "Counting the stations and returning them took 6.2 seconds.\n",
        "----------------------------------------------------------------------\n",
        "\n",
        "1937 has 332 stations and 84913 total observations"
       ]
      },
      {
       "output_type": "stream",
       "stream": "stdout",
       "text": [
        "\n",
        "Counting the stations and returning them took 7.4 seconds.\n",
        "----------------------------------------------------------------------\n",
        "\n",
        "1938 has 201 stations and 51912 total observations"
       ]
      },
      {
       "output_type": "stream",
       "stream": "stdout",
       "text": [
        "\n",
        "Counting the stations and returning them took 4.5 seconds.\n",
        "----------------------------------------------------------------------\n",
        "\n",
        "1939 has 273 stations and 65650 total observations"
       ]
      },
      {
       "output_type": "stream",
       "stream": "stdout",
       "text": [
        "\n",
        "Counting the stations and returning them took 6.2 seconds.\n",
        "----------------------------------------------------------------------\n"
       ]
      }
     ],
     "prompt_number": 9
    },
    {
     "cell_type": "heading",
     "level": 2,
     "metadata": {},
     "source": [
      "Notebook Runtime"
     ]
    },
    {
     "cell_type": "markdown",
     "metadata": {},
     "source": [
      "This time is only valid if the notebook is run from the menu Cell -> Run All and is started from the first cell."
     ]
    },
    {
     "cell_type": "code",
     "collapsed": false,
     "input": [
      "run_time = time.time() - global_start_time\n",
      "print(\"The notebook ran in {:,.2f} seconds.\".format(run_time))"
     ],
     "language": "python",
     "metadata": {},
     "outputs": [
      {
       "output_type": "stream",
       "stream": "stdout",
       "text": [
        "The notebook ran in 1,018.25 seconds.\n"
       ]
      }
     ],
     "prompt_number": 10
    }
   ],
   "metadata": {}
  }
 ]
}