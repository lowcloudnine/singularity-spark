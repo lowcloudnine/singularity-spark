{
 "cells": [
  {
   "cell_type": "code",
   "execution_count": 1,
   "metadata": {
    "collapsed": false
   },
   "outputs": [
    {
     "name": "stdout",
     "output_type": "stream",
     "text": [
      "Populating the interactive namespace from numpy and matplotlib\n"
     ]
    },
    {
     "data": {
      "text/plain": [
       "<pyspark.context.SparkContext at 0x7f8222470110>"
      ]
     },
     "execution_count": 1,
     "metadata": {},
     "output_type": "execute_result"
    }
   ],
   "source": [
    "%pylab inline\n",
    "\n",
    "from __future__ import absolute_import\n",
    "from __future__ import division\n",
    "from __future__ import print_function\n",
    "\n",
    "try:\n",
    "    from future.builtins import (bytes, str, open, super, range,\n",
    "                                 zip, round, input, int, pow, object)\n",
    "except:\n",
    "    pass\n",
    "\n",
    "# ---- Standard Libraries not included in pylab\n",
    "import collections\n",
    "import glob\n",
    "import json\n",
    "import random\n",
    "import string\n",
    "import time\n",
    "from StringIO import StringIO\n",
    "\n",
    "# ---- Scientific Libraries, the standard Python science stack\n",
    "import numpy as np\n",
    "import pandas as pd\n",
    "import scipy as sp\n",
    "import matplotlib as mpl\n",
    "import matplotlib.pyplot as plt\n",
    "\n",
    "# ---- PySpark Libraries\n",
    "sc\n",
    "\n",
    "# ---- Extra Libraries for additional functionality"
   ]
  },
  {
   "cell_type": "code",
   "execution_count": 2,
   "metadata": {
    "collapsed": true
   },
   "outputs": [],
   "source": [
    "def merge_dicts(*dict_args):\n",
    "    \"\"\" Given any number of dictionaries, merges them into a comprehensive \n",
    "    dictionary.  For example:\n",
    "    \n",
    "    >>> from collections import OrderedDict\n",
    "    >>> x = {'a': 1, 'b': 2}\n",
    "    >>> y = {'b': 3, 'c': 4}\n",
    "    >>> z = OrderedDict(sorted(merge_dicts(x, y).items(), key=lambda i: i[0]))\n",
    "    >>> z\n",
    "    OrderedDict([(u'a', 1), (u'b', 5), (u'c', 4)])\n",
    "    \n",
    "    \"\"\"\n",
    "    result = {}\n",
    "    \n",
    "    for dictionary in dict_args:\n",
    "        for key, value in dictionary.items():\n",
    "            result[key] = result.get(key, 0) + value\n",
    "        \n",
    "    return result"
   ]
  },
  {
   "cell_type": "code",
   "execution_count": 1,
   "metadata": {
    "collapsed": true
   },
   "outputs": [],
   "source": [
    "# How to profile a function in IPython\n",
    "\n",
    "# import cProfile\n",
    "# cProfile.runctx('my_function()', globals(), locals())"
   ]
  },
  {
   "cell_type": "code",
   "execution_count": 2,
   "metadata": {
    "collapsed": true
   },
   "outputs": [],
   "source": [
    "# -------1---------2---------3---------4---------5---------6---------7----"
   ]
  },
  {
   "cell_type": "code",
   "execution_count": 8,
   "metadata": {
    "collapsed": false
   },
   "outputs": [],
   "source": [
    "def get_strdict(the_str):\n",
    "    \"\"\" Given a string returns a dictionary of the count of each letter in \n",
    "    said string.  For example: \"cat\" would return {'c': 1, 'a': 1, 't', 1}\n",
    "    \n",
    "    This function uses Spark, sc and RDDs to compute.\n",
    "    \n",
    "    >>> from collections import OrderedDict\n",
    "    >>> c = get_strdict(\"cat\")\n",
    "    >>> OrderedDict(sorted(c.items(), key=lambda i: i[0]))\n",
    "    OrderedDict([(u'a', 1), (u'c', 1), (u't', 1)])\n",
    "        \n",
    "    \"\"\"\n",
    "    result = {}\n",
    "    if len(the_str) < 10**2: # too small for an rdd\n",
    "        for char in the_str:\n",
    "            result[char] = result.get(char, 0) + 1\n",
    "    \n",
    "    else:\n",
    "        if len(the_str) > 10**5:\n",
    "            divisor = int(len(the_str) / 10**5)\n",
    "        else:\n",
    "            divisor = 1\n",
    "\n",
    "        str_1 = []\n",
    "        for i in range(divisor):\n",
    "            start = int(len(the_str) / divisor) * i\n",
    "            end = int(len(the_str) / divisor) * (i + 1)\n",
    "\n",
    "            str_rdd = sc.parallelize(the_str[start:end])\n",
    "            str_1.append(str_rdd)\n",
    "\n",
    "        for rdd in str_1:\n",
    "            cnt_str = rdd.map(lambda w: (w, 1))\\\n",
    "                         .reduceByKey(lambda a, b: a + b)\n",
    "            result = merge_dicts(result, dict(cnt_str.collect()))\n",
    "    \n",
    "    return result"
   ]
  },
  {
   "cell_type": "code",
   "execution_count": 4,
   "metadata": {
    "collapsed": false
   },
   "outputs": [
    {
     "data": {
      "text/plain": [
       "TestResults(failed=0, attempted=8)"
      ]
     },
     "execution_count": 4,
     "metadata": {},
     "output_type": "execute_result"
    }
   ],
   "source": [
    "import doctest\n",
    "doctest.testmod()"
   ]
  },
  {
   "cell_type": "code",
   "execution_count": 11,
   "metadata": {
    "collapsed": false
   },
   "outputs": [
    {
     "name": "stdout",
     "output_type": "stream",
     "text": [
      "   Attempt  Result         Size   Run Time\n",
      "   =======================================\n"
     ]
    },
    {
     "ename": "KeyboardInterrupt",
     "evalue": "",
     "output_type": "error",
     "traceback": [
      "\u001b[1;31m---------------------------------------------------------------------------\u001b[0m",
      "\u001b[1;31mKeyboardInterrupt\u001b[0m                         Traceback (most recent call last)",
      "\u001b[1;32m<ipython-input-11-061a67f9ed9b>\u001b[0m in \u001b[0;36m<module>\u001b[1;34m()\u001b[0m\n\u001b[0;32m     11\u001b[0m \u001b[1;32mfor\u001b[0m \u001b[0mi\u001b[0m \u001b[1;32min\u001b[0m \u001b[0mrange\u001b[0m\u001b[1;33m(\u001b[0m\u001b[0mattempts\u001b[0m\u001b[1;33m)\u001b[0m\u001b[1;33m:\u001b[0m\u001b[1;33m\u001b[0m\u001b[0m\n\u001b[0;32m     12\u001b[0m     \u001b[0mstart\u001b[0m \u001b[1;33m=\u001b[0m \u001b[0mtime\u001b[0m\u001b[1;33m.\u001b[0m\u001b[0mtime\u001b[0m\u001b[1;33m(\u001b[0m\u001b[1;33m)\u001b[0m\u001b[1;33m\u001b[0m\u001b[0m\n\u001b[1;32m---> 13\u001b[1;33m     \u001b[0mchar_cnt1\u001b[0m \u001b[1;33m=\u001b[0m \u001b[0mget_strdict\u001b[0m\u001b[1;33m(\u001b[0m\u001b[0mstr_1\u001b[0m\u001b[1;33m)\u001b[0m\u001b[1;33m\u001b[0m\u001b[0m\n\u001b[0m\u001b[0;32m     14\u001b[0m     \u001b[0mchar_cnt2\u001b[0m \u001b[1;33m=\u001b[0m \u001b[0mget_strdict\u001b[0m\u001b[1;33m(\u001b[0m\u001b[0mstr_2\u001b[0m\u001b[1;33m)\u001b[0m\u001b[1;33m\u001b[0m\u001b[0m\n\u001b[0;32m     15\u001b[0m     \u001b[0mresult\u001b[0m \u001b[1;33m=\u001b[0m \u001b[1;33m(\u001b[0m\u001b[0mchar_cnt1\u001b[0m \u001b[1;33m==\u001b[0m \u001b[0mchar_cnt2\u001b[0m\u001b[1;33m)\u001b[0m\u001b[1;33m\u001b[0m\u001b[0m\n",
      "\u001b[1;32m<ipython-input-8-3ce90bb3fe0a>\u001b[0m in \u001b[0;36mget_strdict\u001b[1;34m(the_str)\u001b[0m\n\u001b[0;32m     27\u001b[0m             \u001b[0mend\u001b[0m \u001b[1;33m=\u001b[0m \u001b[0mint\u001b[0m\u001b[1;33m(\u001b[0m\u001b[0mlen\u001b[0m\u001b[1;33m(\u001b[0m\u001b[0mthe_str\u001b[0m\u001b[1;33m)\u001b[0m \u001b[1;33m/\u001b[0m \u001b[0mdivisor\u001b[0m\u001b[1;33m)\u001b[0m \u001b[1;33m*\u001b[0m \u001b[1;33m(\u001b[0m\u001b[0mi\u001b[0m \u001b[1;33m+\u001b[0m \u001b[1;36m1\u001b[0m\u001b[1;33m)\u001b[0m\u001b[1;33m\u001b[0m\u001b[0m\n\u001b[0;32m     28\u001b[0m \u001b[1;33m\u001b[0m\u001b[0m\n\u001b[1;32m---> 29\u001b[1;33m             \u001b[0mstr_rdd\u001b[0m \u001b[1;33m=\u001b[0m \u001b[0msc\u001b[0m\u001b[1;33m.\u001b[0m\u001b[0mparallelize\u001b[0m\u001b[1;33m(\u001b[0m\u001b[0mthe_str\u001b[0m\u001b[1;33m[\u001b[0m\u001b[0mstart\u001b[0m\u001b[1;33m:\u001b[0m\u001b[0mend\u001b[0m\u001b[1;33m]\u001b[0m\u001b[1;33m)\u001b[0m\u001b[1;33m\u001b[0m\u001b[0m\n\u001b[0m\u001b[0;32m     30\u001b[0m             \u001b[0mstr_1\u001b[0m\u001b[1;33m.\u001b[0m\u001b[0mappend\u001b[0m\u001b[1;33m(\u001b[0m\u001b[0mstr_rdd\u001b[0m\u001b[1;33m)\u001b[0m\u001b[1;33m\u001b[0m\u001b[0m\n\u001b[0;32m     31\u001b[0m \u001b[1;33m\u001b[0m\u001b[0m\n",
      "\u001b[1;32m/opt/cloudera/parcels/CDH/lib/spark/python/pyspark/context.py\u001b[0m in \u001b[0;36mparallelize\u001b[1;34m(self, c, numSlices)\u001b[0m\n\u001b[0;32m    325\u001b[0m         \u001b[0mtempFile\u001b[0m\u001b[1;33m.\u001b[0m\u001b[0mclose\u001b[0m\u001b[1;33m(\u001b[0m\u001b[1;33m)\u001b[0m\u001b[1;33m\u001b[0m\u001b[0m\n\u001b[0;32m    326\u001b[0m         \u001b[0mreadRDDFromFile\u001b[0m \u001b[1;33m=\u001b[0m \u001b[0mself\u001b[0m\u001b[1;33m.\u001b[0m\u001b[0m_jvm\u001b[0m\u001b[1;33m.\u001b[0m\u001b[0mPythonRDD\u001b[0m\u001b[1;33m.\u001b[0m\u001b[0mreadRDDFromFile\u001b[0m\u001b[1;33m\u001b[0m\u001b[0m\n\u001b[1;32m--> 327\u001b[1;33m         \u001b[0mjrdd\u001b[0m \u001b[1;33m=\u001b[0m \u001b[0mreadRDDFromFile\u001b[0m\u001b[1;33m(\u001b[0m\u001b[0mself\u001b[0m\u001b[1;33m.\u001b[0m\u001b[0m_jsc\u001b[0m\u001b[1;33m,\u001b[0m \u001b[0mtempFile\u001b[0m\u001b[1;33m.\u001b[0m\u001b[0mname\u001b[0m\u001b[1;33m,\u001b[0m \u001b[0mnumSlices\u001b[0m\u001b[1;33m)\u001b[0m\u001b[1;33m\u001b[0m\u001b[0m\n\u001b[0m\u001b[0;32m    328\u001b[0m         \u001b[1;32mreturn\u001b[0m \u001b[0mRDD\u001b[0m\u001b[1;33m(\u001b[0m\u001b[0mjrdd\u001b[0m\u001b[1;33m,\u001b[0m \u001b[0mself\u001b[0m\u001b[1;33m,\u001b[0m \u001b[0mserializer\u001b[0m\u001b[1;33m)\u001b[0m\u001b[1;33m\u001b[0m\u001b[0m\n\u001b[0;32m    329\u001b[0m \u001b[1;33m\u001b[0m\u001b[0m\n",
      "\u001b[1;32m/opt/cloudera/parcels/CDH/lib/spark/python/lib/py4j-0.8.2.1-src.zip/py4j/java_gateway.py\u001b[0m in \u001b[0;36m__call__\u001b[1;34m(self, *args)\u001b[0m\n\u001b[0;32m    534\u001b[0m             \u001b[0mEND_COMMAND_PART\u001b[0m\u001b[1;33m\u001b[0m\u001b[0m\n\u001b[0;32m    535\u001b[0m \u001b[1;33m\u001b[0m\u001b[0m\n\u001b[1;32m--> 536\u001b[1;33m         \u001b[0manswer\u001b[0m \u001b[1;33m=\u001b[0m \u001b[0mself\u001b[0m\u001b[1;33m.\u001b[0m\u001b[0mgateway_client\u001b[0m\u001b[1;33m.\u001b[0m\u001b[0msend_command\u001b[0m\u001b[1;33m(\u001b[0m\u001b[0mcommand\u001b[0m\u001b[1;33m)\u001b[0m\u001b[1;33m\u001b[0m\u001b[0m\n\u001b[0m\u001b[0;32m    537\u001b[0m         return_value = get_return_value(answer, self.gateway_client,\n\u001b[0;32m    538\u001b[0m                 self.target_id, self.name)\n",
      "\u001b[1;32m/opt/cloudera/parcels/CDH/lib/spark/python/lib/py4j-0.8.2.1-src.zip/py4j/java_gateway.py\u001b[0m in \u001b[0;36msend_command\u001b[1;34m(self, command, retry)\u001b[0m\n\u001b[0;32m    362\u001b[0m         \u001b[0mconnection\u001b[0m \u001b[1;33m=\u001b[0m \u001b[0mself\u001b[0m\u001b[1;33m.\u001b[0m\u001b[0m_get_connection\u001b[0m\u001b[1;33m(\u001b[0m\u001b[1;33m)\u001b[0m\u001b[1;33m\u001b[0m\u001b[0m\n\u001b[0;32m    363\u001b[0m         \u001b[1;32mtry\u001b[0m\u001b[1;33m:\u001b[0m\u001b[1;33m\u001b[0m\u001b[0m\n\u001b[1;32m--> 364\u001b[1;33m             \u001b[0mresponse\u001b[0m \u001b[1;33m=\u001b[0m \u001b[0mconnection\u001b[0m\u001b[1;33m.\u001b[0m\u001b[0msend_command\u001b[0m\u001b[1;33m(\u001b[0m\u001b[0mcommand\u001b[0m\u001b[1;33m)\u001b[0m\u001b[1;33m\u001b[0m\u001b[0m\n\u001b[0m\u001b[0;32m    365\u001b[0m             \u001b[0mself\u001b[0m\u001b[1;33m.\u001b[0m\u001b[0m_give_back_connection\u001b[0m\u001b[1;33m(\u001b[0m\u001b[0mconnection\u001b[0m\u001b[1;33m)\u001b[0m\u001b[1;33m\u001b[0m\u001b[0m\n\u001b[0;32m    366\u001b[0m         \u001b[1;32mexcept\u001b[0m \u001b[0mPy4JNetworkError\u001b[0m\u001b[1;33m:\u001b[0m\u001b[1;33m\u001b[0m\u001b[0m\n",
      "\u001b[1;32m/opt/cloudera/parcels/CDH/lib/spark/python/lib/py4j-0.8.2.1-src.zip/py4j/java_gateway.py\u001b[0m in \u001b[0;36msend_command\u001b[1;34m(self, command)\u001b[0m\n\u001b[0;32m    471\u001b[0m         \u001b[1;32mtry\u001b[0m\u001b[1;33m:\u001b[0m\u001b[1;33m\u001b[0m\u001b[0m\n\u001b[0;32m    472\u001b[0m             \u001b[0mself\u001b[0m\u001b[1;33m.\u001b[0m\u001b[0msocket\u001b[0m\u001b[1;33m.\u001b[0m\u001b[0msendall\u001b[0m\u001b[1;33m(\u001b[0m\u001b[0mcommand\u001b[0m\u001b[1;33m.\u001b[0m\u001b[0mencode\u001b[0m\u001b[1;33m(\u001b[0m\u001b[1;34m'utf-8'\u001b[0m\u001b[1;33m)\u001b[0m\u001b[1;33m)\u001b[0m\u001b[1;33m\u001b[0m\u001b[0m\n\u001b[1;32m--> 473\u001b[1;33m             \u001b[0manswer\u001b[0m \u001b[1;33m=\u001b[0m \u001b[0msmart_decode\u001b[0m\u001b[1;33m(\u001b[0m\u001b[0mself\u001b[0m\u001b[1;33m.\u001b[0m\u001b[0mstream\u001b[0m\u001b[1;33m.\u001b[0m\u001b[0mreadline\u001b[0m\u001b[1;33m(\u001b[0m\u001b[1;33m)\u001b[0m\u001b[1;33m[\u001b[0m\u001b[1;33m:\u001b[0m\u001b[1;33m-\u001b[0m\u001b[1;36m1\u001b[0m\u001b[1;33m]\u001b[0m\u001b[1;33m)\u001b[0m\u001b[1;33m\u001b[0m\u001b[0m\n\u001b[0m\u001b[0;32m    474\u001b[0m             \u001b[0mlogger\u001b[0m\u001b[1;33m.\u001b[0m\u001b[0mdebug\u001b[0m\u001b[1;33m(\u001b[0m\u001b[1;34m\"Answer received: {0}\"\u001b[0m\u001b[1;33m.\u001b[0m\u001b[0mformat\u001b[0m\u001b[1;33m(\u001b[0m\u001b[0manswer\u001b[0m\u001b[1;33m)\u001b[0m\u001b[1;33m)\u001b[0m\u001b[1;33m\u001b[0m\u001b[0m\n\u001b[0;32m    475\u001b[0m             \u001b[1;31m# Happens when a the other end is dead. There might be an empty\u001b[0m\u001b[1;33m\u001b[0m\u001b[1;33m\u001b[0m\u001b[0m\n",
      "\u001b[1;32m/usr/local/anaconda/lib/python2.7/socket.pyc\u001b[0m in \u001b[0;36mreadline\u001b[1;34m(self, size)\u001b[0m\n\u001b[0;32m    428\u001b[0m                     \u001b[1;32mtry\u001b[0m\u001b[1;33m:\u001b[0m\u001b[1;33m\u001b[0m\u001b[0m\n\u001b[0;32m    429\u001b[0m                         \u001b[1;32mwhile\u001b[0m \u001b[0mdata\u001b[0m \u001b[1;33m!=\u001b[0m \u001b[1;34m\"\\n\"\u001b[0m\u001b[1;33m:\u001b[0m\u001b[1;33m\u001b[0m\u001b[0m\n\u001b[1;32m--> 430\u001b[1;33m                             \u001b[0mdata\u001b[0m \u001b[1;33m=\u001b[0m \u001b[0mrecv\u001b[0m\u001b[1;33m(\u001b[0m\u001b[1;36m1\u001b[0m\u001b[1;33m)\u001b[0m\u001b[1;33m\u001b[0m\u001b[0m\n\u001b[0m\u001b[0;32m    431\u001b[0m                             \u001b[1;32mif\u001b[0m \u001b[1;32mnot\u001b[0m \u001b[0mdata\u001b[0m\u001b[1;33m:\u001b[0m\u001b[1;33m\u001b[0m\u001b[0m\n\u001b[0;32m    432\u001b[0m                                 \u001b[1;32mbreak\u001b[0m\u001b[1;33m\u001b[0m\u001b[0m\n",
      "\u001b[1;31mKeyboardInterrupt\u001b[0m: "
     ]
    }
   ],
   "source": [
    "power = 6\n",
    "attempts = 2\n",
    "\n",
    "str_1 = string.digits * (10**power)\n",
    "str_2 = str_1[::-1]\n",
    "\n",
    "print(\"{:>10}{:>8}{:>13}{:>11}\"\\\n",
    "      .format(\"Attempt\", \"Result\", \"Size\", \"Run Time\"))\n",
    "print(\"   \" + \"=\" * 39)\n",
    "\n",
    "size = len(str_1)\n",
    "for i in range(attempts):\n",
    "    start = time.time()\n",
    "    char_cnt1 = get_strdict(str_1)\n",
    "    char_cnt2 = get_strdict(str_2)\n",
    "    result = (char_cnt1 == char_cnt2)\n",
    "    print(\"{:>9}{:>9}{:>13}{:>11}\"\\\n",
    "          .format(\"{:02}\".format(i + 1), \n",
    "                  \"True\" if result else \"False\",\n",
    "                  \"{:,}\".format(size),\n",
    "                  (str(round(time.time() - start, 2))) + \"s\"))"
   ]
  },
  {
   "cell_type": "code",
   "execution_count": 4,
   "metadata": {
    "collapsed": true
   },
   "outputs": [],
   "source": [
    "def is_anagram(str_1, str_2):\n",
    "    str_1 = \"\".join(str_1.split(\" \"))\n",
    "    str_2 = \"\".join(str_2.split(\" \"))\n",
    "    size_1 = len(str_1)\n",
    "    size_2 = len(str_2)\n",
    "    \n",
    "    if size_1 != size_2:\n",
    "        return False, -1\n",
    "    \n",
    "    # str1 = sc.parallelize(str_1)\n",
    "    cnt_str1 = str1.map(lambda w: (w, 1))\\\n",
    "                   .reduceByKey(lambda a, b: a + b)\n",
    "    \n",
    "    # str2 = sc.parallelize(str_2)\n",
    "    cnt_str2 = str2.map(lambda w: (w, 1))\\\n",
    "                   .reduceByKey(lambda a, b: a + b)\n",
    "    \n",
    "    return cnt_str1.collect() == cnt_str2.collect(), size_1"
   ]
  },
  {
   "cell_type": "code",
   "execution_count": 5,
   "metadata": {
    "collapsed": false
   },
   "outputs": [
    {
     "data": {
      "text/plain": [
       "1584890"
      ]
     },
     "execution_count": 5,
     "metadata": {},
     "output_type": "execute_result"
    }
   ],
   "source": [
    "power = 5.2\n",
    "len(string.digits * int(10**power))"
   ]
  },
  {
   "cell_type": "code",
   "execution_count": 53,
   "metadata": {
    "collapsed": false
   },
   "outputs": [
    {
     "data": {
      "text/plain": [
       "{}"
      ]
     },
     "execution_count": 53,
     "metadata": {},
     "output_type": "execute_result"
    }
   ],
   "source": [
    "import pyspark\n",
    "from pyspark import SparkConf\n",
    "from pyspark import SparkContext\n",
    "\n",
    "# methods = list(dir(sc))\n",
    "# for method in methods:\n",
    "#     if not method.startswith(\"_\") :\n",
    "#         print(method),\n",
    "\n",
    "sc.appName = \"PySpark from IPython\"\n",
    "sc.environment\n",
    "# words = []\n",
    "# with open(\"../full-text\", \"r\") as f:\n",
    "#     for line in f:\n",
    "#         words.append(line)\n",
    "\n",
    "# from bs4 import BeautifulSoup as bs\n",
    "# words = bs(\"\".join(words))\n",
    "# words = \" \".join((words.get_text()).split(\"\\n\"))\n",
    "# words = words * 120\n",
    "# words = words.split()\n",
    "# print(len(words))\n",
    "\n",
    "# words = sc.parallelize(words)\n",
    "# print(words.count())\n",
    "# word_map = words.map(lambda w: (w, 1))\n",
    "# word_count = word_map.reduceByKey(lambda a, b: a + b)\n",
    "# counts_collect = word_count.collect()\n",
    "# print(len(counts_collect))\n",
    "# counts = sorted(counts_collect, key=lambda tup: tup[1], reverse=True)\n",
    "# print(counts[:10])"
   ]
  },
  {
   "cell_type": "code",
   "execution_count": 17,
   "metadata": {
    "collapsed": false,
    "scrolled": true
   },
   "outputs": [
    {
     "ename": "NameError",
     "evalue": "name 'string' is not defined",
     "output_type": "error",
     "traceback": [
      "\u001b[1;31m---------------------------------------------------------------------------\u001b[0m",
      "\u001b[1;31mNameError\u001b[0m                                 Traceback (most recent call last)",
      "\u001b[1;32m<ipython-input-17-d5dcf59a747f>\u001b[0m in \u001b[0;36m<module>\u001b[1;34m()\u001b[0m\n\u001b[0;32m     22\u001b[0m \u001b[0mpower\u001b[0m \u001b[1;33m=\u001b[0m \u001b[1;36m6\u001b[0m\u001b[1;33m\u001b[0m\u001b[0m\n\u001b[0;32m     23\u001b[0m \u001b[0mattempts\u001b[0m \u001b[1;33m=\u001b[0m \u001b[1;36m1\u001b[0m\u001b[1;33m\u001b[0m\u001b[0m\n\u001b[1;32m---> 24\u001b[1;33m \u001b[0mstr_1\u001b[0m \u001b[1;33m=\u001b[0m \u001b[0mstring\u001b[0m\u001b[1;33m.\u001b[0m\u001b[0mascii_letters\u001b[0m \u001b[1;33m*\u001b[0m \u001b[0mint\u001b[0m\u001b[1;33m(\u001b[0m\u001b[1;36m10\u001b[0m\u001b[1;33m**\u001b[0m\u001b[0mpower\u001b[0m\u001b[1;33m)\u001b[0m\u001b[1;33m\u001b[0m\u001b[0m\n\u001b[0m\u001b[0;32m     25\u001b[0m \u001b[0mstr_2\u001b[0m \u001b[1;33m=\u001b[0m \u001b[0mstr_1\u001b[0m\u001b[1;33m[\u001b[0m\u001b[1;33m:\u001b[0m\u001b[1;33m:\u001b[0m\u001b[1;33m-\u001b[0m\u001b[1;36m1\u001b[0m\u001b[1;33m]\u001b[0m\u001b[1;33m\u001b[0m\u001b[0m\n\u001b[0;32m     26\u001b[0m \u001b[1;32mprint\u001b[0m\u001b[1;33m(\u001b[0m\u001b[1;34m\"{:>10}{:>8}{:>18}{:>11}\"\u001b[0m      \u001b[1;33m.\u001b[0m\u001b[0mformat\u001b[0m\u001b[1;33m(\u001b[0m\u001b[1;34m\"Attempt\"\u001b[0m\u001b[1;33m,\u001b[0m \u001b[1;34m\"Result\"\u001b[0m\u001b[1;33m,\u001b[0m \u001b[1;34m\"Size\"\u001b[0m\u001b[1;33m,\u001b[0m \u001b[1;34m\"Run Time\"\u001b[0m\u001b[1;33m)\u001b[0m\u001b[1;33m)\u001b[0m\u001b[1;33m\u001b[0m\u001b[0m\n",
      "\u001b[1;31mNameError\u001b[0m: name 'string' is not defined"
     ]
    }
   ],
   "source": [
    "def is_anagram(str_1, str_2):\n",
    "    \"\"\" A pure python implementation of is_anagram. \"\"\"\n",
    "    str_1 = \"\".join(str_1.split(\" \"))\n",
    "    str_2 = \"\".join(str_2.split(\" \"))\n",
    "    size_1 = len(str_1)\n",
    "    size_2 = len(str_2)\n",
    "    \n",
    "    if size_1 != size_2:\n",
    "        return False, -1\n",
    "    \n",
    "    letter_count_1 = {}\n",
    "    for letter in str_1:\n",
    "        letter_count_1[letter] = letter_count_1.get(letter, 0) + 1\n",
    "    \n",
    "    letter_count_2 = {}\n",
    "    for letter in str_2:\n",
    "        letter_count_2[letter] = letter_count_2.get(letter, 0) + 1\n",
    "            \n",
    "    return (letter_count_1 == letter_count_2), size_1\n",
    "\n",
    "\n",
    "power = 6\n",
    "attempts = 1\n",
    "str_1 = string.ascii_letters * int(10**power)\n",
    "str_2 = str_1[::-1]\n",
    "print(\"{:>10}{:>8}{:>18}{:>11}\"\\\n",
    "      .format(\"Attempt\", \"Result\", \"Size\", \"Run Time\"))\n",
    "print(\"   \" + \"=\" * 44)\n",
    "\n",
    "for i in range(attempts):\n",
    "    start = time.time()\n",
    "    result, size = is_anagram(str_1, str_2)\n",
    "    print(\"{:>9}{:>9}{:>18}{:>11}\"\\\n",
    "          .format(\"{:02}\".format(i + 1), \n",
    "                  \"True\" if result else \"False\",\n",
    "                  \"{:,}\".format(size),\n",
    "                  (str(round(time.time() - start, 2))) + \"s\"))"
   ]
  },
  {
   "cell_type": "code",
   "execution_count": 46,
   "metadata": {
    "collapsed": false,
    "scrolled": true
   },
   "outputs": [
    {
     "name": "stdout",
     "output_type": "stream",
     "text": [
      "0.804926156998\n",
      "60.0430719852\n"
     ]
    }
   ],
   "source": [
    "import multiprocessing as mp\n",
    "import numpy as np\n",
    "import random\n",
    "import sys\n",
    "import time\n",
    "\n",
    "power = 8\n",
    "\n",
    "def worker():\n",
    "    return time.sleep(2)\n",
    "\n",
    "start = time.time()\n",
    "jobs = []\n",
    "for i in range(30):\n",
    "    p = mp.Process(target=worker)\n",
    "    jobs.append(p)\n",
    "    p.start()\n",
    "print(time.time() - start)\n",
    "\n",
    "start = time.time()\n",
    "for i in range(30):\n",
    "    worker()\n",
    "print(time.time() - start)\n",
    "    \n",
    "\n",
    "# for p in range(3, power + 1):\n",
    "#     start = time.time()\n",
    "\n",
    "#     n = [random.randint(1, 26) for i in xrange(10**p)]\n",
    "    \n",
    "# #     n = []\n",
    "# #     i = 0\n",
    "# #     while i < 10**p:\n",
    "# #         i += 1\n",
    "# #         n.append(random.randint(1, 26))\n",
    "\n",
    "#     print(\"{:,}     {:0.2f}\".format(len(n), time.time() - start))\n",
    "#     print(n[:10])\n",
    "#     print(sys.getsizeof(n))\n",
    "#     print(\"=\" * 40)\n",
    "    \n",
    "#     del(n)"
   ]
  }
 ],
 "metadata": {
  "kernelspec": {
   "display_name": "Python 2",
   "language": "python",
   "name": "python2"
  },
  "language_info": {
   "codemirror_mode": {
    "name": "ipython",
    "version": 2
   },
   "file_extension": ".py",
   "mimetype": "text/x-python",
   "name": "python",
   "nbconvert_exporter": "python",
   "pygments_lexer": "ipython2",
   "version": "2.7.9"
  }
 },
 "nbformat": 4,
 "nbformat_minor": 0
}
