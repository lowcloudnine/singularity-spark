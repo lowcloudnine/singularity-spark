{
 "cells": [
  {
   "cell_type": "code",
   "execution_count": 1,
   "metadata": {
    "collapsed": false
   },
   "outputs": [
    {
     "name": "stdout",
     "output_type": "stream",
     "text": [
      "Populating the interactive namespace from numpy and matplotlib\n"
     ]
    }
   ],
   "source": [
    "%pylab inline\n",
    "\n",
    "# ---- Standard Libraries\n",
    "import os\n",
    "import random\n",
    "import sys\n",
    "import time\n",
    "\n",
    "# ---- Scientific & Plotting Libraries\n",
    "import bokeh\n",
    "import matplotlib as mpl\n",
    "import matplotlib.pyplot as plt\n",
    "import numpy as np\n",
    "import pandas as pd\n",
    "import scipy as sp"
   ]
  },
  {
   "cell_type": "code",
   "execution_count": 2,
   "metadata": {
    "collapsed": false
   },
   "outputs": [
    {
     "data": {
      "text/plain": [
       "sys.version_info(major=3, minor=4, micro=3, releaselevel='final', serial=0)"
      ]
     },
     "execution_count": 2,
     "metadata": {},
     "output_type": "execute_result"
    }
   ],
   "source": [
    "sys.version_info"
   ]
  },
  {
   "cell_type": "code",
   "execution_count": 13,
   "metadata": {
    "collapsed": false
   },
   "outputs": [
    {
     "name": "stdout",
     "output_type": "stream",
     "text": [
      "0 random integers generated in 0.051 seconds\n",
      "1,000,000 random integers generated in 2.050 seconds\n",
      "2,000,000 random integers generated in 3.950 seconds\n",
      "3,000,000 random integers generated in 5.961 seconds\n",
      "4,000,000 random integers generated in 7.860 seconds\n",
      "5,000,000 random integers generated in 10.198 seconds\n",
      "6,000,000 random integers generated in 11.956 seconds\n",
      "7,000,000 random integers generated in 13.845 seconds\n",
      "8,000,000 random integers generated in 15.956 seconds\n",
      "9,000,000 random integers generated in 17.718 seconds\n",
      "10,000,000 random integers generated in 19.932 seconds\n",
      "11,000,000 random integers generated in 21.532 seconds\n",
      "12,000,000 random integers generated in 23.364 seconds\n",
      "13,000,000 random integers generated in 25.827 seconds\n",
      "14,000,000 random integers generated in 28.188 seconds\n",
      "15,000,000 random integers generated in 29.908 seconds\n",
      "16,000,000 random integers generated in 31.748 seconds\n",
      "17,000,000 random integers generated in 34.421 seconds\n",
      "18,000,000 random integers generated in 36.008 seconds\n",
      "19,000,000 random integers generated in 37.930 seconds\n"
     ]
    }
   ],
   "source": [
    "runs = []\n",
    "for i in range(20):\n",
    "    start = time.time()\n",
    "    x = [random.randint(1, 26) for _ in range(i * (10**6))]\n",
    "    run = time.time() - start\n",
    "    runs.append([len(x), run])\n",
    "    \n",
    "for run in runs:\n",
    "    print(\"{:,} random integers generated in {:0.3f} seconds\"\\\n",
    "          .format(run[0], run[1]))"
   ]
  },
  {
   "cell_type": "code",
   "execution_count": 10,
   "metadata": {
    "collapsed": false
   },
   "outputs": [
    {
     "name": "stdout",
     "output_type": "stream",
     "text": [
      "The average of 10,000,000 random integers from 1 to 26 is 13.50 and took 0.804 seconds to compute.\n"
     ]
    }
   ],
   "source": [
    "start = time.time()\n",
    "avg = sum(x) / len(x)\n",
    "run = time.time() - start\n",
    "print(\"The average of {:,}\".format(len(x)), \n",
    "      \"random integers from 1 to 26 is {:0.2f}\".format(avg),\n",
    "      \"and took {:0.3f} seconds to compute.\".format(run))"
   ]
  },
  {
   "cell_type": "code",
   "execution_count": null,
   "metadata": {
    "collapsed": true
   },
   "outputs": [],
   "source": []
  }
 ],
 "metadata": {
  "kernelspec": {
   "display_name": "Python 3",
   "language": "python",
   "name": "python3"
  },
  "language_info": {
   "codemirror_mode": {
    "name": "ipython",
    "version": 3
   },
   "file_extension": ".py",
   "mimetype": "text/x-python",
   "name": "python",
   "nbconvert_exporter": "python",
   "pygments_lexer": "ipython3",
   "version": "3.4.3"
  }
 },
 "nbformat": 4,
 "nbformat_minor": 0
}
