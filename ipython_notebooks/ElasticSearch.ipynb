{
 "metadata": {
  "name": "",
  "signature": "sha256:dc55ef0c3a8fb0f8b723f58167cd359d735c2384dcd0ae1854d42cb92c28f7af"
 },
 "nbformat": 3,
 "nbformat_minor": 0,
 "worksheets": [
  {
   "cells": [
    {
     "cell_type": "heading",
     "level": 2,
     "metadata": {},
     "source": [
      "Imports"
     ]
    },
    {
     "cell_type": "code",
     "collapsed": false,
     "input": [
      "%pylab inline\n",
      "\n",
      "from __future__ import absolute_import\n",
      "from __future__ import division\n",
      "from __future__ import print_function\n",
      "\n",
      "from future.builtins import (bytes, str, open, super, range,\n",
      "                      zip, round, input, int, pow, object)\n",
      "\n",
      "if sys.version_info.major == 2:\n",
      "    # in Python 2 cPickle is much faster than pickle but doesn't \n",
      "    # deal w/ unicode\n",
      "    import cPickle as pickle\n",
      "else:\n",
      "    # Python 3 loads the faster pickle by default if it's available\n",
      "    import pickle\n",
      "\n",
      "# ---- Standard Libraries not included in pylab\n",
      "import collections\n",
      "import json\n",
      "import random\n",
      "import time\n",
      "\n",
      "# ---- Extra Libraries for additional functionality\n",
      "import elasticsearch\n",
      "from elasticsearch import Elasticsearch\n",
      "\n",
      "# setup es for use through the notebook\n",
      "es = Elasticsearch(['http://search-01.ec2.internal:9200'])\n",
      "\n",
      "\n",
      "# -------1---------2---------3---------4---------5---------6---------7---------8"
     ],
     "language": "python",
     "metadata": {},
     "outputs": []
    },
    {
     "cell_type": "heading",
     "level": 2,
     "metadata": {},
     "source": [
      "ElasticSearch Experimentation"
     ]
    },
    {
     "cell_type": "code",
     "collapsed": false,
     "input": [],
     "language": "python",
     "metadata": {},
     "outputs": [],
     "prompt_number": 7
    }
   ],
   "metadata": {}
  }
 ]
}