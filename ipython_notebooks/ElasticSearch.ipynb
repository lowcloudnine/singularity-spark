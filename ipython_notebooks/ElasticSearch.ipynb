{
 "metadata": {
  "name": "",
  "signature": "sha256:d669d94f59c920cc00e8d6bc2110b1b86c4b8f541df156c4d2b6e08d0214d99a"
 },
 "nbformat": 3,
 "nbformat_minor": 0,
 "worksheets": [
  {
   "cells": [
    {
     "cell_type": "heading",
     "level": 2,
     "metadata": {},
     "source": [
      "Imports"
     ]
    },
    {
     "cell_type": "code",
     "collapsed": false,
     "input": [
      "%pylab inline\n",
      "\n",
      "from __future__ import absolute_import\n",
      "from __future__ import division\n",
      "from __future__ import print_function\n",
      "\n",
      "from future.builtins import (bytes, str, open, super, range,\n",
      "                      zip, round, input, int, pow, object)\n",
      "\n",
      "if sys.version_info.major == 2:\n",
      "    # in Python 2 cPickle is much faster than pickle but doesn't \n",
      "    # deal w/ unicode\n",
      "    import cPickle as pickle\n",
      "else:\n",
      "    # Python 3 loads the faster pickle by default if it's available\n",
      "    import pickle\n",
      "\n",
      "# ---- Standard Libraries not included in pylab\n",
      "import collections\n",
      "import json\n",
      "import random\n",
      "import time\n",
      "\n",
      "# ---- Extra Libraries for additional functionality\n",
      "import elasticsearch\n",
      "from elasticsearch import Elasticsearch\n",
      "\n",
      "# -------1---------2---------3---------4---------5---------6---------7---------8"
     ],
     "language": "python",
     "metadata": {},
     "outputs": [
      {
       "output_type": "stream",
       "stream": "stdout",
       "text": [
        "Populating the interactive namespace from numpy and matplotlib\n"
       ]
      }
     ],
     "prompt_number": 2
    },
    {
     "cell_type": "heading",
     "level": 2,
     "metadata": {},
     "source": [
      "ElasticSearch Experimentation"
     ]
    },
    {
     "cell_type": "code",
     "collapsed": false,
     "input": [
      "es = Elasticsearch(['http://search-01.ec2.internal:9200'])"
     ],
     "language": "python",
     "metadata": {},
     "outputs": [],
     "prompt_number": 3
    },
    {
     "cell_type": "code",
     "collapsed": false,
     "input": [
      "def get_temps(year):\n",
      "    \"\"\" Given a year returns a list of tuples of the observations for\n",
      "    that year.  The tuple is in the form:\n",
      "    \n",
      "    station id, date, min temp, mean temp, max temp\n",
      "    \n",
      "    \"\"\"\n",
      "    obs = sc.textFile(\"/user/schiefjm/weather/gsod/\" + str(year))\n",
      "    obs = obs.filter(lambda line: \"STN\" not in line)\n",
      "\n",
      "    station_ids = obs.map(lambda line: str(line.split()[0]))\\\n",
      "                     .collect()\n",
      "    dtg = obs.map(lambda line: str(line.split()[2]))\\\n",
      "             .collect()\n",
      "\n",
      "    mean_tmps = obs.map(lambda line: float(line.split()[3].strip(\"*\")))\\\n",
      "                   .collect()\n",
      "    min_tmps = obs.map(lambda line: float(line.split()[18].strip(\"*\")))\\\n",
      "                  .filter(lambda x: x < 160)\\\n",
      "                  .collect()\n",
      "    max_tmps = obs.map(lambda line: float(line.split()[17].strip(\"*\")))\\\n",
      "                  .filter(lambda x: x < 160)\\\n",
      "                  .collect()\n",
      "    \n",
      "    return list(zip(station_ids, dtg, min_tmps, mean_tmps, max_tmps))"
     ],
     "language": "python",
     "metadata": {},
     "outputs": [],
     "prompt_number": 4
    },
    {
     "cell_type": "code",
     "collapsed": false,
     "input": [
      "obs_1929 = get_temps(1929)\n",
      "stations = set()\n",
      "for ob in obs_1929:\n",
      "    stations.add(ob[0])"
     ],
     "language": "python",
     "metadata": {},
     "outputs": [],
     "prompt_number": 5
    },
    {
     "cell_type": "code",
     "collapsed": false,
     "input": [
      "obs = (es.search(index=\"mintmp1929\" q='030050'))['hits']['hits']\n",
      "\n",
      "for ob in obs:\n",
      "    print(ob['_source'])"
     ],
     "language": "python",
     "metadata": {},
     "outputs": [
      {
       "ename": "SyntaxError",
       "evalue": "invalid syntax (<ipython-input-39-57f8072d97bf>, line 1)",
       "output_type": "pyerr",
       "traceback": [
        "\u001b[1;36m  File \u001b[1;32m\"<ipython-input-39-57f8072d97bf>\"\u001b[1;36m, line \u001b[1;32m1\u001b[0m\n\u001b[1;33m    obs = (es.search(index=\"mintmp1929\" q='030050'))['hits']['hits']\u001b[0m\n\u001b[1;37m                                        ^\u001b[0m\n\u001b[1;31mSyntaxError\u001b[0m\u001b[1;31m:\u001b[0m invalid syntax\n"
       ]
      }
     ],
     "prompt_number": 39
    },
    {
     "cell_type": "code",
     "collapsed": false,
     "input": [
      "for station in stations:\n",
      "    results = es.get_all(index='mintmp1929')\n",
      "    # print(results)\n",
      "\n",
      "    results = (results['hits'])['hits']\n",
      "\n",
      "for result in results:\n",
      "    print((result['_source'])['temperature'])\n"
     ],
     "language": "python",
     "metadata": {},
     "outputs": [
      {
       "ename": "AttributeError",
       "evalue": "'Elasticsearch' object has no attribute 'get_all'",
       "output_type": "pyerr",
       "traceback": [
        "\u001b[1;31m---------------------------------------------------------------------------\u001b[0m\n\u001b[1;31mAttributeError\u001b[0m                            Traceback (most recent call last)",
        "\u001b[1;32m<ipython-input-17-09569ad4802f>\u001b[0m in \u001b[0;36m<module>\u001b[1;34m()\u001b[0m\n\u001b[0;32m      1\u001b[0m \u001b[1;32mfor\u001b[0m \u001b[0mstation\u001b[0m \u001b[1;32min\u001b[0m \u001b[0mstations\u001b[0m\u001b[1;33m:\u001b[0m\u001b[1;33m\u001b[0m\u001b[0m\n\u001b[1;32m----> 2\u001b[1;33m     \u001b[0mresults\u001b[0m \u001b[1;33m=\u001b[0m \u001b[0mes\u001b[0m\u001b[1;33m.\u001b[0m\u001b[0mget_all\u001b[0m\u001b[1;33m(\u001b[0m\u001b[0mindex\u001b[0m\u001b[1;33m=\u001b[0m\u001b[1;34m'mintmp1929'\u001b[0m\u001b[1;33m)\u001b[0m\u001b[1;33m\u001b[0m\u001b[0m\n\u001b[0m\u001b[0;32m      3\u001b[0m     \u001b[1;31m# print(results)\u001b[0m\u001b[1;33m\u001b[0m\u001b[1;33m\u001b[0m\u001b[0m\n\u001b[0;32m      4\u001b[0m \u001b[1;33m\u001b[0m\u001b[0m\n\u001b[0;32m      5\u001b[0m     \u001b[0mresults\u001b[0m \u001b[1;33m=\u001b[0m \u001b[1;33m(\u001b[0m\u001b[0mresults\u001b[0m\u001b[1;33m[\u001b[0m\u001b[1;34m'hits'\u001b[0m\u001b[1;33m]\u001b[0m\u001b[1;33m)\u001b[0m\u001b[1;33m[\u001b[0m\u001b[1;34m'hits'\u001b[0m\u001b[1;33m]\u001b[0m\u001b[1;33m\u001b[0m\u001b[0m\n",
        "\u001b[1;31mAttributeError\u001b[0m: 'Elasticsearch' object has no attribute 'get_all'"
       ]
      }
     ],
     "prompt_number": 17
    },
    {
     "cell_type": "heading",
     "level": 2,
     "metadata": {},
     "source": [
      "Push GSOD to ElasticSearch"
     ]
    },
    {
     "cell_type": "code",
     "collapsed": false,
     "input": [
      "def get_temps(year):\n",
      "    \"\"\" Given a year returns a list of tuples of the observations for\n",
      "    that year.  The tuple is in the form:\n",
      "    \n",
      "    station id, date, min temp, mean temp, max temp\n",
      "    \n",
      "    \"\"\"\n",
      "    obs = sc.textFile(\"/user/schiefjm/weather/gsod/\" + str(year))\n",
      "    obs = obs.filter(lambda line: \"STN\" not in line)\n",
      "\n",
      "    station_ids = obs.map(lambda line: str(line.split()[0]))\\\n",
      "                     .collect()\n",
      "    dtg = obs.map(lambda line: str(line.split()[2]))\\\n",
      "             .collect()\n",
      "\n",
      "    mean_tmps = obs.map(lambda line: float(line.split()[3].strip(\"*\")))\\\n",
      "                   .collect()\n",
      "    min_tmps = obs.map(lambda line: float(line.split()[18].strip(\"*\")))\\\n",
      "                  .filter(lambda x: x < 160)\\\n",
      "                  .collect()\n",
      "    max_tmps = obs.map(lambda line: float(line.split()[17].strip(\"*\")))\\\n",
      "                  .filter(lambda x: x < 160)\\\n",
      "                  .collect()\n",
      "    \n",
      "    return list(zip(station_ids, dtg, min_tmps, mean_tmps, max_tmps))"
     ],
     "language": "python",
     "metadata": {},
     "outputs": [],
     "prompt_number": 144
    },
    {
     "cell_type": "code",
     "collapsed": false,
     "input": [
      "obs_1929 = get_temps(1929)\n",
      "stations = set()\n",
      "for ob in obs_1929:\n",
      "    stations.add(ob[0])\n",
      "    \n",
      "stations"
     ],
     "language": "python",
     "metadata": {},
     "outputs": [
      {
       "metadata": {},
       "output_type": "pyout",
       "prompt_number": 40,
       "text": [
        "{'030050',\n",
        " '030750',\n",
        " '030910',\n",
        " '031590',\n",
        " '032620',\n",
        " '033110',\n",
        " '033790',\n",
        " '033960',\n",
        " '034970',\n",
        " '036010',\n",
        " '037770',\n",
        " '037950',\n",
        " '038040',\n",
        " '038110',\n",
        " '038560',\n",
        " '038640',\n",
        " '038940',\n",
        " '039530',\n",
        " '039730',\n",
        " '039800',\n",
        " '990061'}"
       ]
      }
     ],
     "prompt_number": 40
    },
    {
     "cell_type": "code",
     "collapsed": false,
     "input": [
      "jstats = json.loads(str(stations))"
     ],
     "language": "python",
     "metadata": {},
     "outputs": [
      {
       "ename": "ValueError",
       "evalue": "No JSON object could be decoded",
       "output_type": "pyerr",
       "traceback": [
        "\u001b[1;31m---------------------------------------------------------------------------\u001b[0m\n\u001b[1;31mValueError\u001b[0m                                Traceback (most recent call last)",
        "\u001b[1;32m<ipython-input-42-6927b29b2113>\u001b[0m in \u001b[0;36m<module>\u001b[1;34m()\u001b[0m\n\u001b[1;32m----> 1\u001b[1;33m \u001b[0mjstats\u001b[0m \u001b[1;33m=\u001b[0m \u001b[0mjson\u001b[0m\u001b[1;33m.\u001b[0m\u001b[0mloads\u001b[0m\u001b[1;33m(\u001b[0m\u001b[0mstr\u001b[0m\u001b[1;33m(\u001b[0m\u001b[0mstations\u001b[0m\u001b[1;33m)\u001b[0m\u001b[1;33m)\u001b[0m\u001b[1;33m\u001b[0m\u001b[0m\n\u001b[0m",
        "\u001b[1;32m/usr/local/anaconda/lib/python2.7/json/__init__.pyc\u001b[0m in \u001b[0;36mloads\u001b[1;34m(s, encoding, cls, object_hook, parse_float, parse_int, parse_constant, object_pairs_hook, **kw)\u001b[0m\n\u001b[0;32m    336\u001b[0m             \u001b[0mparse_int\u001b[0m \u001b[1;32mis\u001b[0m \u001b[0mNone\u001b[0m \u001b[1;32mand\u001b[0m \u001b[0mparse_float\u001b[0m \u001b[1;32mis\u001b[0m \u001b[0mNone\u001b[0m \u001b[1;32mand\u001b[0m\u001b[1;33m\u001b[0m\u001b[0m\n\u001b[0;32m    337\u001b[0m             parse_constant is None and object_pairs_hook is None and not kw):\n\u001b[1;32m--> 338\u001b[1;33m         \u001b[1;32mreturn\u001b[0m \u001b[0m_default_decoder\u001b[0m\u001b[1;33m.\u001b[0m\u001b[0mdecode\u001b[0m\u001b[1;33m(\u001b[0m\u001b[0ms\u001b[0m\u001b[1;33m)\u001b[0m\u001b[1;33m\u001b[0m\u001b[0m\n\u001b[0m\u001b[0;32m    339\u001b[0m     \u001b[1;32mif\u001b[0m \u001b[0mcls\u001b[0m \u001b[1;32mis\u001b[0m \u001b[0mNone\u001b[0m\u001b[1;33m:\u001b[0m\u001b[1;33m\u001b[0m\u001b[0m\n\u001b[0;32m    340\u001b[0m         \u001b[0mcls\u001b[0m \u001b[1;33m=\u001b[0m \u001b[0mJSONDecoder\u001b[0m\u001b[1;33m\u001b[0m\u001b[0m\n",
        "\u001b[1;32m/usr/local/anaconda/lib/python2.7/json/decoder.pyc\u001b[0m in \u001b[0;36mdecode\u001b[1;34m(self, s, _w)\u001b[0m\n\u001b[0;32m    364\u001b[0m \u001b[1;33m\u001b[0m\u001b[0m\n\u001b[0;32m    365\u001b[0m         \"\"\"\n\u001b[1;32m--> 366\u001b[1;33m         \u001b[0mobj\u001b[0m\u001b[1;33m,\u001b[0m \u001b[0mend\u001b[0m \u001b[1;33m=\u001b[0m \u001b[0mself\u001b[0m\u001b[1;33m.\u001b[0m\u001b[0mraw_decode\u001b[0m\u001b[1;33m(\u001b[0m\u001b[0ms\u001b[0m\u001b[1;33m,\u001b[0m \u001b[0midx\u001b[0m\u001b[1;33m=\u001b[0m\u001b[0m_w\u001b[0m\u001b[1;33m(\u001b[0m\u001b[0ms\u001b[0m\u001b[1;33m,\u001b[0m \u001b[1;36m0\u001b[0m\u001b[1;33m)\u001b[0m\u001b[1;33m.\u001b[0m\u001b[0mend\u001b[0m\u001b[1;33m(\u001b[0m\u001b[1;33m)\u001b[0m\u001b[1;33m)\u001b[0m\u001b[1;33m\u001b[0m\u001b[0m\n\u001b[0m\u001b[0;32m    367\u001b[0m         \u001b[0mend\u001b[0m \u001b[1;33m=\u001b[0m \u001b[0m_w\u001b[0m\u001b[1;33m(\u001b[0m\u001b[0ms\u001b[0m\u001b[1;33m,\u001b[0m \u001b[0mend\u001b[0m\u001b[1;33m)\u001b[0m\u001b[1;33m.\u001b[0m\u001b[0mend\u001b[0m\u001b[1;33m(\u001b[0m\u001b[1;33m)\u001b[0m\u001b[1;33m\u001b[0m\u001b[0m\n\u001b[0;32m    368\u001b[0m         \u001b[1;32mif\u001b[0m \u001b[0mend\u001b[0m \u001b[1;33m!=\u001b[0m \u001b[0mlen\u001b[0m\u001b[1;33m(\u001b[0m\u001b[0ms\u001b[0m\u001b[1;33m)\u001b[0m\u001b[1;33m:\u001b[0m\u001b[1;33m\u001b[0m\u001b[0m\n",
        "\u001b[1;32m/usr/local/anaconda/lib/python2.7/json/decoder.pyc\u001b[0m in \u001b[0;36mraw_decode\u001b[1;34m(self, s, idx)\u001b[0m\n\u001b[0;32m    382\u001b[0m             \u001b[0mobj\u001b[0m\u001b[1;33m,\u001b[0m \u001b[0mend\u001b[0m \u001b[1;33m=\u001b[0m \u001b[0mself\u001b[0m\u001b[1;33m.\u001b[0m\u001b[0mscan_once\u001b[0m\u001b[1;33m(\u001b[0m\u001b[0ms\u001b[0m\u001b[1;33m,\u001b[0m \u001b[0midx\u001b[0m\u001b[1;33m)\u001b[0m\u001b[1;33m\u001b[0m\u001b[0m\n\u001b[0;32m    383\u001b[0m         \u001b[1;32mexcept\u001b[0m \u001b[0mStopIteration\u001b[0m\u001b[1;33m:\u001b[0m\u001b[1;33m\u001b[0m\u001b[0m\n\u001b[1;32m--> 384\u001b[1;33m             \u001b[1;32mraise\u001b[0m \u001b[0mValueError\u001b[0m\u001b[1;33m(\u001b[0m\u001b[1;34m\"No JSON object could be decoded\"\u001b[0m\u001b[1;33m)\u001b[0m\u001b[1;33m\u001b[0m\u001b[0m\n\u001b[0m\u001b[0;32m    385\u001b[0m         \u001b[1;32mreturn\u001b[0m \u001b[0mobj\u001b[0m\u001b[1;33m,\u001b[0m \u001b[0mend\u001b[0m\u001b[1;33m\u001b[0m\u001b[0m\n",
        "\u001b[1;31mValueError\u001b[0m: No JSON object could be decoded"
       ]
      }
     ],
     "prompt_number": 42
    },
    {
     "cell_type": "code",
     "collapsed": false,
     "input": [
      "tmp_types = [\"min\", \"mean\", \"max\"]\n",
      "year = 1929\n",
      "for ob in obs_1929:\n",
      "    for tmp_type in tmp_types:\n",
      "        es_index = tmp_type + \"tmp\" + str(year)\n",
      "        station_id = ob[0]\n",
      "        the_year = ob[1][:4]\n",
      "        the_month = ob[1][4:6]\n",
      "        the_day = ob[1][6:]\n",
      "        tmp = ob[tmp_types.index(tmp_type) + 2]\n",
      "        \n",
      "        es.index(index=es_index, doc_type=\"observation\", \n",
      "                 body={\n",
      "                    'station': str(station_id),\n",
      "                    'dtg': {\"type\": \"date\",\n",
      "                            \"format}\n",
      "                    'year': str(the_year),\n",
      "                    'month': str(the_month),\n",
      "                    'day': str(the_day),\n",
      "                    'temperature': tmp\n",
      "        })"
     ],
     "language": "python",
     "metadata": {},
     "outputs": [],
     "prompt_number": 149
    },
    {
     "cell_type": "code",
     "collapsed": false,
     "input": [
      "file_name = \"/home/schiefjm/weather/gsod/1930/039800-99999-1930.op\"\n",
      "header = [\"Station Id\", \"YEARMODA\", \"Mean Temp\", \"Num of Obs\", \"dewpoint\",\n",
      "          \"SLP\", \"STP\", \"Visibility\", \"Windspeed\", \"Maxspeed\",\n",
      "          \"Gust\", \"Max Temp\", \"Min Temp\", \"Precipitation\", \"Snowdepth\"]\n",
      "\n",
      "with open(file_name, \"r\") as f:\n",
      "    obs = []\n",
      "    for line in f:\n",
      "        if not line.startswith(\"STN\"):\n",
      "            ob = line.split()\n",
      "            for i in range(14, 4, -2):\n",
      "                ob.pop(i)\n",
      "            ob.pop(1)\n",
      "            ob.pop(-1)\n",
      "            obs.append(ob)\n",
      "            \n",
      "jsonized = []\n",
      "for the_ob in obs[:3]:\n",
      "    fixed = {}\n",
      "    headed = zip(header, the_ob)\n",
      "    for element in headed:\n",
      "        fixed[element[0]] = element[1]\n",
      "    jsonized.append(fixed)\n",
      "#     jsonized.append(map(lambda ob: {\n",
      "#                     \"Station Id\": ob[0], \n",
      "#                     \"YEARMODA\": ob[1], \n",
      "#                     \"Mean Temp\": ob[2], \n",
      "#                     \"Num of Obs\": ob[3],\n",
      "#                     \"Dewpoint\": ob[4],\n",
      "#                     \"SLP\": ob[5], \n",
      "#                     \"STP\": ob[6], \n",
      "#                     \"Visibility\": ob[7], \n",
      "#                     \"Windspeed\": ob[8], \n",
      "#                     \"Maxspeed\": ob[9],\n",
      "#                     \"Gust\": ob[10], \n",
      "#                     \"Max Temp\": ob[11], \n",
      "#                     \"Min Temp\": ob[12], \n",
      "#                     \"Precipitation\": ob[13], \n",
      "#                     \"Snowdepth\": ob[14]\n",
      "#                 }, zip(header, the_ob)))\n",
      "\n",
      "for ob in jsonized[:3]:\n",
      "    print(ob)"
     ],
     "language": "python",
     "metadata": {},
     "outputs": [
      {
       "output_type": "stream",
       "stream": "stdout",
       "text": [
        "{'Maxspeed': u'23.9', 'dewpoint': u'45.7', 'Precipitation': u'99.99', 'Gust': u'999.9', 'SLP': u'1001.4', 'Mean Temp': u'47.3', 'Windspeed': u'18.3', 'STP': u'9999.9', 'Visibility': u'2.8', 'Max Temp': u'51.1*', 'Station Id': u'039800', 'Num of Obs': u'4', 'Min Temp': u'41.0', 'YEARMODA': u'19300101', 'Snowdepth': u'999.9'}\n",
        "{'Maxspeed': u'36.9', 'dewpoint': u'43.3', 'Precipitation': u'99.99', 'Gust': u'999.9', 'SLP': u'1002.0', 'Mean Temp': u'46.0', 'Windspeed': u'25.7', 'STP': u'9999.9', 'Visibility': u'4.3', 'Max Temp': u'51.1', 'Station Id': u'039800', 'Num of Obs': u'4', 'Min Temp': u'43.0', 'YEARMODA': u'19300102', 'Snowdepth': u'999.9'}\n",
        "{'Maxspeed': u'18.1', 'dewpoint': u'41.2', 'Precipitation': u'99.99', 'Gust': u'999.9', 'SLP': u'996.6', 'Mean Temp': u'43.3', 'Windspeed': u'14.3', 'STP': u'9999.9', 'Visibility': u'9.9', 'Max Temp': u'50.0*', 'Station Id': u'039800', 'Num of Obs': u'4', 'Min Temp': u'39.0*', 'YEARMODA': u'19300103', 'Snowdepth': u'999.9'}\n"
       ]
      }
     ],
     "prompt_number": 239
    },
    {
     "cell_type": "code",
     "collapsed": false,
     "input": [],
     "language": "python",
     "metadata": {},
     "outputs": []
    }
   ],
   "metadata": {}
  }
 ]
}