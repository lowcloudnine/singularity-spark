{
 "cells": [
  {
   "cell_type": "markdown",
   "metadata": {},
   "source": [
    "## Imports"
   ]
  },
  {
   "cell_type": "code",
   "execution_count": 7,
   "metadata": {
    "collapsed": false
   },
   "outputs": [
    {
     "name": "stdout",
     "output_type": "stream",
     "text": [
      "Populating the interactive namespace from numpy and matplotlib\n"
     ]
    },
    {
     "name": "stderr",
     "output_type": "stream",
     "text": [
      "WARNING: pylab import has clobbered these variables: ['product']\n",
      "`%matplotlib` prevents importing * from pylab and numpy\n"
     ]
    }
   ],
   "source": [
    "# for ipython notebooks this display images inline and imports \n",
    "# numpy and matplotlib\n",
    "%pylab inline\n",
    "\n",
    "# ----- Future Libraries for Python 3 portability\n",
    "from __future__ import print_function\n",
    "from future.builtins import range\n",
    "\n",
    "# ---- Standard Libraries (not imported by pylab)\n",
    "import time\n",
    "\n",
    "# ---- Scientific Libraries (not imported by pylab)\n",
    "import pandas as pd\n",
    "import scipy as sp"
   ]
  },
  {
   "cell_type": "code",
   "execution_count": 2,
   "metadata": {
    "collapsed": false
   },
   "outputs": [
    {
     "name": "stdout",
     "output_type": "stream",
     "text": [
      "[0, 1, [3]]\n",
      "[0, 1, [3, 4]]\n",
      "[0, 1, 2]\n"
     ]
    }
   ],
   "source": [
    "# Problem 1\n",
    "x = [0, 1, [2]]\n",
    "x[2][0] = 3\n",
    "print(x)\n",
    "# this should print [0, 1, [3]]\n",
    "x[2].append(4)\n",
    "print(x)\n",
    "# this should print [0, 1, [3, 4]]\n",
    "x[2] = 2\n",
    "print(x)\n",
    "# this should print [0, 1, 2]"
   ]
  },
  {
   "cell_type": "code",
   "execution_count": 3,
   "metadata": {
    "collapsed": false
   },
   "outputs": [
    {
     "name": "stdout",
     "output_type": "stream",
     "text": [
      "10\n",
      "aabbcc\n"
     ]
    }
   ],
   "source": [
    "# Problem 2\n",
    "def my_sum(a_list):\n",
    "    the_sum = 0\n",
    "    for n in a_list:\n",
    "        the_sum += n\n",
    "    \n",
    "    return the_sum\n",
    "\n",
    "print(my_sum([1, 2, 3, 4]))\n",
    "\n",
    "# Problem 3\n",
    "def str_sum(a_list, separator=\" \"):\n",
    "    return separator.join(a_list)\n",
    "\n",
    "print(str_sum([\"aa\", \"bb\", \"cc\"], \"\"))"
   ]
  },
  {
   "cell_type": "code",
   "execution_count": 4,
   "metadata": {
    "collapsed": false
   },
   "outputs": [
    {
     "name": "stdout",
     "output_type": "stream",
     "text": [
      "6\n",
      "6\n"
     ]
    }
   ],
   "source": [
    "# Problem 4\n",
    "def product(a_list):\n",
    "    \"\"\" Using a python list and standard python. \"\"\"\n",
    "    the_prod = 1\n",
    "    for n in a_list:\n",
    "        the_prod *= n\n",
    "    \n",
    "    return the_prod\n",
    "\n",
    "def np_prod(a_list):\n",
    "    \"\"\" Convert python list to numpy and use np for multiplication. \"\"\"\n",
    "    return np.prod(a_list)\n",
    "\n",
    "print(product([1, 2, 3]))\n",
    "print(np_prod([1, 2, 3]))"
   ]
  },
  {
   "cell_type": "code",
   "execution_count": 13,
   "metadata": {
    "collapsed": false
   },
   "outputs": [
    {
     "name": "stdout",
     "output_type": "stream",
     "text": [
      "120\n",
      "120\n",
      "120.0\n"
     ]
    }
   ],
   "source": [
    "# Problem 5\n",
    "def factorial(x):\n",
    "    \"\"\" Using standard python and no previous functions. \"\"\"\n",
    "    fact = 1\n",
    "    for n in range(1, x + 1):\n",
    "        fact *= n\n",
    "        \n",
    "    return fact\n",
    "\n",
    "# def prod_fact(x):\n",
    "#     \"\"\" Use the product function from above. \"\"\"\n",
    "#     return product(range(1, x + 1))\n",
    "\n",
    "# as lambda function\n",
    "prod_fact = lambda x: product(range(1, x + 1))\n",
    "\n",
    "def np_factorial(x):\n",
    "    \"\"\" Use numpy to compute the factorial. \n",
    "    \n",
    "    per SO at \n",
    "    http://stackoverflow.com/questions/21753841/factorial-in-numpy-and-scipy\n",
    "    numpy.math = scipy.math = math but scipy.misc uses a different function.\n",
    "    \"\"\"\n",
    "    import scipy.misc\n",
    "    return scipy.misc.factorial(x)\n",
    "\n",
    "print(factorial(5))\n",
    "print(prod_fact(5))\n",
    "print(np_factorial(5))"
   ]
  },
  {
   "cell_type": "markdown",
   "metadata": {},
   "source": [
    "Why is the functional version faster by approximately 12%?"
   ]
  },
  {
   "cell_type": "code",
   "execution_count": 39,
   "metadata": {
    "collapsed": false
   },
   "outputs": [
    {
     "data": {
      "text/plain": [
       "3.967"
      ]
     },
     "execution_count": 39,
     "metadata": {},
     "output_type": "execute_result"
    }
   ],
   "source": [
    "import time\n",
    "start_time = time.time()\n",
    "from functools import reduce\n",
    "sqrs = reduce(lambda x, y: x + y, \n",
    "              map(lambda x: x * x, (i for i in range(1, 10**7))))\n",
    "round(time.time() - start_time, 3)"
   ]
  },
  {
   "cell_type": "code",
   "execution_count": 50,
   "metadata": {
    "collapsed": false
   },
   "outputs": [
    {
     "data": {
      "text/plain": [
       "4.51"
      ]
     },
     "execution_count": 50,
     "metadata": {},
     "output_type": "execute_result"
    }
   ],
   "source": [
    "import time\n",
    "start_time = time.time()\n",
    "sum((i**2 for i in range(1, 10**7)))\n",
    "round(time.time() - start_time, 3)"
   ]
  },
  {
   "cell_type": "code",
   "execution_count": 52,
   "metadata": {
    "collapsed": false
   },
   "outputs": [
    {
     "name": "stdout",
     "output_type": "stream",
     "text": [
      "12.04\n"
     ]
    }
   ],
   "source": [
    "improvement = (1 - 3.967/4.51) * 100\n",
    "print(round(improvement, 2))"
   ]
  }
 ],
 "metadata": {
  "kernelspec": {
   "display_name": "Python 3",
   "language": "python",
   "name": "python3"
  },
  "language_info": {
   "codemirror_mode": {
    "name": "ipython",
    "version": 3
   },
   "file_extension": ".py",
   "mimetype": "text/x-python",
   "name": "python",
   "nbconvert_exporter": "python",
   "pygments_lexer": "ipython3",
   "version": "3.4.3"
  }
 },
 "nbformat": 4,
 "nbformat_minor": 0
}
