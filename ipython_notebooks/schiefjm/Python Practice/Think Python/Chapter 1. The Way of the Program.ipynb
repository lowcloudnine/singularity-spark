{
 "cells": [
  {
   "cell_type": "code",
   "execution_count": 1,
   "metadata": {
    "collapsed": true
   },
   "outputs": [],
   "source": [
    "# Exercise 1-1.\n",
    "# Write a well-structured English sentence with invalid tokens in it. \n",
    "# Then write another sentence with all valid tokens but with invalid \n",
    "# structure.\n",
    "\n",
    "# When you read a sentence in English or a statement in a formal \n",
    "# language, you have to figure out what the structure of the sentence \n",
    "# is (although in a natural language you do this subconsciously). This \n",
    "# process is called parsing."
   ]
  },
  {
   "cell_type": "code",
   "execution_count": 2,
   "metadata": {
    "collapsed": false
   },
   "outputs": [],
   "source": [
    "# Exercise 1-2.\n",
    "\n",
    "# import requests\n",
    "# from IPython.display import HTML\n",
    "# python_page = requests.get(\"http://python.org\")\n",
    "# HTML(python_page.text)"
   ]
  },
  {
   "cell_type": "code",
   "execution_count": 3,
   "metadata": {
    "collapsed": false
   },
   "outputs": [
    {
     "name": "stdout",
     "output_type": "stream",
     "text": [
      "Help on built-in function print in module builtins:\n",
      "\n",
      "print(...)\n",
      "    print(value, ..., sep=' ', end='\\n', file=sys.stdout, flush=False)\n",
      "    \n",
      "    Prints the values to a stream, or to sys.stdout by default.\n",
      "    Optional keyword arguments:\n",
      "    file:  a file-like object (stream); defaults to the current sys.stdout.\n",
      "    sep:   string inserted between values, default a space.\n",
      "    end:   string appended after the last value, default a newline.\n",
      "    flush: whether to forcibly flush the stream.\n",
      "\n"
     ]
    }
   ],
   "source": [
    "# Exercise 1-3.\n",
    "\n",
    "# help() # This actually works in IPython!\n",
    "help('print')"
   ]
  },
  {
   "cell_type": "code",
   "execution_count": 4,
   "metadata": {
    "collapsed": false
   },
   "outputs": [
    {
     "name": "stdout",
     "output_type": "stream",
     "text": [
      "8.57\n",
      "5.68\n"
     ]
    }
   ],
   "source": [
    "# Exercise 1-4.\n",
    "\n",
    "def get_mph(distance, time, distance_units=\"mi\"):\n",
    "    \"\"\" Given a distance, its units and time it took will return the \n",
    "    average speed in miles per hour or MPH.\n",
    "    \n",
    "    Time expects HH:MM:SS format as a string, this could be converted \n",
    "    to time object later.\n",
    "    \n",
    "    \"\"\"\n",
    "    if distance_units in [\"mi\", \"mile\", \"miles\"]:\n",
    "        distance = distance\n",
    "    elif distance_units in [\"km\", \"kilometers\"]:\n",
    "        distance = distance * 0.621371\n",
    "    elif distance_unit in [\"m\", \"meters\"]:\n",
    "        distance = (distance / 1000) * 0.621371\n",
    "    elif distance_unit in [\"f\", \"ft\", \"feet\"]:\n",
    "        distance = distance / 5280\n",
    "    else:\n",
    "        print(\"Please enter a valid unit for distance.\")\n",
    "        \n",
    "    time = time.split(\":\")\n",
    "    hours = int(time[0])\n",
    "    mins = int(time[1])\n",
    "    secs = int(time[2])\n",
    "    \n",
    "    total_secs = hours * 60 * 60 + mins * 60 + secs\n",
    "    total_hrs = total_secs / (60 * 60)\n",
    "    \n",
    "    return round(distance / total_hrs, 2)\n",
    "\n",
    "d = 10\n",
    "du = \"km\"\n",
    "t = \"00:43:30\"\n",
    "print(get_mph(d, t, du))\n",
    "print(get_mph(26.2, \"04:37:00\"))  "
   ]
  }
 ],
 "metadata": {
  "kernelspec": {
   "display_name": "Python 3",
   "language": "python",
   "name": "python3"
  },
  "language_info": {
   "codemirror_mode": {
    "name": "ipython",
    "version": 3
   },
   "file_extension": ".py",
   "mimetype": "text/x-python",
   "name": "python",
   "nbconvert_exporter": "python",
   "pygments_lexer": "ipython3",
   "version": "3.4.3"
  }
 },
 "nbformat": 4,
 "nbformat_minor": 0
}
