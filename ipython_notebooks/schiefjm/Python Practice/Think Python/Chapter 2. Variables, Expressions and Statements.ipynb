{
 "cells": [
  {
   "cell_type": "code",
   "execution_count": 10,
   "metadata": {
    "collapsed": false
   },
   "outputs": [
    {
     "name": "stdout",
     "output_type": "stream",
     "text": [
      "17 4095 671\n"
     ]
    }
   ],
   "source": [
    "# Exercise 2-1.\n",
    "\n",
    "# this is because these are special number in python, binary starts with\n",
    "# 0, Python 3 does not allow this.  The numbers must express their type,\n",
    "# i.e. 0b for binary 0x for hex and 0o for octal.\n",
    "\n",
    "binary = 0b010001\n",
    "hexidecimal = 0xFFF\n",
    "octal = 0o1237\n",
    "print(binary, hexidecimal, octal)"
   ]
  },
  {
   "cell_type": "code",
   "execution_count": 11,
   "metadata": {
    "collapsed": false
   },
   "outputs": [
    {
     "data": {
      "text/plain": [
       "6"
      ]
     },
     "execution_count": 11,
     "metadata": {},
     "output_type": "execute_result"
    }
   ],
   "source": [
    "# Exercise 2-2.\n",
    "\n",
    "5\n",
    "x = 5\n",
    "x + 1"
   ]
  },
  {
   "cell_type": "code",
   "execution_count": null,
   "metadata": {
    "collapsed": true
   },
   "outputs": [],
   "source": [
    "# Exercise 2-3.\n",
    "\n"
   ]
  }
 ],
 "metadata": {
  "kernelspec": {
   "display_name": "Python 3",
   "language": "python",
   "name": "python3"
  },
  "language_info": {
   "codemirror_mode": {
    "name": "ipython",
    "version": 3
   },
   "file_extension": ".py",
   "mimetype": "text/x-python",
   "name": "python",
   "nbconvert_exporter": "python",
   "pygments_lexer": "ipython3",
   "version": "3.4.3"
  }
 },
 "nbformat": 4,
 "nbformat_minor": 0
}
