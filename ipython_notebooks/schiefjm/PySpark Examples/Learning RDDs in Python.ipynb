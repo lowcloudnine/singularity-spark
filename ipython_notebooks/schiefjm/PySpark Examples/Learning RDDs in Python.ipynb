{
 "cells": [
  {
   "cell_type": "code",
   "execution_count": 3,
   "metadata": {
    "collapsed": false
   },
   "outputs": [
    {
     "ename": "NameError",
     "evalue": "name 'sc' is not defined",
     "output_type": "error",
     "traceback": [
      "\u001b[1;31m---------------------------------------------------------------------------\u001b[0m",
      "\u001b[1;31mNameError\u001b[0m                                 Traceback (most recent call last)",
      "\u001b[1;32m<ipython-input-3-ce17cdb9128a>\u001b[0m in \u001b[0;36m<module>\u001b[1;34m()\u001b[0m\n\u001b[0;32m      5\u001b[0m \u001b[1;31m# sc = SparkContext(appName=\"Jon's PySpark\")\u001b[0m\u001b[1;33m\u001b[0m\u001b[1;33m\u001b[0m\u001b[0m\n\u001b[0;32m      6\u001b[0m \u001b[1;33m\u001b[0m\u001b[0m\n\u001b[1;32m----> 7\u001b[1;33m \u001b[0msc\u001b[0m\u001b[1;33m\u001b[0m\u001b[0m\n\u001b[0m",
      "\u001b[1;31mNameError\u001b[0m: name 'sc' is not defined"
     ]
    }
   ],
   "source": [
    "# import pyspark\n",
    "# from pyspark import SparkConf\n",
    "# from pyspark import SparkContext\n",
    "\n",
    "# sc = SparkContext(appName=\"Jon's PySpark\")\n",
    "\n",
    "sc"
   ]
  },
  {
   "cell_type": "code",
   "execution_count": 5,
   "metadata": {
    "collapsed": false
   },
   "outputs": [
    {
     "ename": "NameError",
     "evalue": "name 'sc' is not defined",
     "output_type": "error",
     "traceback": [
      "\u001b[1;31m---------------------------------------------------------------------------\u001b[0m",
      "\u001b[1;31mNameError\u001b[0m                                 Traceback (most recent call last)",
      "\u001b[1;32m<ipython-input-5-f92f434efc2f>\u001b[0m in \u001b[0;36m<module>\u001b[1;34m()\u001b[0m\n\u001b[0;32m      1\u001b[0m \u001b[1;32mfrom\u001b[0m \u001b[0mutils\u001b[0m \u001b[1;32mimport\u001b[0m \u001b[0mheader\u001b[0m\u001b[1;33m\u001b[0m\u001b[0m\n\u001b[1;32m----> 2\u001b[1;33m \u001b[1;32mprint\u001b[0m\u001b[1;33m(\u001b[0m\u001b[0mheader\u001b[0m\u001b[1;33m.\u001b[0m\u001b[0mcreate_header\u001b[0m\u001b[1;33m(\u001b[0m\u001b[0msc\u001b[0m\u001b[1;33m)\u001b[0m\u001b[1;33m)\u001b[0m\u001b[1;33m\u001b[0m\u001b[0m\n\u001b[0m",
      "\u001b[1;31mNameError\u001b[0m: name 'sc' is not defined"
     ]
    }
   ],
   "source": [
    "from utils import header\n",
    "print(header.create_header(sc))"
   ]
  },
  {
   "cell_type": "code",
   "execution_count": 2,
   "metadata": {
    "collapsed": false
   },
   "outputs": [],
   "source": [
    "ob_rdds = []\n",
    "for month in range(1, 13):\n",
    "    dtg = \"1970{:02}\".format(month)\n",
    "    obs = sc.textFile(\"/user/schiefjm/weather/gsod/1970\")\\\n",
    "            .filter(lambda line: \"STN\" not in line)\\\n",
    "            .filter(lambda line: \"034700\" in line)\\\n",
    "            .filter(lambda line: dtg in line)\n",
    "    ob_rdds.append([dtg, obs.take(obs.count())])"
   ]
  },
  {
   "cell_type": "code",
   "execution_count": 51,
   "metadata": {
    "collapsed": false
   },
   "outputs": [
    {
     "name": "stdout",
     "output_type": "stream",
     "text": [
      "\n",
      "1929 has 21 stations and 2081 total observations\n",
      "----------------------------------------------------------------------\n",
      "038040\t91\n",
      "039730\t89\n",
      "990061\t44\n",
      "033790\t148\n",
      "037950\t149\n",
      "\n",
      "1930 has 23 stations and 7285 total observations\n",
      "----------------------------------------------------------------------\n",
      "039530\t363\n",
      "030750\t357\n",
      "030910\t190\n",
      "038640\t361\n",
      "035590\t1\n",
      "\n",
      "1931 has 31 stations and 9913 total observations\n",
      "----------------------------------------------------------------------\n",
      "105130\t196\n",
      "030260\t358\n",
      "122050\t359\n",
      "104160\t144\n",
      "037950\t352\n"
     ]
    }
   ],
   "source": [
    "def get_stations(year):\n",
    "    \"\"\" Given a year from 1929 to 2009 inclusive returns a set of the \n",
    "    stations in the data set for that year. \n",
    "    \n",
    "    :input:\n",
    "        year: a string or integer between 1929 and 2009 inclusive\n",
    "        \n",
    "    :output:\n",
    "        returns a list of tuples of the station id and number of obs for\n",
    "        said station\n",
    "    \"\"\"\n",
    "    # validate the year\n",
    "    year = int(year)\n",
    "    if 1929 <= year <= 2009:\n",
    "        year = str(year)\n",
    "    else:\n",
    "        print(\"Please enter a valid year from 1929 to 2009.\")\n",
    "        return 0\n",
    "    \n",
    "    # get the stations and number of obs for each\n",
    "    return sc.textFile(\"/user/schiefjm/weather/gsod/\" + year)\\\n",
    "             .filter(lambda line: \"STN\" not in line)\\\n",
    "             .map(lambda line: (line.split()[0], 1))\\\n",
    "             .reduceByKey(lambda x, y: x + y)\\\n",
    "             .collect()\n",
    "\n",
    "for year in range(1929, 1932):\n",
    "    stations = get_stations(year)\n",
    "    total_obs = 0\n",
    "    for station in stations:\n",
    "        total_obs += int(station[1])\n",
    "    print(\"\\n{} has {} stations and {} total observations\"\\\n",
    "          .format(year, len(stations), total_obs))\n",
    "    print(\"-\" * 70)\n",
    "    for station in stations[:5]:\n",
    "        print(\"{}\\t{}\".format(station[0], station[1]))\n",
    "        "
   ]
  },
  {
   "cell_type": "code",
   "execution_count": null,
   "metadata": {
    "collapsed": false
   },
   "outputs": [],
   "source": [
    "counts = file.flatMap(lambda line: line.split(\" \")) \\\n",
    "             .map(lambda word: (word, 1)) \\\n",
    "             .reduceByKey(lambda a, b: a + b)"
   ]
  },
  {
   "cell_type": "code",
   "execution_count": 1,
   "metadata": {
    "collapsed": false
   },
   "outputs": [
    {
     "name": "stdout",
     "output_type": "stream",
     "text": [
      "The Zen of Python, by Tim Peters\n",
      "\n",
      "Beautiful is better than ugly.\n",
      "Explicit is better than implicit.\n",
      "Simple is better than complex.\n",
      "Complex is better than complicated.\n",
      "Flat is better than nested.\n",
      "Sparse is better than dense.\n",
      "Readability counts.\n",
      "Special cases aren't special enough to break the rules.\n",
      "Although practicality beats purity.\n",
      "Errors should never pass silently.\n",
      "Unless explicitly silenced.\n",
      "In the face of ambiguity, refuse the temptation to guess.\n",
      "There should be one-- and preferably only one --obvious way to do it.\n",
      "Although that way may not be obvious at first unless you're Dutch.\n",
      "Now is better than never.\n",
      "Although never is often better than *right* now.\n",
      "If the implementation is hard to explain, it's a bad idea.\n",
      "If the implementation is easy to explain, it may be a good idea.\n",
      "Namespaces are one honking great idea -- let's do more of those!\n"
     ]
    }
   ],
   "source": [
    "import this"
   ]
  },
  {
   "cell_type": "code",
   "execution_count": 2,
   "metadata": {
    "collapsed": false
   },
   "outputs": [
    {
     "ename": "SyntaxError",
     "evalue": "not a chance (<ipython-input-2-2aebb3fc8ecf>, line 1)",
     "output_type": "error",
     "traceback": [
      "\u001b[1;36m  File \u001b[1;32m\"<ipython-input-2-2aebb3fc8ecf>\"\u001b[1;36m, line \u001b[1;32m1\u001b[0m\n\u001b[1;33m    from __future__ import braces\u001b[0m\n\u001b[1;31mSyntaxError\u001b[0m\u001b[1;31m:\u001b[0m not a chance\n"
     ]
    }
   ],
   "source": [
    "from __future__ import braces"
   ]
  },
  {
   "cell_type": "code",
   "execution_count": null,
   "metadata": {
    "collapsed": false
   },
   "outputs": [],
   "source": []
  }
 ],
 "metadata": {
  "kernelspec": {
   "display_name": "Python 2",
   "language": "python",
   "name": "python2"
  },
  "language_info": {
   "codemirror_mode": {
    "name": "ipython",
    "version": 2
   },
   "file_extension": ".py",
   "mimetype": "text/x-python",
   "name": "python",
   "nbconvert_exporter": "python",
   "pygments_lexer": "ipython2",
   "version": "2.7.9"
  }
 },
 "nbformat": 4,
 "nbformat_minor": 0
}
