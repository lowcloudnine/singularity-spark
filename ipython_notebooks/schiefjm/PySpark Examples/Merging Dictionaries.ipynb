{
 "cells": [
  {
   "cell_type": "code",
   "execution_count": 52,
   "metadata": {
    "collapsed": false
   },
   "outputs": [],
   "source": [
    "def merge_dicts(*dict_args):\n",
    "    \"\"\" Given any number of dictionaries, merges them into a comprehensive \n",
    "    dictionary.  For example:\n",
    "    \n",
    "    >>> from collections import OrderedDict\n",
    "    >>> x = {'a': 1, 'b': 2}\n",
    "    >>> y = {'b': 3, 'c': 4}\n",
    "    >>> z = OrderedDict(sorted(merge_dicts(x, y).items(), key=lambda i: i[0]))\n",
    "    >>> z\n",
    "    OrderedDict([('a', 1), ('b', 5), ('c', 4)])\n",
    "    \n",
    "    \"\"\"\n",
    "    result = {}\n",
    "    \n",
    "    for dictionary in dict_args:\n",
    "        for key, value in dictionary.items():\n",
    "            result[key] = result.get(key, 0) + value\n",
    "        \n",
    "    return result"
   ]
  },
  {
   "cell_type": "code",
   "execution_count": 50,
   "metadata": {
    "collapsed": false
   },
   "outputs": [
    {
     "name": "stdout",
     "output_type": "stream",
     "text": [
      "Exception reporting mode: Plain\n",
      "Doctest mode is: ON\n"
     ]
    },
    {
     "data": {
      "text/plain": [
       "OrderedDict([('a', 1), ('b', 5), ('c', 4)])"
      ]
     },
     "execution_count": 50,
     "metadata": {},
     "output_type": "execute_result"
    }
   ],
   "source": [
    "%doctest_mode\n",
    ">>> from collections import OrderedDict\n",
    ">>> x = {'a': 1, 'b': 2}\n",
    ">>> y = {'b': 3, 'c': 4}\n",
    ">>> z = OrderedDict(sorted(merge_dicts(x, y).items(), key=lambda i: i[0]))\n",
    ">>> z\n",
    "# OrderedDict([('a', 1), ('b', 5), ('c', 4)])"
   ]
  },
  {
   "cell_type": "code",
   "execution_count": 53,
   "metadata": {
    "collapsed": false
   },
   "outputs": [
    {
     "data": {
      "text/plain": [
       "TestResults(failed=0, attempted=5)"
      ]
     },
     "execution_count": 53,
     "metadata": {},
     "output_type": "execute_result"
    }
   ],
   "source": [
    "import doctest\n",
    "doctest.testmod()"
   ]
  }
 ],
 "metadata": {
  "kernelspec": {
   "display_name": "Python 2",
   "language": "python",
   "name": "python2"
  },
  "language_info": {
   "codemirror_mode": {
    "name": "ipython",
    "version": 2
   },
   "file_extension": ".py",
   "mimetype": "text/x-python",
   "name": "python",
   "nbconvert_exporter": "python",
   "pygments_lexer": "ipython2",
   "version": "2.7.9"
  }
 },
 "nbformat": 4,
 "nbformat_minor": 0
}
