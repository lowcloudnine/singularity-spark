{
 "cells": [
  {
   "cell_type": "code",
   "execution_count": 1,
   "metadata": {
    "collapsed": false
   },
   "outputs": [
    {
     "data": {
      "text/plain": [
       "<Elasticsearch([{u'host': 'search-01.ec2.internal', u'scheme': 'http', u'port': 9200}])>"
      ]
     },
     "execution_count": 1,
     "metadata": {},
     "output_type": "execute_result"
    }
   ],
   "source": [
    "import json\n",
    "\n",
    "import elasticsearch\n",
    "from elasticsearch import Elasticsearch\n",
    "\n",
    "es_server = 'http://search-01.ec2.internal:9200/'\n",
    "indice = 'schiefjm_sng_logs'\n",
    "es = Elasticsearch([es_server])\n",
    "es"
   ]
  },
  {
   "cell_type": "code",
   "execution_count": 58,
   "metadata": {
    "collapsed": false
   },
   "outputs": [
    {
     "data": {
      "text/plain": [
       "{u'acknowledged': True}"
      ]
     },
     "execution_count": 58,
     "metadata": {},
     "output_type": "execute_result"
    }
   ],
   "source": [
    "create_body = json.dumps({\n",
    "    \"mappings\": {\n",
    "        \"log_entry\": {\n",
    "            \"properties\": {\n",
    "                \"data\": {\n",
    "                    \"properties\": {\n",
    "                        \"point\": { \"type\": \"geo_point\" },\n",
    "                        \"RSV_IP_ADDRESS\": { \"type\": \"ip\", \"store\": \"true\" },\n",
    "                        \"destIP\": { \"type\": \"ip\", \"store\": \"true\" },\n",
    "                        \"BBOX_WKT\": { \"type\": \"geo_shape\" },\n",
    "                        \"BBOX_WKT2\": { \"type\": \"geo_shape\" }\n",
    "                    }\n",
    "                }\n",
    "            }\n",
    "        }\n",
    "    }\n",
    "})\n",
    "\n",
    "es.indices.delete(index=indice)\n",
    "es.indices.create(index=indice, body=create_body)"
   ]
  },
  {
   "cell_type": "code",
   "execution_count": 59,
   "metadata": {
    "collapsed": false
   },
   "outputs": [
    {
     "data": {
      "text/plain": [
       "{u'schiefjm_sng_logs': {u'mappings': {u'log_entry': {u'properties': {u'data': {u'properties': {u'BBOX_WKT': {u'type': u'geo_shape'},\n",
       "       u'BBOX_WKT2': {u'type': u'geo_shape'},\n",
       "       u'RSV_IP_ADDRESS': {u'store': True, u'type': u'ip'},\n",
       "       u'destIP': {u'store': True, u'type': u'ip'},\n",
       "       u'point': {u'type': u'geo_point'}}}}}}}}"
      ]
     },
     "execution_count": 59,
     "metadata": {},
     "output_type": "execute_result"
    }
   ],
   "source": [
    "es.indices.get_mapping(indice)"
   ]
  },
  {
   "cell_type": "code",
   "execution_count": 27,
   "metadata": {
    "collapsed": false
   },
   "outputs": [
    {
     "data": {
      "text/plain": [
       "{u'_id': u'AUxxQoreN3YTQcbSD53T',\n",
       " u'_index': u'schiefjm_sng_logs',\n",
       " u'_type': u'log_entry',\n",
       " u'_version': 1,\n",
       " u'created': True}"
      ]
     },
     "execution_count": 27,
     "metadata": {},
     "output_type": "execute_result"
    }
   ],
   "source": [
    "\n",
    "es.index(index=indice, doc_type=\"log_entry\", body=body)"
   ]
  },
  {
   "cell_type": "code",
   "execution_count": null,
   "metadata": {
    "collapsed": true
   },
   "outputs": [],
   "source": []
  }
 ],
 "metadata": {
  "kernelspec": {
   "display_name": "Python 2",
   "language": "python",
   "name": "python2"
  },
  "language_info": {
   "codemirror_mode": {
    "name": "ipython",
    "version": 2
   },
   "file_extension": ".py",
   "mimetype": "text/x-python",
   "name": "python",
   "nbconvert_exporter": "python",
   "pygments_lexer": "ipython2",
   "version": "2.7.9"
  }
 },
 "nbformat": 4,
 "nbformat_minor": 0
}
