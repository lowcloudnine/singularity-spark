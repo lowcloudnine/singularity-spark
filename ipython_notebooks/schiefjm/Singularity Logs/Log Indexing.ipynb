{
 "cells": [
  {
   "cell_type": "markdown",
   "metadata": {},
   "source": [
    "### Imports"
   ]
  },
  {
   "cell_type": "code",
   "execution_count": 1,
   "metadata": {
    "collapsed": false
   },
   "outputs": [
    {
     "name": "stdout",
     "output_type": "stream",
     "text": [
      "Populating the interactive namespace from numpy and matplotlib\n"
     ]
    }
   ],
   "source": [
    "%pylab inline\n",
    "\n",
    "from __future__ import absolute_import\n",
    "from __future__ import division\n",
    "from __future__ import print_function\n",
    "\n",
    "from future.builtins import (bytes, str, open, super, range,\n",
    "                      zip, round, input, int, pow, object)\n",
    "\n",
    "if sys.version_info.major == 2:\n",
    "    # in Python 2 cPickle is much faster than pickle but doesn't \n",
    "    # deal w/ unicode\n",
    "    import cPickle as pickle\n",
    "else:\n",
    "    # Python 3 loads the faster pickle by default if it's available\n",
    "    import pickle\n",
    "\n",
    "# ---- Standard Libraries not included in pylab\n",
    "import collections\n",
    "import csv\n",
    "import json\n",
    "import os\n",
    "import string\n",
    "import sys\n",
    "import time\n",
    "\n",
    "# ---- Scientific Libraries\n",
    "import matplotlib as mpl\n",
    "import matplotlib.pyplot as plt\n",
    "import numpy as np\n",
    "import pandas as pd\n",
    "import scipy as sp\n",
    "\n",
    "# ---- GeoSpatial Libraries\n",
    "import shapely\n",
    "\n",
    "# ---- Extra Libraries for additional functionality\n",
    "import singularity_logs"
   ]
  },
  {
   "cell_type": "markdown",
   "metadata": {},
   "source": [
    "### Using SingularityLogs"
   ]
  },
  {
   "cell_type": "code",
   "execution_count": 2,
   "metadata": {
    "collapsed": false,
    "scrolled": true
   },
   "outputs": [
    {
     "name": "stdout",
     "output_type": "stream",
     "text": [
      "Created singularity_logs\n",
      "{u'acknowledged': True}\n",
      "\n",
      "{u'count': 1965, u'_shards': {u'successful': 5, u'failed': 0, u'total': 5}}\n"
     ]
    }
   ],
   "source": [
    "# read in all the log entries from the log file\n",
    "log_entries = []\n",
    "with open(\"singularity.log\", \"r\") as f:\n",
    "    for line in f:\n",
    "        log_entries.append(line.strip())\n",
    "        \n",
    "log_entries = json.loads(\"\".join(log_entries))['logEntries']\n",
    "\n",
    "# set up the singularity logs class\n",
    "index_name = \"singularity_logs\"\n",
    "sing = singularity_logs.SingularityLogs(index_name)\n",
    "\n",
    "# delete any existing index\n",
    "sing.delete_index()\n",
    "\n",
    "# create a the index_name index and return ES results\n",
    "print(\"Created {}\\n{}\\n\".format(index_name, sing.create_index()))\n",
    "\n",
    "# insert all log entries into index\n",
    "for log in log_entries:\n",
    "    sing.insert_log_entry(log)\n",
    "\n",
    "time.sleep(3)\n",
    "print(sing.count())"
   ]
  },
  {
   "cell_type": "markdown",
   "metadata": {},
   "source": [
    "### Coordinates"
   ]
  },
  {
   "cell_type": "code",
   "execution_count": 2,
   "metadata": {
    "collapsed": false,
    "scrolled": true
   },
   "outputs": [],
   "source": [
    "class Coord(object):\n",
    "    \"\"\" Handles a latitude/longitude coordinate pair. \"\"\"\n",
    "    def __init__(self, *data):\n",
    "        print(len(data))\n",
    "        if len(data) == 1:\n",
    "            coord_str = data[0][7:-1].split()\n",
    "            self.lat = float(coord_str[1])\n",
    "            self.lon = float(coord_str[0])\n",
    "        elif len(data) == 2:\n",
    "            self.lat = float(data[0])\n",
    "            self.lon = float(data[1])\n",
    "        else:\n",
    "            raise \n",
    "        \n",
    "    def __repr__(self):\n",
    "        return \"({:.5f}, {:.5f})\".format(self.lat, self.lon)"
   ]
  },
  {
   "cell_type": "markdown",
   "metadata": {},
   "source": [
    "### Log Entry"
   ]
  },
  {
   "cell_type": "code",
   "execution_count": 3,
   "metadata": {
    "collapsed": true
   },
   "outputs": [],
   "source": [
    "class LogEntry(object):\n",
    "    \"\"\" A data model/structure for a log entry. \"\"\"\n",
    "    def __init__(self, \n",
    "                 index=None,\n",
    "                 log_level=None,\n",
    "                 message_date=None,\n",
    "                 app_id=None,\n",
    "                 instance_id=None,\n",
    "                 data=None):\n",
    "        self.index = index\n",
    "        self.log_level = log_level\n",
    "        self.message_date = message_date\n",
    "        self.app_id = app_id\n",
    "        self.instance_id = instance_id\n",
    "        self.data = data\n",
    "\n",
    "    def __repr__(self):\n",
    "        header = \"=\" * 70 + \"\\n\"\n",
    "        body1 = \"index:\\n{}\\n\\nlog_level:\\n{}\\n\\nmessage_date:\\n{}\\n\\n\"\\\n",
    "                    .format(self.index, self.log_level, self.message_date)\n",
    "        body2 = \"app_id:\\n{}\\n\\ninstance_id:\\n{}\\n\\ndata:\\n{}\\n\"\\\n",
    "                    .format(self.app_id, self.instance_id, self.data)\n",
    "        footer = \"-\" * 70 + \"\\n\"\n",
    "        \n",
    "        return header + body1 + body2 + footer\n"
   ]
  },
  {
   "cell_type": "code",
   "execution_count": 11,
   "metadata": {
    "collapsed": false
   },
   "outputs": [
    {
     "name": "stdout",
     "output_type": "stream",
     "text": [
      "Number of log entries:  0\n",
      "\n"
     ]
    }
   ],
   "source": [
    "import elasticsearch\n",
    "from elasticsearch import Elasticsearch\n",
    "\n",
    "s = Elasticsearch(['http://search-01.ec2.internal:9200'])\n",
    "results = s.search(\"singularity_logs\")['hits']\n",
    "print(\"Number of log entries:  {}\\n\"\\\n",
    "          .format(s.count(\"singularity_logs\")['count']))\n",
    "\n",
    "for entry in results['hits'][:4]:\n",
    "    for element in entry:\n",
    "        print(element, entry[element])\n",
    "    print()"
   ]
  },
  {
   "cell_type": "code",
   "execution_count": 9,
   "metadata": {
    "collapsed": false
   },
   "outputs": [
    {
     "data": {
      "text/plain": [
       "{u'singularity_logs': {u'mappings': {u'log_entry': {u'properties': {u'data': {u'properties': {u'BBOX_WKT': {u'type': u'geo_shape'},\n",
       "       u'BBOX_WKT2': {u'type': u'geo_shape'},\n",
       "       u'RSV_IP_ADDRESS': {u'store': True, u'type': u'ip'},\n",
       "       u'destIP': {u'store': True, u'type': u'ip'},\n",
       "       u'point': {u'type': u'geo_point'}}}}}}}}"
      ]
     },
     "execution_count": 9,
     "metadata": {},
     "output_type": "execute_result"
    }
   ],
   "source": [
    "from elasticsearch import Elasticsearch\n",
    "es = Elasticsearch(['http://search-01.ec2.internal:9200'])\n",
    "es.indices.get_mapping(\"singularity_logs\")"
   ]
  },
  {
   "cell_type": "code",
   "execution_count": 17,
   "metadata": {
    "collapsed": false
   },
   "outputs": [],
   "source": [
    "import shapely\n",
    "polyshape = shapely.wkt.loads(\"POINT (78.259205566406 33.621632812500)\")\n",
    "geo_point = shapely.geometry.mapping(polyshape)"
   ]
  },
  {
   "cell_type": "code",
   "execution_count": 21,
   "metadata": {
    "collapsed": true
   },
   "outputs": [],
   "source": [
    "lon, lat = geo_point['coordinates']"
   ]
  },
  {
   "cell_type": "code",
   "execution_count": 22,
   "metadata": {
    "collapsed": false
   },
   "outputs": [
    {
     "name": "stdout",
     "output_type": "stream",
     "text": [
      "78.2592055664 33.6216328125\n"
     ]
    }
   ],
   "source": [
    "print(lon, lat)"
   ]
  },
  {
   "cell_type": "code",
   "execution_count": null,
   "metadata": {
    "collapsed": true
   },
   "outputs": [],
   "source": []
  }
 ],
 "metadata": {
  "kernelspec": {
   "display_name": "Python 2",
   "language": "python",
   "name": "python2"
  },
  "language_info": {
   "codemirror_mode": {
    "name": "ipython",
    "version": 2
   },
   "file_extension": ".py",
   "mimetype": "text/x-python",
   "name": "python",
   "nbconvert_exporter": "python",
   "pygments_lexer": "ipython2",
   "version": "2.7.9"
  }
 },
 "nbformat": 4,
 "nbformat_minor": 0
}
