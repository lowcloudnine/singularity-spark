{
 "cells": [
  {
   "cell_type": "markdown",
   "metadata": {},
   "source": [
    "## Imports"
   ]
  },
  {
   "cell_type": "code",
   "execution_count": null,
   "metadata": {
    "collapsed": false
   },
   "outputs": [],
   "source": [
    "%pylab inline\n",
    "\n",
    "from __future__ import absolute_import\n",
    "from __future__ import division\n",
    "from __future__ import print_function\n",
    "\n",
    "from future.builtins import (bytes, str, open, super, range,\n",
    "                      zip, round, input, int, pow, object)\n",
    "\n",
    "if sys.version_info.major == 2:\n",
    "    # in Python 2 cPickle is much faster than pickle but doesn't \n",
    "    # deal w/ unicode\n",
    "    import cPickle as pickle\n",
    "else:\n",
    "    # Python 3 loads the faster pickle by default if it's available\n",
    "    import pickle\n",
    "\n",
    "# ---- Standard Libraries not included in pylab\n",
    "import collections\n",
    "import json\n",
    "import random\n",
    "import time\n",
    "\n",
    "# ---- Extra Libraries for additional functionality\n",
    "import elasticsearch\n",
    "from elasticsearch import Elasticsearch\n",
    "\n",
    "# setup es for use through the notebook\n",
    "es = Elasticsearch(['http://search-01.ec2.internal:9200'])\n",
    "\n",
    "\n",
    "# -------1---------2---------3---------4---------5---------6---------7---------8"
   ]
  },
  {
   "cell_type": "markdown",
   "metadata": {},
   "source": [
    "## ElasticSearch Experimentation"
   ]
  },
  {
   "cell_type": "code",
   "execution_count": 1,
   "metadata": {
    "collapsed": false
   },
   "outputs": [
    {
     "data": {
      "text/plain": [
       "<pyspark.context.SparkContext at 0x7fc4fcf84110>"
      ]
     },
     "execution_count": 1,
     "metadata": {},
     "output_type": "execute_result"
    }
   ],
   "source": [
    "sc"
   ]
  },
  {
   "cell_type": "code",
   "execution_count": 3,
   "metadata": {
    "collapsed": false
   },
   "outputs": [
    {
     "data": {
      "text/plain": [
       "10000"
      ]
     },
     "execution_count": 3,
     "metadata": {},
     "output_type": "execute_result"
    }
   ],
   "source": [
    "import random\n",
    "rdd = sc.parallelize([random.randint(1, 26) for x in range(10000)])\n",
    "rdd.count()"
   ]
  },
  {
   "cell_type": "code",
   "execution_count": null,
   "metadata": {
    "collapsed": true
   },
   "outputs": [],
   "source": []
  }
 ],
 "metadata": {
  "kernelspec": {
   "display_name": "Python 2",
   "language": "python",
   "name": "python2"
  },
  "language_info": {
   "codemirror_mode": {
    "name": "ipython",
    "version": 2
   },
   "file_extension": ".py",
   "mimetype": "text/x-python",
   "name": "python",
   "nbconvert_exporter": "python",
   "pygments_lexer": "ipython2",
   "version": "2.7.9"
  }
 },
 "nbformat": 4,
 "nbformat_minor": 0
}
