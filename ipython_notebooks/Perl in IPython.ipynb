{
 "metadata": {
  "name": "",
  "signature": "sha256:0dba2275516816c72e585575ca45ecb5508df98c1409c07b625411b797e3689e"
 },
 "nbformat": 3,
 "nbformat_minor": 0,
 "worksheets": [
  {
   "cells": [
    {
     "cell_type": "code",
     "collapsed": false,
     "input": [
      "%%perl\n",
      "\n",
      "$base = \"my_html_\";\n",
      "$num = 5;\n",
      "\n",
      "for ($i=1; $i <= $num; $i++) {\n",
      "\n",
      "    open(HTML, \">$base$i.html\");\n",
      "\n",
      "    if($i==$num) {\n",
      "        $next = 1;\n",
      "    } else {\n",
      "        $next = $i+1;\n",
      "    }\n",
      "\n",
      "    print HTML \"<html>\\n<head>\\n<title>$base$i</title>\\n</head>\\n<body>\\n\";\n",
      "    print HTML \"<a href=\\\"$base$next.html\\\"><img src=\\\"$base$i.jpg\\\"></a>\\n\";\n",
      "    print HTML \"</body>\\n</html>\\n\";\n",
      "\n",
      "    close(HTML);\n",
      "}"
     ],
     "language": "python",
     "metadata": {},
     "outputs": [],
     "prompt_number": 1
    },
    {
     "cell_type": "code",
     "collapsed": false,
     "input": [
      "ls"
     ],
     "language": "python",
     "metadata": {},
     "outputs": [
      {
       "output_type": "stream",
       "stream": "stdout",
       "text": [
        "Bash in IPython.ipynb          ljykhgh.ipynb   my_html_4.html         R in IPython.ipynb           \u001b[0m\u001b[01;34mtests\u001b[0m/\r\n",
        "c1_initial_tests.ipynb         \u001b[01;34mmunging\u001b[0m/        my_html_5.html         Ruby in IPython.ipynb        \u001b[01;34mutils\u001b[0m/\r\n",
        "JavaScript in IPython.ipynb    my_html_1.html  Perl in IPython.ipynb  Scikit-Learn Tutorial.ipynb\r\n",
        "Learning RDDs in Python.ipynb  my_html_2.html  \u001b[01;34mpickles\u001b[0m/               SparkContext Info.ipynb\r\n",
        "Learning to Plot.ipynb         my_html_3.html  \u001b[01;34mresults\u001b[0m/               Structures of GSOD.ipynb\r\n",
        "\u001b[m"
       ]
      }
     ],
     "prompt_number": 2
    },
    {
     "cell_type": "code",
     "collapsed": false,
     "input": [
      "cat my_html_1.html"
     ],
     "language": "python",
     "metadata": {},
     "outputs": [
      {
       "output_type": "stream",
       "stream": "stdout",
       "text": [
        "<html>\r\n",
        "<head>\r\n",
        "<title>my_html_1</title>\r\n",
        "</head>\r\n",
        "<body>\r\n",
        "<a href=\"my_html_2.html\"><img src=\"my_html_1.jpg\"></a>\r\n",
        "</body>\r\n",
        "</html>\r\n"
       ]
      }
     ],
     "prompt_number": 3
    },
    {
     "cell_type": "code",
     "collapsed": false,
     "input": [],
     "language": "python",
     "metadata": {},
     "outputs": []
    }
   ],
   "metadata": {}
  }
 ]
}