{
 "metadata": {
  "name": "",
  "signature": "sha256:56beb5c7a7c7598722ef6d5e5a65091751e25dfbc3488ecc71637be20ab52f8d"
 },
 "nbformat": 3,
 "nbformat_minor": 0,
 "worksheets": [
  {
   "cells": [
    {
     "cell_type": "code",
     "collapsed": false,
     "input": [
      "%pylab inline\n",
      "\n",
      "from sklearn import datasets\n",
      "from sklearn import svm\n",
      "\n",
      "iris = datasets.load_iris()\n",
      "digits = datasets.load_digits()"
     ],
     "language": "python",
     "metadata": {},
     "outputs": [],
     "prompt_number": 9
    },
    {
     "cell_type": "code",
     "collapsed": false,
     "input": [
      "clf = svm.SVC(gamma=0.001, C=100.)\n",
      "clf.fit(digits.data[:-1], digits.target[:-1])"
     ],
     "language": "python",
     "metadata": {},
     "outputs": [
      {
       "metadata": {},
       "output_type": "pyout",
       "prompt_number": 19,
       "text": [
        "SVC(C=100.0, cache_size=200, class_weight=None, coef0=0.0, degree=3,\n",
        "  gamma=0.001, kernel='rbf', max_iter=-1, probability=False,\n",
        "  random_state=None, shrinking=True, tol=0.001, verbose=False)"
       ]
      }
     ],
     "prompt_number": 19
    },
    {
     "cell_type": "code",
     "collapsed": false,
     "input": [
      "clf.predict(digits.data[-1])"
     ],
     "language": "python",
     "metadata": {},
     "outputs": [
      {
       "metadata": {},
       "output_type": "pyout",
       "prompt_number": 20,
       "text": [
        "array([8])"
       ]
      }
     ],
     "prompt_number": 20
    },
    {
     "cell_type": "code",
     "collapsed": false,
     "input": [
      "for _i in range(100, 105):\n",
      "    plt.figure(1, figsize=(3, 3))\n",
      "    plt.imshow(digits.images[_i], cmap=plt.cm.gray_r, interpolation='nearest')\n",
      "    plt.show()\n",
      "    print(clf.predict(digits.data[_i]))"
     ],
     "language": "python",
     "metadata": {},
     "outputs": [
      {
       "metadata": {},
       "output_type": "display_data",
       "png": "[encoded data removed]",
       "text": [
        "<matplotlib.figure.Figure at 0x7f6ffd32b690>"
       ]
      },
      {
       "output_type": "stream",
       "stream": "stdout",
       "text": [
        "[4]\n"
       ]
      },
      {
       "metadata": {},
       "output_type": "display_data",
       "png": "[encoded data removed]",
       "text": [
        "<matplotlib.figure.Figure at 0x7f6ffd391f90>"
       ]
      },
      {
       "output_type": "stream",
       "stream": "stdout",
       "text": [
        "[0]\n"
       ]
      },
      {
       "metadata": {},
       "output_type": "display_data",
       "png": "[encoded data removed]",
       "text": [
        "<matplotlib.figure.Figure at 0x7f6ffd1a1190>"
       ]
      },
      {
       "output_type": "stream",
       "stream": "stdout",
       "text": [
        "[5]\n"
       ]
      },
      {
       "metadata": {},
       "output_type": "display_data",
       "png": "[encoded data removed]",
       "text": [
        "<matplotlib.figure.Figure at 0x7f6ffd3a8110>"
       ]
      },
      {
       "output_type": "stream",
       "stream": "stdout",
       "text": [
        "[3]\n"
       ]
      },
      {
       "metadata": {},
       "output_type": "display_data",
       "png": "[encoded data removed]",
       "text": [
        "<matplotlib.figure.Figure at 0x7f6ffd3ee090>"
       ]
      },
      {
       "output_type": "stream",
       "stream": "stdout",
       "text": [
        "[6]\n"
       ]
      }
     ],
     "prompt_number": 25
    },
    {
     "cell_type": "code",
     "collapsed": false,
     "input": [],
     "language": "python",
     "metadata": {},
     "outputs": []
    }
   ],
   "metadata": {}
  }
 ]
}