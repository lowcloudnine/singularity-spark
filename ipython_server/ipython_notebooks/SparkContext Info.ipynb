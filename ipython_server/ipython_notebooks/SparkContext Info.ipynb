{
 "metadata": {
  "name": "",
  "signature": "sha256:d4d9d9dd6f7f03c0110d50042cddc855d89de6dd5db970b34284240316d2ae7a"
 },
 "nbformat": 3,
 "nbformat_minor": 0,
 "worksheets": [
  {
   "cells": [
    {
     "cell_type": "code",
     "collapsed": false,
     "input": [
      "sc"
     ],
     "language": "python",
     "metadata": {},
     "outputs": [
      {
       "metadata": {},
       "output_type": "pyout",
       "prompt_number": 1,
       "text": [
        "<pyspark.context.SparkContext at 0x7f921b9af850>"
       ]
      }
     ],
     "prompt_number": 1
    },
    {
     "cell_type": "code",
     "collapsed": false,
     "input": [
      "def sparkcontext_info(sc):\n",
      "    settings = []\n",
      "    \n",
      "    settings.append(\"Spark Configuration\\n\")\n",
      "    settings.append(\"=\" * 72 + \"\\n\")\n",
      "    for name, value in sc._conf.getAll():\n",
      "        if len(value) > 68:\n",
      "            value = value[:32] + \" .. \" + value[-32:]\n",
      "        settings.append(\"{:<30}\\n    {:>}\\n\".format(name, value))\n",
      "    settings.append(\"=\" * 72 + \"\\n\")\n",
      "    \n",
      "    return \"\".join(settings)\n",
      "\n",
      "print(sparkcontext_info(sc))\n",
      "\n",
      "# from __future__ import print_function\n",
      "\n",
      "# for setting_name, setting_value in sc._conf.getAll():\n",
      "#     if setting_value.startswith(\"/opt/cloudera\"):\n",
      "#         setting_value = setting_value[-17:]\n",
      "#     print(\"-+-   {0:<35}\\t{1:>20}\".format(setting_name[6:], setting_value))"
     ],
     "language": "python",
     "metadata": {},
     "outputs": [
      {
       "output_type": "stream",
       "stream": "stdout",
       "text": [
        "Spark Configuration\n",
        "========================================================================\n",
        "spark.executor.extraLibraryPath\n",
        "    /opt/cloudera/parcels/CDH-5.3.1- .. 5.3.1.p0.5/lib/hadoop/lib/native\n",
        "spark.executor.memory         \n",
        "    2g\n",
        "spark.driver.extraLibraryPath \n",
        "    /opt/cloudera/parcels/CDH-5.3.1- .. 5.3.1.p0.5/lib/hadoop/lib/native\n",
        "spark.executor.instances      \n",
        "    8\n",
        "spark.serializer.objectStreamReset\n",
        "    100\n",
        "spark.eventLog.enabled        \n",
        "    true\n",
        "spark.yarn.historyServer.address\n",
        "    http://c1-master.ec2.internal:18088\n",
        "spark.cores.max               \n",
        "    8\n",
        "spark.rdd.compress            \n",
        "    True\n",
        "spark.app.name                \n",
        "    PySparkShell\n",
        "spark.eventLog.dir            \n",
        "    hdfs://c1-master.ec2.internal:80 .. 20/user/spark/applicationHistory\n",
        "spark.master                  \n",
        "    yarn-client\n",
        "========================================================================\n",
        "\n"
       ]
      }
     ],
     "prompt_number": 20
    },
    {
     "cell_type": "code",
     "collapsed": false,
     "input": [],
     "language": "python",
     "metadata": {},
     "outputs": []
    }
   ],
   "metadata": {}
  }
 ]
}