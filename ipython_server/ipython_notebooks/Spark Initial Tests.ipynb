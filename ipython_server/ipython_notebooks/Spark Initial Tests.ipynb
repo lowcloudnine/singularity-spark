{
 "metadata": {
  "name": "",
  "signature": "sha256:dd0366bc8df437ac0670de56480a73f9046c065a66dfc24d5bd7b544de9163e5"
 },
 "nbformat": 3,
 "nbformat_minor": 0,
 "worksheets": [
  {
   "cells": [
    {
     "cell_type": "heading",
     "level": 2,
     "metadata": {},
     "source": [
      "Imports"
     ]
    },
    {
     "cell_type": "code",
     "collapsed": false,
     "input": [
      "%pylab inline\n",
      "\n",
      "from __future__ import absolute_import\n",
      "from __future__ import division\n",
      "from __future__ import print_function\n",
      "\n",
      "from future.builtins import (bytes, str, open, super, range,\n",
      "                      zip, round, input, int, pow, object)\n",
      "\n",
      "if sys.version_info.major == 2:\n",
      "    # in Python 2 cPickle is much faster than pickle but doesn't deal w/ unicode\n",
      "    import cPickle as pickle\n",
      "else:\n",
      "    # Python 3 loads the faster pickle by default if it's available\n",
      "    import pickle\n",
      "\n",
      "import random\n",
      "import time"
     ],
     "language": "python",
     "metadata": {},
     "outputs": [
      {
       "output_type": "stream",
       "stream": "stdout",
       "text": [
        "Populating the interactive namespace from numpy and matplotlib\n"
       ]
      },
      {
       "output_type": "stream",
       "stream": "stderr",
       "text": [
        "WARNING: pylab import has clobbered these variables: ['random', 'bytes']\n",
        "`%matplotlib` prevents importing * from pylab and numpy\n"
       ]
      }
     ],
     "prompt_number": 22
    },
    {
     "cell_type": "heading",
     "level": 2,
     "metadata": {},
     "source": [
      "Simple test for Functionality"
     ]
    },
    {
     "cell_type": "code",
     "collapsed": false,
     "input": [
      "def obs_count(year):\n",
      "    \"\"\" Returns the number of observations in a given year. \"\"\"\n",
      "    start_time = time.time()\n",
      "    obs = sc.textFile(\"/user/schiefjm/weather/gsod/\" + str(year))\n",
      "    the_count = obs.count()\n",
      "    end_time = time.time() - start_time\n",
      "    \n",
      "    # print(\"There were {:,} observations in {}.\".format(the_count, year))\n",
      "    # print(\"It took {:.2f} seconds to count them.\".format(end_time))\n",
      "    \n",
      "    return year, the_count, round(end_time, 3)"
     ],
     "language": "python",
     "metadata": {},
     "outputs": [],
     "prompt_number": 36
    },
    {
     "cell_type": "code",
     "collapsed": false,
     "input": [
      "def obs_count_test(num_tests, years):\n",
      "    all_results = []\n",
      "    for year in years:\n",
      "        results = []\n",
      "        for test in range(num_tests):\n",
      "            results.append(obs_count(year))\n",
      "        all_results.append(results)\n",
      "    \n",
      "    return all_results\n",
      "\n",
      "def generate_test_results(all_results):\n",
      "    print(\"Year\\tObs\\tTests\\tMin\\tMax\\tAvg\")\n",
      "    print(\"*\" * 45)\n",
      "    for result in all_results:\n",
      "        year = result[0][0]\n",
      "        num_obs = result[0][1]\n",
      "        num_tests = len(result)\n",
      "        run_times = [test[2] for test in result]\n",
      "        print(\"{}\\t{:,}\\t{}\\t{:.2f}\\t{:.2f}\\t{:.2f}\\t\"\\\n",
      "              .format(year, \n",
      "                      num_obs, \n",
      "                      num_tests, \n",
      "                      min(run_times), \n",
      "                      max(run_times), \n",
      "                      sum(run_times)/num_tests))\n",
      "    \n",
      "generate_test_results(obs_count_test(100, [1930, 1932, 1934, 1940, 1950]))"
     ],
     "language": "python",
     "metadata": {},
     "outputs": [
      {
       "output_type": "stream",
       "stream": "stdout",
       "text": [
        "Year\tObs\tTests\tMin\tMax\tAvg\n",
        "*********************************************\n",
        "1930\t7,308\t100\t0.29\t0.39\t0.35\t\n",
        "1932\t10,970\t100\t0.50\t0.60\t0.53\t\n",
        "1934\t21,027\t100\t1.26\t1.40\t1.30\t\n",
        "1940\t91,280\t100\t3.54\t4.44\t3.62\t\n",
        "1950\t493,033\t100\t18.25\t18.94\t18.43\t\n"
       ]
      }
     ],
     "prompt_number": 52
    },
    {
     "cell_type": "heading",
     "level": 2,
     "metadata": {},
     "source": [
      "Calculate Mean, Minimum and Maximum Temperatures"
     ]
    },
    {
     "cell_type": "code",
     "collapsed": false,
     "input": [
      "# Since Spark is being run local no need to specify a HDFS server.\n",
      "\n",
      "def global_summary(year):\n",
      "    \"\"\" Given a year will return a list of the mean temp, min temp, max temp\n",
      "    and more as it expands.\n",
      "\n",
      "    This will use one (hopefully) persistent RDD so it should be faster than\n",
      "    using the individual functions above.\n",
      "\n",
      "    \"\"\"\n",
      "    obs_rdd = sc.textFile(\"/user/schiefjm/weather/gsod/\" + str(year))\\\n",
      "                         .filter(lambda line: \"STN\" not in line)\n",
      "    num_obs = obs_rdd.count()\n",
      "\n",
      "    sum_of_temps = obs_rdd.map(lambda line: float(line.split()[3]))\\\n",
      "                          .reduce(lambda x, y: x + y)\n",
      "    mean_temp = round(sum_of_temps / num_obs, 2)\n",
      "\n",
      "    max_temp = obs_rdd.map(lambda line: float(line.split()[17].strip(\"*\")))\\\n",
      "                       .filter(lambda x: x < 160)\\\n",
      "                       .reduce(lambda x, y: x if x > y else y)\n",
      "    min_temp = obs_rdd.map(lambda line: float(line.split()[18].strip(\"*\")))\\\n",
      "                       .filter(lambda x: x != 999.9)\\\n",
      "                       .reduce(lambda x, y: x if x < y else y)\n",
      "\n",
      "    return [year, mean_temp, min_temp, max_temp, num_obs]"
     ],
     "language": "python",
     "metadata": {},
     "outputs": [],
     "prompt_number": 25
    },
    {
     "cell_type": "code",
     "collapsed": false,
     "input": [
      "start_year = 1961\n",
      "stop_year = 1970\n",
      "\n",
      "start_time = time.time()\n",
      "\n",
      "summary = []\n",
      "for year in range(start_year, stop_year + 1):\n",
      "    summary.append(global_summary(year))\n",
      "\n",
      "print(\"Temperature summaries for {} to {} took {:.2f} seconds to run.\"\\\n",
      "      .format(start_year, stop_year, time.time() - start_time))\n",
      "\n",
      "summary_pickle = \"summary_\" + str(start_year) + \"to\" + str(stop_year) + \".pkl\"\n",
      "pickle.dump(summary, open(summary_pickle, \"wb\"))\n",
      "print(\"Created a pickle of the summary: {}\".format(summary_pickle))"
     ],
     "language": "python",
     "metadata": {},
     "outputs": [
      {
       "output_type": "stream",
       "stream": "stdout",
       "text": [
        "Temperature summaries for 1961 to 1970 took 1244.82 seconds to run.\n",
        "Created a pickle of the summary: summary_1961to1970.pkl\n"
       ]
      }
     ],
     "prompt_number": 28
    }
   ],
   "metadata": {}
  }
 ]
}