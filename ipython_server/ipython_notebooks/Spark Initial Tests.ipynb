{
 "metadata": {
  "name": "",
  "signature": "sha256:c5a04b803cbf4a2f7ca7f3f2336fed1554945723cbb4f4a3cc6db73d9f2d3c47"
 },
 "nbformat": 3,
 "nbformat_minor": 0,
 "worksheets": [
  {
   "cells": [
    {
     "cell_type": "heading",
     "level": 2,
     "metadata": {},
     "source": [
      "Imports"
     ]
    },
    {
     "cell_type": "code",
     "collapsed": false,
     "input": [
      "%pylab inline\n",
      "\n",
      "from __future__ import absolute_import\n",
      "from __future__ import division\n",
      "from __future__ import print_function\n",
      "\n",
      "from future.builtins import (bytes, str, open, super, range,\n",
      "                      zip, round, input, int, pow, object)\n",
      "\n",
      "if sys.version_info.major == 2:\n",
      "    # in Python 2 cPickle is much faster than pickle but doesn't deal w/ unicode\n",
      "    import cPickle as pickle\n",
      "else:\n",
      "    # Python 3 loads the faster pickle by default if it's available\n",
      "    import pickle\n",
      "\n",
      "import random\n",
      "import time"
     ],
     "language": "python",
     "metadata": {},
     "outputs": [
      {
       "output_type": "stream",
       "stream": "stdout",
       "text": [
        "Populating the interactive namespace from numpy and matplotlib\n"
       ]
      },
      {
       "output_type": "stream",
       "stream": "stderr",
       "text": [
        "WARNING: pylab import has clobbered these variables: ['random', 'bytes']\n",
        "`%matplotlib` prevents importing * from pylab and numpy\n"
       ]
      }
     ],
     "prompt_number": 22
    },
    {
     "cell_type": "heading",
     "level": 2,
     "metadata": {},
     "source": [
      "Simple test for Functionality"
     ]
    },
    {
     "cell_type": "code",
     "collapsed": false,
     "input": [
      "def obs_count(year):\n",
      "    \"\"\" Returns the number of observations in a given year. \"\"\"\n",
      "    start_time = time.time()\n",
      "    obs = sc.textFile(\"/user/schiefjm/weather/gsod/\" + str(year))\n",
      "    the_count = obs.count()\n",
      "    print(\"There were {:,} observations in {}.\".format(the_count, year))\n",
      "    print(\"It took {:.2f} seconds to count them.\".format(time.time() - start_time))\n",
      "    \n",
      "    return the_count"
     ],
     "language": "python",
     "metadata": {},
     "outputs": [],
     "prompt_number": 23
    },
    {
     "cell_type": "code",
     "collapsed": false,
     "input": [
      "for year in [1935, 1995]:\n",
      "    obs_count(year)"
     ],
     "language": "python",
     "metadata": {},
     "outputs": [
      {
       "output_type": "stream",
       "stream": "stdout",
       "text": [
        "There were 27,500 observations in 1935.\n",
        "It took 1.65 seconds to count them.\n",
        "There were 2,538,530 observations in 1995."
       ]
      },
      {
       "output_type": "stream",
       "stream": "stdout",
       "text": [
        "\n",
        "It took 97.08 seconds to count them.\n"
       ]
      }
     ],
     "prompt_number": 24
    },
    {
     "cell_type": "heading",
     "level": 2,
     "metadata": {},
     "source": [
      "Calculate Mean, Minimum and Maximum Temperatures"
     ]
    },
    {
     "cell_type": "code",
     "collapsed": false,
     "input": [
      "# Since Spark is being run local no need to specify a HDFS server.\n",
      "\n",
      "def global_summary(year):\n",
      "    \"\"\" Given a year will return a list of the mean temp, min temp, max temp\n",
      "    and more as it expands.\n",
      "\n",
      "    This will use one (hopefully) persistent RDD so it should be faster than\n",
      "    using the individual functions above.\n",
      "\n",
      "    \"\"\"\n",
      "    obs_rdd = sc.textFile(\"/user/schiefjm/weather/gsod/\" + str(year))\\\n",
      "                         .filter(lambda line: \"STN\" not in line)\n",
      "    num_obs = obs_rdd.count()\n",
      "\n",
      "    sum_of_temps = obs_rdd.map(lambda line: float(line.split()[3]))\\\n",
      "                          .reduce(lambda x, y: x + y)\n",
      "    mean_temp = round(sum_of_temps / num_obs, 2)\n",
      "\n",
      "    max_temp = obs_rdd.map(lambda line: float(line.split()[17].strip(\"*\")))\\\n",
      "                       .filter(lambda x: x < 160)\\\n",
      "                       .reduce(lambda x, y: x if x > y else y)\n",
      "    min_temp = obs_rdd.map(lambda line: float(line.split()[18].strip(\"*\")))\\\n",
      "                       .filter(lambda x: x != 999.9)\\\n",
      "                       .reduce(lambda x, y: x if x < y else y)\n",
      "\n",
      "    return [year, mean_temp, min_temp, max_temp, num_obs]"
     ],
     "language": "python",
     "metadata": {},
     "outputs": [],
     "prompt_number": 25
    },
    {
     "cell_type": "code",
     "collapsed": false,
     "input": [
      "start_year = 1961\n",
      "stop_year = 1970\n",
      "\n",
      "start_time = time.time()\n",
      "\n",
      "summary = []\n",
      "for year in range(start_year, stop_year + 1):\n",
      "    summary.append(global_summary(year))\n",
      "\n",
      "print(\"Temperature summaries for {} to {} took {:.2f} seconds to run.\"\\\n",
      "      .format(start_year, stop_year, time.time() - start_time))\n",
      "\n",
      "summary_pickle = \"summary_\" + str(start_year) + \"to\" + str(stop_year) + \".pkl\"\n",
      "pickle.dump(summary, open(summary_pickle, \"wb\"))\n",
      "print(\"Created a pickle of the summary: {}\".format(summary_pickle))"
     ],
     "language": "python",
     "metadata": {},
     "outputs": [
      {
       "output_type": "stream",
       "stream": "stdout",
       "text": [
        "Temperature summaries for 1961 to 1970 took 1244.82 seconds to run.\n",
        "Created a pickle of the summary: summary_1961to1970.pkl\n"
       ]
      }
     ],
     "prompt_number": 28
    },
    {
     "cell_type": "code",
     "collapsed": false,
     "input": [],
     "language": "python",
     "metadata": {},
     "outputs": []
    }
   ],
   "metadata": {}
  }
 ]
}