{
 "metadata": {
  "name": "",
  "signature": "sha256:01e529f17b3d60306a13e551e5556e906c9d82ddfe0967c3b14e263400ade655"
 },
 "nbformat": 3,
 "nbformat_minor": 0,
 "worksheets": [
  {
   "cells": [
    {
     "cell_type": "code",
     "collapsed": false,
     "input": [
      "%pylab inline\n",
      "\n",
      "from __future__ import absolute_import\n",
      "from __future__ import division\n",
      "from __future__ import print_function\n",
      "\n",
      "from future.builtins import (bytes, str, open, super, range,\n",
      "                      zip, round, input, int, pow, object)\n",
      "\n",
      "import random\n",
      "import time"
     ],
     "language": "python",
     "metadata": {},
     "outputs": [
      {
       "output_type": "stream",
       "stream": "stdout",
       "text": [
        "Populating the interactive namespace from numpy and matplotlib\n"
       ]
      }
     ],
     "prompt_number": 1
    },
    {
     "cell_type": "code",
     "collapsed": false,
     "input": [
      "years = [x for x in range(1930, 1990)]\n",
      "randoms = [[random.randint(1, 20),\n",
      "            random.randint(30,50),\n",
      "            random.randint(70,100)] for x in range(len(years))]\n",
      "\n",
      "plot_me = zip(years, randoms)"
     ],
     "language": "python",
     "metadata": {},
     "outputs": [],
     "prompt_number": 2
    },
    {
     "cell_type": "code",
     "collapsed": false,
     "input": [
      "for year, random in plot_me:\n",
      "    print(year, random)"
     ],
     "language": "python",
     "metadata": {},
     "outputs": [
      {
       "output_type": "stream",
       "stream": "stdout",
       "text": [
        "1930 [10, 39, 98]\n",
        "1931 [10, 45, 70]\n",
        "1932 [15, 39, 93]\n",
        "1933 [19, 49, 78]\n",
        "1934 [11, 48, 77]\n",
        "1935 [4, 36, 85]\n",
        "1936 [19, 34, 93]\n",
        "1937 [2, 40, 76]\n",
        "1938 [3, 43, 80]\n",
        "1939 [18, 43, 78]\n",
        "1940 [9, 32, 91]\n",
        "1941 [4, 35, 76]\n",
        "1942 [6, 31, 93]\n",
        "1943 [17, 41, 81]\n",
        "1944 [5, 34, 89]\n",
        "1945 [3, 45, 89]\n",
        "1946 [10, 49, 86]\n",
        "1947 [18, 30, 99]\n",
        "1948 [1, 49, 97]\n",
        "1949 [14, 49, 92]\n",
        "1950 [11, 44, 89]\n",
        "1951 [7, 35, 74]\n",
        "1952 [9, 39, 84]\n",
        "1953 [2, 46, 95]\n",
        "1954 [19, 33, 73]\n",
        "1955 [15, 31, 96]\n",
        "1956 [6, 41, 88]\n",
        "1957 [16, 46, 73]\n",
        "1958 [17, 38, 91]\n",
        "1959 [19, 40, 75]\n",
        "1960 [3, 43, 84]\n",
        "1961 [5, 45, 86]\n",
        "1962 [12, 44, 76]\n",
        "1963 [19, 38, 98]\n",
        "1964 [5, 47, 73]\n",
        "1965 [6, 43, 76]\n",
        "1966 [13, 34, 81]\n",
        "1967 [16, 34, 73]\n",
        "1968 [18, 35, 79]\n",
        "1969 [12, 40, 98]\n",
        "1970 [8, 35, 73]\n",
        "1971 [18, 37, 78]\n",
        "1972 [16, 37, 77]\n",
        "1973 [8, 38, 91]\n",
        "1974 [14, 37, 97]\n",
        "1975 [4, 36, 98]\n",
        "1976 [16, 42, 73]\n",
        "1977 [6, 36, 80]\n",
        "1978 [6, 34, 98]\n",
        "1979 [10, 49, 73]\n",
        "1980 [13, 48, 88]\n",
        "1981 [15, 36, 73]\n",
        "1982 [10, 43, 71]\n",
        "1983 [12, 37, 89]\n",
        "1984 [8, 35, 75]\n",
        "1985 [18, 30, 82]\n",
        "1986 [12, 45, 97]\n",
        "1987 [14, 30, 94]\n",
        "1988 [8, 40, 94]\n",
        "1989 [13, 48, 84]\n"
       ]
      }
     ],
     "prompt_number": 5
    },
    {
     "cell_type": "code",
     "collapsed": false,
     "input": [],
     "language": "python",
     "metadata": {},
     "outputs": []
    }
   ],
   "metadata": {}
  }
 ]
}