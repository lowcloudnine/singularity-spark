{
 "metadata": {
  "name": "",
  "signature": "sha256:7e4e390be64574ff8979512f59dddccb0889b788469c3058f0df797eae8a08b4"
 },
 "nbformat": 3,
 "nbformat_minor": 0,
 "worksheets": [
  {
   "cells": [
    {
     "cell_type": "heading",
     "level": 2,
     "metadata": {},
     "source": [
      "Imports"
     ]
    },
    {
     "cell_type": "code",
     "collapsed": false,
     "input": [
      "%pylab inline\n",
      "\n",
      "from __future__ import absolute_import\n",
      "from __future__ import division\n",
      "from __future__ import print_function\n",
      "\n",
      "from future.builtins import (bytes, str, open, super, range,\n",
      "                      zip, round, input, int, pow, object)\n",
      "\n",
      "import time"
     ],
     "language": "python",
     "metadata": {},
     "outputs": [
      {
       "output_type": "stream",
       "stream": "stdout",
       "text": [
        "Populating the interactive namespace from numpy and matplotlib\n"
       ]
      },
      {
       "output_type": "stream",
       "stream": "stderr",
       "text": [
        "WARNING: pylab import has clobbered these variables: ['bytes']\n",
        "`%matplotlib` prevents importing * from pylab and numpy\n"
       ]
      }
     ],
     "prompt_number": 18
    },
    {
     "cell_type": "heading",
     "level": 2,
     "metadata": {},
     "source": [
      "Simple test for Functionality"
     ]
    },
    {
     "cell_type": "code",
     "collapsed": false,
     "input": [
      "def obs_count(year):\n",
      "    \"\"\" Returns the number of observations in a given year. \"\"\"\n",
      "    start_time = time.time()\n",
      "    obs = sc.textFile(\"/user/schiefjm/weather/gsod/\" + str(year))\n",
      "    the_count = obs.count()\n",
      "    print(\"There were {:,} observations in {}.\".format(the_count, year))\n",
      "    print(\"It took {:.2f} seconds to count them.\".format(time.time() - start_time))\n",
      "    \n",
      "    return the_count\n"
     ],
     "language": "python",
     "metadata": {},
     "outputs": [
      {
       "output_type": "stream",
       "stream": "stdout",
       "text": [
        "There were 27,500 observations in 1935.\n",
        "It took 1.63 seconds to count them.\n"
       ]
      },
      {
       "metadata": {},
       "output_type": "pyout",
       "prompt_number": 20,
       "text": [
        "27500"
       ]
      }
     ],
     "prompt_number": 20
    },
    {
     "cell_type": "code",
     "collapsed": false,
     "input": [
      "for year in [1935, 1995]:\n",
      "    obs_count(year)"
     ],
     "language": "python",
     "metadata": {},
     "outputs": [
      {
       "output_type": "stream",
       "stream": "stdout",
       "text": [
        "There were 27,500 observations in 1935.\n",
        "It took 1.61 seconds to count them.\n",
        "There were 2,538,530 observations in 1995."
       ]
      },
      {
       "output_type": "stream",
       "stream": "stdout",
       "text": [
        "\n",
        "It took 95.61 seconds to count them.\n"
       ]
      }
     ],
     "prompt_number": 21
    },
    {
     "cell_type": "heading",
     "level": 2,
     "metadata": {},
     "source": [
      "Calculate Mean, Minimum and Maximum Temperatures"
     ]
    },
    {
     "cell_type": "code",
     "collapsed": false,
     "input": [
      "# Since Spark is being run local no need to specify a HDFS server.\n",
      "\n",
      "def global_summary(year):\n",
      "    \"\"\" Given a year will return a list of the mean temp, min temp, max temp\n",
      "    and more as it expands.\n",
      "\n",
      "    This will use one (hopefully) persistent RDD so it should be faster than\n",
      "    using the individual functions above.\n",
      "\n",
      "    \"\"\"\n",
      "    obs_rdd = sc.textFile(\"/user/schiefjm/weather/gsod/\" + str(year))\\\n",
      "                         .filter(lambda line: \"STN\" not in line)\n",
      "    num_obs = obs_rdd.count()\n",
      "\n",
      "    sum_of_temps = obs_rdd.map(lambda line: float(line.split()[3]))\\\n",
      "                          .reduce(lambda x, y: x + y)\n",
      "    mean_temp = round(sum_of_temps / num_obs, 2)\n",
      "\n",
      "    max_temp = obs_rdd.map(lambda line: float(line.split()[17].strip(\"*\")))\\\n",
      "                       .filter(lambda x: x < 160)\\\n",
      "                       .reduce(lambda x, y: x if x > y else y)\n",
      "    min_temp = obs_rdd.map(lambda line: float(line.split()[18].strip(\"*\")))\\\n",
      "                       .filter(lambda x: x != 999.9)\\\n",
      "                       .reduce(lambda x, y: x if x < y else y)\n",
      "\n",
      "    return [year, mean_temp, min_temp, max_temp, num_obs]"
     ],
     "language": "python",
     "metadata": {},
     "outputs": [],
     "prompt_number": 22
    },
    {
     "cell_type": "code",
     "collapsed": false,
     "input": [
      "start_time = time.time()\n",
      "summary = []\n",
      "for year in range(1930, 1950 + 1):\n",
      "    summary.append(global_summary(year))\n",
      "print(\"{:.2f}\".format(time.time() - start_time))"
     ],
     "language": "python",
     "metadata": {},
     "outputs": [
      {
       "output_type": "stream",
       "stream": "stdout",
       "text": [
        "508.36\n"
       ]
      }
     ],
     "prompt_number": 25
    },
    {
     "cell_type": "code",
     "collapsed": false,
     "input": [
      "summary"
     ],
     "language": "python",
     "metadata": {},
     "outputs": [
      {
       "metadata": {},
       "output_type": "pyout",
       "prompt_number": 27,
       "text": [
        "[[1930, 49.86, 19.9, 90.0, 7285],\n",
        " [1931, 49.61, -4.0, 108.3, 9913],\n",
        " [1932, 49.82, -18.0, 102.4, 10931],\n",
        " [1933, 44.92, -56.0, 110.3, 18248],\n",
        " [1934, 45.35, -53.0, 112.3, 20916],\n",
        " [1935, 49.25, -56.0, 118.0, 27357],\n",
        " [1936, 47.51, -56.0, 117.3, 51360],\n",
        " [1937, 44.56, -56.0, 115.0, 84913],\n",
        " [1938, 50.79, -25.6, 106.0, 51912],\n",
        " [1939, 50.28, -47.9, 109.9, 65650],\n",
        " [1940, 48.07, -34.1, 110.7, 90956],\n",
        " [1941, 49.96, -42.5, 115.2, 111750],\n",
        " [1942, 53.61, -63.9, 118.2, 142621],\n",
        " [1943, 56.94, -65.9, 119.3, 224853],\n",
        " [1944, 59.18, -56.0, 123.3, 246069],\n",
        " [1945, 59.91, -56.6, 121.3, 262266],\n",
        " [1946, 56.64, -71.0, 115.3, 144144],\n",
        " [1947, 55.13, -82.5, 120.2, 146456],\n",
        " [1948, 50.72, -78.0, 120.2, 296249],\n",
        " [1949, 50.61, -80.0, 120.0, 442594],\n",
        " [1950, 48.73, -87.0, 120.0, 491354]]"
       ]
      }
     ],
     "prompt_number": 27
    },
    {
     "cell_type": "code",
     "collapsed": false,
     "input": [],
     "language": "python",
     "metadata": {},
     "outputs": []
    }
   ],
   "metadata": {}
  }
 ]
}